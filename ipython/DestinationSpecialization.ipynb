{
 "cells": [
  {
   "cell_type": "code",
   "execution_count": null,
   "metadata": {
    "collapsed": true
   },
   "outputs": [],
   "source": [
    "import sys\n",
    "sys.path.insert(0,\"../python/\")\n",
    "import modeling_utils as mu"
   ]
  },
  {
   "cell_type": "code",
   "execution_count": null,
   "metadata": {
    "collapsed": true
   },
   "outputs": [],
   "source": [
    "import pandas as pd\n",
    "import numpy as np"
   ]
  },
  {
   "cell_type": "code",
   "execution_count": null,
   "metadata": {
    "collapsed": true
   },
   "outputs": [],
   "source": [
    "%matplotlib inline"
   ]
  },
  {
   "cell_type": "code",
   "execution_count": null,
   "metadata": {
    "collapsed": false
   },
   "outputs": [],
   "source": [
    "import sys\n",
    "from datawand.parametrization import ParamHelper\n",
    "ph = ParamHelper(\"../pipelines/EcmlTaxi.json\",sys.argv)"
   ]
  },
  {
   "cell_type": "code",
   "execution_count": null,
   "metadata": {
    "collapsed": false
   },
   "outputs": [],
   "source": [
    "data_folder = ph.get(\"data_folder\")\n",
    "part = ph.get(\"part\")\n",
    "lat_digits = ph.get(\"lat_digits\")\n",
    "lng_digits = ph.get(\"lng_digits\")"
   ]
  },
  {
   "cell_type": "markdown",
   "metadata": {},
   "source": [
    "# 1. Load data with generated features"
   ]
  },
  {
   "cell_type": "code",
   "execution_count": null,
   "metadata": {
    "collapsed": false
   },
   "outputs": [],
   "source": [
    "taxi_trips = pd.read_csv(\"%s/gen_train%s_lng%i_lat%i.csv\" % (data_folder, part, lng_digits, lat_digits))\n",
    "taxi_trips = taxi_trips[['DESTINATION_LAT_FULL','DESTINATION_LNG_FULL','DESTINATION_LAT','DESTINATION_LNG']]"
   ]
  },
  {
   "cell_type": "code",
   "execution_count": null,
   "metadata": {
    "collapsed": false
   },
   "outputs": [],
   "source": [
    "taxi_trips.columns"
   ]
  },
  {
   "cell_type": "code",
   "execution_count": null,
   "metadata": {
    "collapsed": false
   },
   "outputs": [],
   "source": [
    "taxi_trips.head()"
   ]
  },
  {
   "cell_type": "code",
   "execution_count": null,
   "metadata": {
    "collapsed": false
   },
   "outputs": [],
   "source": [
    "lat_splits = sorted(taxi_trips[\"DESTINATION_LAT\"].unique())\n",
    "print 'Unique latitude splits: %i' % len(lat_splits)"
   ]
  },
  {
   "cell_type": "code",
   "execution_count": null,
   "metadata": {
    "collapsed": false
   },
   "outputs": [],
   "source": [
    "lng_splits = sorted(taxi_trips[\"DESTINATION_LNG\"].unique())\n",
    "print 'Unique longitude splits: %i' % len(lng_splits)"
   ]
  },
  {
   "cell_type": "markdown",
   "metadata": {},
   "source": [
    "# 2. Drop invalid data"
   ]
  },
  {
   "cell_type": "code",
   "execution_count": null,
   "metadata": {
    "collapsed": false
   },
   "outputs": [],
   "source": [
    "print len(taxi_trips)\n",
    "taxi_trips = taxi_trips[np.isfinite(taxi_trips[\"DESTINATION_LAT_FULL\"])]\n",
    "print len(taxi_trips)\n",
    "taxi_trips = taxi_trips[np.isfinite(taxi_trips[\"DESTINATION_LNG_FULL\"])]\n",
    "print len(taxi_trips)"
   ]
  },
  {
   "cell_type": "markdown",
   "metadata": {},
   "source": [
    "# 3. Generate location cell keys"
   ]
  },
  {
   "cell_type": "markdown",
   "metadata": {},
   "source": [
    "## a.) For the traing data"
   ]
  },
  {
   "cell_type": "code",
   "execution_count": null,
   "metadata": {
    "collapsed": false
   },
   "outputs": [],
   "source": [
    "def generate_bins(df,col,digits,loc_bounds=None):\n",
    "    eps = 0.0001\n",
    "    prec = np.power(10.0,-1.0 * digits)\n",
    "    print prec\n",
    "    if loc_bounds == None:\n",
    "        loc_min, loc_max = df[col].min(), df[col].max()\n",
    "    else:\n",
    "        loc_min, loc_max = loc_bounds\n",
    "    #loc_splits = np.arange(loc_min-prec,loc_max+prec,prec)\n",
    "    loc_splits = np.arange(loc_min-prec,loc_max+2*prec,prec)\n",
    "    print loc_min, loc_max, len(loc_splits)\n",
    "    return pd.cut(df[col],loc_splits,include_lowest=True,labels=range(len(loc_splits)-1)), (loc_min, loc_max)\n",
    "\n",
    "def generate_loc_key(df,lat_col,lng_col,lat_bounds=None,lng_bounds=None,drop_tmp_keys=True):\n",
    "    df[\"LAT_KEY\"], lat_bounds = generate_bins(df,lat_col,digits=lat_digits,loc_bounds=lat_bounds)\n",
    "    df[\"LNG_KEY\"], lng_bounds = generate_bins(df,lng_col,digits=lng_digits,loc_bounds=lng_bounds)\n",
    "    df[\"LOC_KEY\"] = df.apply(lambda x: \"%s_%s\" % (str(x[\"LAT_KEY\"]),str(x[\"LNG_KEY\"])), axis=1)\n",
    "    if drop_tmp_keys:\n",
    "        df = df.drop([\"LAT_KEY\",\"LNG_KEY\"],axis=1)\n",
    "    print len(df[\"LOC_KEY\"].unique())\n",
    "    return df, lat_bounds, lng_bounds"
   ]
  },
  {
   "cell_type": "code",
   "execution_count": null,
   "metadata": {
    "collapsed": false
   },
   "outputs": [],
   "source": [
    "taxi_trips, LAT_BOUNDS, LNG_BOUNDS = generate_loc_key(taxi_trips,lat_col=\"DESTINATION_LAT_FULL\",lng_col=\"DESTINATION_LNG_FULL\")"
   ]
  },
  {
   "cell_type": "code",
   "execution_count": null,
   "metadata": {
    "collapsed": false
   },
   "outputs": [],
   "source": [
    "taxi_trips.head(2)"
   ]
  },
  {
   "cell_type": "markdown",
   "metadata": {},
   "source": [
    "## b.) Apply these cells for GBT model predictions"
   ]
  },
  {
   "cell_type": "code",
   "execution_count": null,
   "metadata": {
    "collapsed": false
   },
   "outputs": [],
   "source": [
    "gbt_train_prediction = pd.read_csv(\"%s/gbt_model_pred_train%s_lng%i_lat%i.csv\"  % (data_folder, part, lng_digits, lat_digits))\n",
    "gbt_train_prediction = gbt_train_prediction.drop([\"DESTINATION_LAT\",\"DESTINATION_LNG\"],axis=1)\n",
    "print len(gbt_train_prediction)"
   ]
  },
  {
   "cell_type": "code",
   "execution_count": null,
   "metadata": {
    "collapsed": false
   },
   "outputs": [],
   "source": [
    "gbt_test_prediction = pd.read_csv(\"%s/gbt_model_pred_test%s_lng%i_lat%i.csv\"  % (data_folder, part, lng_digits, lat_digits))\n",
    "gbt_test_prediction = gbt_test_prediction.drop([\"DESTINATION_LAT\",\"DESTINATION_LNG\"],axis=1)\n",
    "print len(gbt_test_prediction)"
   ]
  },
  {
   "cell_type": "code",
   "execution_count": null,
   "metadata": {
    "collapsed": false
   },
   "outputs": [],
   "source": [
    "gbt_train_prediction.head()"
   ]
  },
  {
   "cell_type": "code",
   "execution_count": null,
   "metadata": {
    "collapsed": false
   },
   "outputs": [],
   "source": [
    "gbt_train_prediction, _, _ = generate_loc_key(gbt_train_prediction,lat_col=\"LABEL_LAT\",lng_col=\"LABEL_LNG\",lat_bounds=LAT_BOUNDS,lng_bounds=LNG_BOUNDS)"
   ]
  },
  {
   "cell_type": "code",
   "execution_count": null,
   "metadata": {
    "collapsed": false
   },
   "outputs": [],
   "source": [
    "gbt_test_prediction, _, _ = generate_loc_key(gbt_test_prediction,lat_col=\"LABEL_LAT\",lng_col=\"LABEL_LNG\",lat_bounds=LAT_BOUNDS,lng_bounds=LNG_BOUNDS)"
   ]
  },
  {
   "cell_type": "code",
   "execution_count": null,
   "metadata": {
    "collapsed": false
   },
   "outputs": [],
   "source": [
    "len(set(gbt_train_prediction[\"LOC_KEY\"]).intersection(set(gbt_test_prediction[\"LOC_KEY\"])))"
   ]
  },
  {
   "cell_type": "markdown",
   "metadata": {},
   "source": [
    "# 4. Define POI based on GPS locations"
   ]
  },
  {
   "cell_type": "code",
   "execution_count": null,
   "metadata": {
    "collapsed": true
   },
   "outputs": [],
   "source": [
    "from haversine import haversine"
   ]
  },
  {
   "cell_type": "markdown",
   "metadata": {},
   "source": [
    "#### Round locations for  ~10 meter precision to define spots"
   ]
  },
  {
   "cell_type": "code",
   "execution_count": null,
   "metadata": {
    "collapsed": false
   },
   "outputs": [],
   "source": [
    "haversine((-8.618643, 41.1414),(-8.618643, 41.1415))"
   ]
  },
  {
   "cell_type": "code",
   "execution_count": null,
   "metadata": {
    "collapsed": false
   },
   "outputs": [],
   "source": [
    "PRECISION = 4\n",
    "taxi_trips[\"DESTINATION_LAT\"] = taxi_trips[\"DESTINATION_LAT_FULL\"].apply(lambda x: round(x,PRECISION))\n",
    "taxi_trips[\"DESTINATION_LNG\"] = taxi_trips[\"DESTINATION_LNG_FULL\"].apply(lambda x: round(x,PRECISION))"
   ]
  },
  {
   "cell_type": "markdown",
   "metadata": {},
   "source": [
    "#### Mean distance after decreasing the accuracy of GPS locations: ~3 meter"
   ]
  },
  {
   "cell_type": "code",
   "execution_count": null,
   "metadata": {
    "collapsed": false
   },
   "outputs": [],
   "source": [
    "mean_haversine, _ = mu.compute_mean_haversine(taxi_trips,(\"DESTINATION_LAT\",\"DESTINATION_LNG\"),(\"DESTINATION_LAT_FULL\",\"DESTINATION_LNG_FULL\"))\n",
    "print mean_haversine"
   ]
  },
  {
   "cell_type": "code",
   "execution_count": null,
   "metadata": {
    "collapsed": false
   },
   "outputs": [],
   "source": [
    "taxi_trips[\"POI\"] = taxi_trips.apply(lambda x: (x[\"DESTINATION_LAT\"],x[\"DESTINATION_LNG\"]),axis=1)"
   ]
  },
  {
   "cell_type": "code",
   "execution_count": null,
   "metadata": {
    "collapsed": false
   },
   "outputs": [],
   "source": [
    "taxi_trips.head(2)"
   ]
  },
  {
   "cell_type": "markdown",
   "metadata": {},
   "source": [
    "### Location popularity histogram"
   ]
  },
  {
   "cell_type": "code",
   "execution_count": null,
   "metadata": {
    "collapsed": false
   },
   "outputs": [],
   "source": [
    "taxi_trips[[\"LOC_KEY\",\"POI\"]].groupby(\"LOC_KEY\").count().hist(bins=50)"
   ]
  },
  {
   "cell_type": "markdown",
   "metadata": {},
   "source": [
    "# 5. Specifying destination predictions"
   ]
  },
  {
   "cell_type": "markdown",
   "metadata": {},
   "source": [
    "## a.) Predict the mean of spots within a cell"
   ]
  },
  {
   "cell_type": "code",
   "execution_count": null,
   "metadata": {
    "collapsed": false
   },
   "outputs": [],
   "source": [
    "cell_means = taxi_trips[[\"LOC_KEY\",\"DESTINATION_LAT\",\"DESTINATION_LNG\"]].groupby(\"LOC_KEY\").mean()\n",
    "cell_means = pd.DataFrame(cell_means).reset_index()"
   ]
  },
  {
   "cell_type": "code",
   "execution_count": null,
   "metadata": {
    "collapsed": false
   },
   "outputs": [],
   "source": [
    "cell_means.head()"
   ]
  },
  {
   "cell_type": "code",
   "execution_count": null,
   "metadata": {
    "collapsed": false
   },
   "outputs": [],
   "source": [
    "def set_mean_destination(df,detailed_locs):\n",
    "    joined = df.merge(detailed_locs,on=\"LOC_KEY\",how='left')\n",
    "    joined[\"MEAN_PRED_LAT\"] = joined.apply(lambda x: x[\"PRED_LAT\"] if x[\"DESTINATION_LAT\"] == np.nan else x[\"DESTINATION_LAT\"],axis=1)\n",
    "    joined[\"MEAN_PRED_LNG\"] = joined.apply(lambda x: x[\"PRED_LNG\"] if x[\"DESTINATION_LNG\"] == np.nan else x[\"DESTINATION_LNG\"],axis=1)\n",
    "    return joined"
   ]
  },
  {
   "cell_type": "code",
   "execution_count": null,
   "metadata": {
    "collapsed": false
   },
   "outputs": [],
   "source": [
    "gbt_train_prediction = set_mean_destination(gbt_train_prediction,cell_means)"
   ]
  },
  {
   "cell_type": "code",
   "execution_count": null,
   "metadata": {
    "collapsed": false
   },
   "outputs": [],
   "source": [
    "gbt_test_prediction = set_mean_destination(gbt_test_prediction,cell_means)"
   ]
  },
  {
   "cell_type": "markdown",
   "metadata": {},
   "source": [
    "#### There are 6 routes that are not covered due to the fact that I only used a small fraction of the training data"
   ]
  },
  {
   "cell_type": "code",
   "execution_count": null,
   "metadata": {
    "collapsed": false
   },
   "outputs": [],
   "source": [
    "gbt_test_prediction[gbt_test_prediction[\"MEAN_PRED_LNG\"].isnull()]"
   ]
  },
  {
   "cell_type": "markdown",
   "metadata": {},
   "source": [
    "### Performance results of the mean predictor model"
   ]
  },
  {
   "cell_type": "code",
   "execution_count": null,
   "metadata": {
    "collapsed": false
   },
   "outputs": [],
   "source": [
    "mean_pred_train_haversine, _ = mu.compute_mean_haversine(gbt_train_prediction,(\"MEAN_PRED_LAT\",\"MEAN_PRED_LNG\"),(\"LABEL_LAT\",\"LABEL_LNG\"))\n",
    "mean_pred_test_haversine, _ = mu.compute_mean_haversine(gbt_test_prediction,(\"MEAN_PRED_LAT\",\"MEAN_PRED_LNG\"),(\"LABEL_LAT\",\"LABEL_LNG\"))\n",
    "print \"Test: %f, Train: %f (Haversine)\" % (mean_pred_test_haversine,mean_pred_train_haversine)"
   ]
  },
  {
   "cell_type": "code",
   "execution_count": null,
   "metadata": {
    "collapsed": false
   },
   "outputs": [],
   "source": [
    "mean_pred_test_haversine, _ = mu.compute_mean_haversine(gbt_test_prediction,(\"MEAN_PRED_LAT\",\"MEAN_PRED_LNG\"),(\"LABEL_LAT\",\"LABEL_LNG\"))\n",
    "print mean_pred_test_haversine"
   ]
  },
  {
   "cell_type": "code",
   "execution_count": null,
   "metadata": {
    "collapsed": false
   },
   "outputs": [],
   "source": [
    "print len(gbt_train_prediction), len(gbt_test_prediction)"
   ]
  },
  {
   "cell_type": "markdown",
   "metadata": {},
   "source": [
    "## b.) Combine locations using k-closest point"
   ]
  },
  {
   "cell_type": "markdown",
   "metadata": {},
   "source": [
    "#### Trip length based features had to be excluded: because in test the trip length was smaller"
   ]
  },
  {
   "cell_type": "code",
   "execution_count": null,
   "metadata": {
    "collapsed": false
   },
   "outputs": [],
   "source": [
    "#feat_order = list(gbt_importances[\"name\"])\n",
    "feat_order = []\n",
    "feat_order += [\"DEPARTURE_LAT\",\"TRIP_LAT_MEAN\",\"TRIP_LAT_MIN\",\"TRIP_LAT_MAX\",\"TRIP_LAT_MEDIAN\"]\n",
    "feat_order += [\"DEPARTURE_LNG\",\"TRIP_LNG_MEAN\",\"TRIP_LNG_MIN\",\"TRIP_LNG_MAX\",\"TRIP_LNG_MEDIAN\"]\n",
    "feat_order += ['DESTINATION_LAT_FULL', 'DESTINATION_LNG_FULL']\n",
    "print feat_order"
   ]
  },
  {
   "cell_type": "code",
   "execution_count": null,
   "metadata": {
    "collapsed": false
   },
   "outputs": [],
   "source": [
    "%%time\n",
    "knn_models, cell_locations = mu.init_knn_models(gbt_train_prediction,feat_order,k=2)"
   ]
  },
  {
   "cell_type": "code",
   "execution_count": null,
   "metadata": {
    "collapsed": false
   },
   "outputs": [],
   "source": [
    "%%time\n",
    "mu.predict_with_knn(gbt_test_prediction,knn_models,cell_locations,feat_order)"
   ]
  },
  {
   "cell_type": "markdown",
   "metadata": {
    "collapsed": false
   },
   "source": [
    "%%time\n",
    "predict_with_knn(gbt_train_prediction,knn_models,cell_locations,feat_order)"
   ]
  },
  {
   "cell_type": "code",
   "execution_count": null,
   "metadata": {
    "collapsed": false,
    "scrolled": true
   },
   "outputs": [],
   "source": [
    "gbt_test_prediction[feat_order].head()"
   ]
  },
  {
   "cell_type": "markdown",
   "metadata": {},
   "source": [
    "### Performance results of the k-NN based model"
   ]
  },
  {
   "cell_type": "code",
   "execution_count": null,
   "metadata": {
    "collapsed": false
   },
   "outputs": [],
   "source": [
    "knn_pred_test_haversine, _ = mu.compute_mean_haversine(gbt_test_prediction,(\"KNN_PRED_LAT\",\"KNN_PRED_LNG\"),(\"LABEL_LAT\",\"LABEL_LNG\"))\n",
    "print knn_pred_test_haversine"
   ]
  },
  {
   "cell_type": "code",
   "execution_count": null,
   "metadata": {
    "collapsed": false
   },
   "outputs": [],
   "source": [
    "len(gbt_test_prediction)"
   ]
  },
  {
   "cell_type": "code",
   "execution_count": null,
   "metadata": {
    "collapsed": false
   },
   "outputs": [],
   "source": [
    "len(gbt_test_prediction[(gbt_test_prediction[\"MEAN_PRED_LAT\"] != gbt_test_prediction[\"KNN_PRED_LAT\"]) | (gbt_test_prediction[\"MEAN_PRED_LNG\"] != gbt_test_prediction[\"KNN_PRED_LNG\"])])"
   ]
  },
  {
   "cell_type": "markdown",
   "metadata": {},
   "source": [
    "# Visualization of the predictions"
   ]
  },
  {
   "cell_type": "code",
   "execution_count": null,
   "metadata": {
    "collapsed": false
   },
   "outputs": [],
   "source": [
    "from bokeh.plotting import figure, show, output_file, output_notebook\n",
    "output_notebook()\n",
    "\n",
    "def visualize_predition(df, pred_prefix, mean_haversine, show_mean=False):\n",
    "    lat0 = df[\"LABEL_LAT\"]\n",
    "    lat1 = df[\"%s_PRED_LAT\" % pred_prefix]\n",
    "    lng0 = df[\"LABEL_LNG\"]\n",
    "    lng1 = df[\"%s_PRED_LNG\" % pred_prefix]\n",
    "    lat2 = df[\"MEAN_PRED_LAT\"]\n",
    "    lng2 = df[\"MEAN_PRED_LNG\"]\n",
    "    # init plot\n",
    "    p = figure(title = \"Predicted Destinations with %s. Mean Haversine distance: %f\" % (pred_prefix,mean_haversine), width=900, height=600)\n",
    "    p.xaxis.axis_label = 'LNG'\n",
    "    p.yaxis.axis_label = 'LAT'\n",
    "    # errors\n",
    "    p.segment(x0=lng0, y0=lat0, x1=lng1, y1=lat1, color=\"black\", line_width=1)\n",
    "    # locations\n",
    "    if show_mean:\n",
    "        p.circle(lng2, lat2, color='green', fill_alpha=0.2, size=10)\n",
    "    p.circle(lng1, lat1, color='red', fill_alpha=0.2, size=10)\n",
    "    p.circle(lng0, lat0, color='blue', fill_alpha=0.2, size=10)\n",
    "    #output\n",
    "    output_file(\"%s_destination_prediction_lng%i_lat%i.html\" % (pred_prefix, lng_digits, lat_digits), title=\"Predicted Destinations\")\n",
    "    show(p, notebook_handle=True)"
   ]
  },
  {
   "cell_type": "markdown",
   "metadata": {},
   "source": [
    "### Prediction results of the mean predictor"
   ]
  },
  {
   "cell_type": "code",
   "execution_count": null,
   "metadata": {
    "collapsed": false
   },
   "outputs": [],
   "source": [
    "visualize_predition(gbt_test_prediction,\"MEAN\",mean_pred_test_haversine)"
   ]
  },
  {
   "cell_type": "markdown",
   "metadata": {},
   "source": [
    "### Prediction results of the k-NN predictor"
   ]
  },
  {
   "cell_type": "code",
   "execution_count": null,
   "metadata": {
    "collapsed": false
   },
   "outputs": [],
   "source": [
    "visualize_predition(gbt_test_prediction,\"KNN\",knn_pred_test_haversine,show_mean=False)"
   ]
  }
 ],
 "metadata": {
  "anaconda-cloud": {},
  "kernelspec": {
   "display_name": "Python [conda env:dm-env]",
   "language": "python",
   "name": "conda-env-dm-env-py"
  },
  "language_info": {
   "codemirror_mode": {
    "name": "ipython",
    "version": 2
   },
   "file_extension": ".py",
   "mimetype": "text/x-python",
   "name": "python",
   "nbconvert_exporter": "python",
   "pygments_lexer": "ipython2",
   "version": "2.7.12"
  }
 },
 "nbformat": 4,
 "nbformat_minor": 1
}