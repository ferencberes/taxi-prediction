{
 "cells": [
  {
   "cell_type": "code",
   "execution_count": 1,
   "metadata": {
    "collapsed": true
   },
   "outputs": [],
   "source": [
    "import sys\n",
    "sys.path.insert(0,\"../python/\")\n",
    "import modeling_utils as mu"
   ]
  },
  {
   "cell_type": "code",
   "execution_count": 2,
   "metadata": {
    "collapsed": true
   },
   "outputs": [],
   "source": [
    "import pandas as pd\n",
    "import numpy as np"
   ]
  },
  {
   "cell_type": "code",
   "execution_count": 3,
   "metadata": {
    "collapsed": true
   },
   "outputs": [],
   "source": [
    "%matplotlib inline"
   ]
  },
  {
   "cell_type": "code",
   "execution_count": 4,
   "metadata": {
    "collapsed": false
   },
   "outputs": [
    {
     "name": "stdout",
     "output_type": "stream",
     "text": [
      "Default parameters:\n",
      "{u'data_folder': u'/home/fberes/DATA/taxi-challange/', u'gbt_use_exact_lat': False, u'lng_digits': 2, u'lat_digits': 3, u'is_test': False, u'part': u'_50000', u'gbt_use_exact_lng': False}\n",
      "Custom parameters:\n",
      "{}\n"
     ]
    }
   ],
   "source": [
    "import sys\n",
    "from datawand.parametrization import ParamHelper\n",
    "ph = ParamHelper(\"../pipelines/EcmlTaxi.json\",sys.argv)"
   ]
  },
  {
   "cell_type": "code",
   "execution_count": 5,
   "metadata": {
    "collapsed": false
   },
   "outputs": [
    {
     "name": "stdout",
     "output_type": "stream",
     "text": [
      "Using default parameter: data_folder=/home/fberes/DATA/taxi-challange/\n",
      "Using default parameter: part=_50000\n",
      "Using default parameter: lat_digits=3\n",
      "Using default parameter: lng_digits=2\n"
     ]
    }
   ],
   "source": [
    "data_folder = ph.get(\"data_folder\")\n",
    "part = ph.get(\"part\")\n",
    "lat_digits = ph.get(\"lat_digits\")\n",
    "lng_digits = ph.get(\"lng_digits\")"
   ]
  },
  {
   "cell_type": "markdown",
   "metadata": {},
   "source": [
    "# 1. Load data with generated features"
   ]
  },
  {
   "cell_type": "code",
   "execution_count": 6,
   "metadata": {
    "collapsed": false
   },
   "outputs": [],
   "source": [
    "taxi_trips = pd.read_csv(\"%s/gen_train%s_lng%i_lat%i.csv\" % (data_folder, part, lng_digits, lat_digits))\n",
    "taxi_trips = taxi_trips[['DESTINATION_LAT_FULL','DESTINATION_LNG_FULL','DESTINATION_LAT','DESTINATION_LNG']]"
   ]
  },
  {
   "cell_type": "code",
   "execution_count": 7,
   "metadata": {
    "collapsed": false
   },
   "outputs": [
    {
     "data": {
      "text/plain": [
       "Index([u'DESTINATION_LAT_FULL', u'DESTINATION_LNG_FULL', u'DESTINATION_LAT',\n",
       "       u'DESTINATION_LNG'],\n",
       "      dtype='object')"
      ]
     },
     "execution_count": 7,
     "metadata": {},
     "output_type": "execute_result"
    }
   ],
   "source": [
    "taxi_trips.columns"
   ]
  },
  {
   "cell_type": "code",
   "execution_count": 8,
   "metadata": {
    "collapsed": false
   },
   "outputs": [
    {
     "data": {
      "text/html": [
       "<div>\n",
       "<table border=\"1\" class=\"dataframe\">\n",
       "  <thead>\n",
       "    <tr style=\"text-align: right;\">\n",
       "      <th></th>\n",
       "      <th>DESTINATION_LAT_FULL</th>\n",
       "      <th>DESTINATION_LNG_FULL</th>\n",
       "      <th>DESTINATION_LAT</th>\n",
       "      <th>DESTINATION_LNG</th>\n",
       "    </tr>\n",
       "  </thead>\n",
       "  <tbody>\n",
       "    <tr>\n",
       "      <th>0</th>\n",
       "      <td>41.154489</td>\n",
       "      <td>-8.630838</td>\n",
       "      <td>41.154</td>\n",
       "      <td>-8.63</td>\n",
       "    </tr>\n",
       "    <tr>\n",
       "      <th>1</th>\n",
       "      <td>41.170671</td>\n",
       "      <td>-8.665740</td>\n",
       "      <td>41.171</td>\n",
       "      <td>-8.67</td>\n",
       "    </tr>\n",
       "    <tr>\n",
       "      <th>2</th>\n",
       "      <td>41.140530</td>\n",
       "      <td>-8.615970</td>\n",
       "      <td>41.141</td>\n",
       "      <td>-8.62</td>\n",
       "    </tr>\n",
       "    <tr>\n",
       "      <th>3</th>\n",
       "      <td>41.142915</td>\n",
       "      <td>-8.607996</td>\n",
       "      <td>41.143</td>\n",
       "      <td>-8.61</td>\n",
       "    </tr>\n",
       "    <tr>\n",
       "      <th>4</th>\n",
       "      <td>41.178087</td>\n",
       "      <td>-8.687268</td>\n",
       "      <td>41.178</td>\n",
       "      <td>-8.69</td>\n",
       "    </tr>\n",
       "  </tbody>\n",
       "</table>\n",
       "</div>"
      ],
      "text/plain": [
       "   DESTINATION_LAT_FULL  DESTINATION_LNG_FULL  DESTINATION_LAT  \\\n",
       "0             41.154489             -8.630838           41.154   \n",
       "1             41.170671             -8.665740           41.171   \n",
       "2             41.140530             -8.615970           41.141   \n",
       "3             41.142915             -8.607996           41.143   \n",
       "4             41.178087             -8.687268           41.178   \n",
       "\n",
       "   DESTINATION_LNG  \n",
       "0            -8.63  \n",
       "1            -8.67  \n",
       "2            -8.62  \n",
       "3            -8.61  \n",
       "4            -8.69  "
      ]
     },
     "execution_count": 8,
     "metadata": {},
     "output_type": "execute_result"
    }
   ],
   "source": [
    "taxi_trips.head()"
   ]
  },
  {
   "cell_type": "code",
   "execution_count": 9,
   "metadata": {
    "collapsed": false
   },
   "outputs": [
    {
     "name": "stdout",
     "output_type": "stream",
     "text": [
      "Unique latitude splits: 405\n"
     ]
    }
   ],
   "source": [
    "lat_splits = sorted(taxi_trips[\"DESTINATION_LAT\"].unique())\n",
    "print 'Unique latitude splits: %i' % len(lat_splits)"
   ]
  },
  {
   "cell_type": "code",
   "execution_count": 10,
   "metadata": {
    "collapsed": false
   },
   "outputs": [
    {
     "name": "stdout",
     "output_type": "stream",
     "text": [
      "Unique longitude splits: 77\n"
     ]
    }
   ],
   "source": [
    "lng_splits = sorted(taxi_trips[\"DESTINATION_LNG\"].unique())\n",
    "print 'Unique longitude splits: %i' % len(lng_splits)"
   ]
  },
  {
   "cell_type": "markdown",
   "metadata": {},
   "source": [
    "# 2. Drop invalid data"
   ]
  },
  {
   "cell_type": "code",
   "execution_count": 11,
   "metadata": {
    "collapsed": false
   },
   "outputs": [
    {
     "name": "stdout",
     "output_type": "stream",
     "text": [
      "50000\n",
      "49800\n",
      "49800\n"
     ]
    }
   ],
   "source": [
    "print len(taxi_trips)\n",
    "taxi_trips = taxi_trips[np.isfinite(taxi_trips[\"DESTINATION_LAT_FULL\"])]\n",
    "print len(taxi_trips)\n",
    "taxi_trips = taxi_trips[np.isfinite(taxi_trips[\"DESTINATION_LNG_FULL\"])]\n",
    "print len(taxi_trips)"
   ]
  },
  {
   "cell_type": "markdown",
   "metadata": {},
   "source": [
    "# 3. Generate location cell keys"
   ]
  },
  {
   "cell_type": "markdown",
   "metadata": {},
   "source": [
    "## a.) For the traing data"
   ]
  },
  {
   "cell_type": "code",
   "execution_count": 12,
   "metadata": {
    "collapsed": false
   },
   "outputs": [],
   "source": [
    "def generate_bins(df,col,digits,loc_bounds=None):\n",
    "    eps = 0.0001\n",
    "    prec = np.power(10.0,-1.0 * digits)\n",
    "    print prec\n",
    "    if loc_bounds == None:\n",
    "        loc_min, loc_max = df[col].min(), df[col].max()\n",
    "    else:\n",
    "        loc_min, loc_max = loc_bounds\n",
    "    #loc_splits = np.arange(loc_min-prec,loc_max+prec,prec)\n",
    "    loc_splits = np.arange(loc_min-prec,loc_max+2*prec,prec)\n",
    "    print loc_min, loc_max, len(loc_splits)\n",
    "    return pd.cut(df[col],loc_splits,include_lowest=True,labels=range(len(loc_splits)-1)), (loc_min, loc_max)\n",
    "\n",
    "def generate_loc_key(df,lat_col,lng_col,lat_bounds=None,lng_bounds=None,drop_tmp_keys=True):\n",
    "    df[\"LAT_KEY\"], lat_bounds = generate_bins(df,lat_col,digits=lat_digits,loc_bounds=lat_bounds)\n",
    "    df[\"LNG_KEY\"], lng_bounds = generate_bins(df,lng_col,digits=lng_digits,loc_bounds=lng_bounds)\n",
    "    df[\"LOC_KEY\"] = df.apply(lambda x: \"%s_%s\" % (str(x[\"LAT_KEY\"]),str(x[\"LNG_KEY\"])), axis=1)\n",
    "    if drop_tmp_keys:\n",
    "        df = df.drop([\"LAT_KEY\",\"LNG_KEY\"],axis=1)\n",
    "    print len(df[\"LOC_KEY\"].unique())\n",
    "    return df, lat_bounds, lng_bounds"
   ]
  },
  {
   "cell_type": "code",
   "execution_count": 13,
   "metadata": {
    "collapsed": false
   },
   "outputs": [
    {
     "name": "stdout",
     "output_type": "stream",
     "text": [
      "0.001\n",
      "38.71548 41.954076 3242\n",
      "0.01\n",
      "-9.136584 -6.958692 221\n",
      "2249\n"
     ]
    }
   ],
   "source": [
    "taxi_trips, LAT_BOUNDS, LNG_BOUNDS = generate_loc_key(taxi_trips,lat_col=\"DESTINATION_LAT_FULL\",lng_col=\"DESTINATION_LNG_FULL\")"
   ]
  },
  {
   "cell_type": "code",
   "execution_count": 14,
   "metadata": {
    "collapsed": false
   },
   "outputs": [
    {
     "data": {
      "text/html": [
       "<div>\n",
       "<table border=\"1\" class=\"dataframe\">\n",
       "  <thead>\n",
       "    <tr style=\"text-align: right;\">\n",
       "      <th></th>\n",
       "      <th>DESTINATION_LAT_FULL</th>\n",
       "      <th>DESTINATION_LNG_FULL</th>\n",
       "      <th>DESTINATION_LAT</th>\n",
       "      <th>DESTINATION_LNG</th>\n",
       "      <th>LOC_KEY</th>\n",
       "    </tr>\n",
       "  </thead>\n",
       "  <tbody>\n",
       "    <tr>\n",
       "      <th>0</th>\n",
       "      <td>41.154489</td>\n",
       "      <td>-8.630838</td>\n",
       "      <td>41.154</td>\n",
       "      <td>-8.63</td>\n",
       "      <td>2440_51</td>\n",
       "    </tr>\n",
       "    <tr>\n",
       "      <th>1</th>\n",
       "      <td>41.170671</td>\n",
       "      <td>-8.665740</td>\n",
       "      <td>41.171</td>\n",
       "      <td>-8.67</td>\n",
       "      <td>2456_48</td>\n",
       "    </tr>\n",
       "  </tbody>\n",
       "</table>\n",
       "</div>"
      ],
      "text/plain": [
       "   DESTINATION_LAT_FULL  DESTINATION_LNG_FULL  DESTINATION_LAT  \\\n",
       "0             41.154489             -8.630838           41.154   \n",
       "1             41.170671             -8.665740           41.171   \n",
       "\n",
       "   DESTINATION_LNG  LOC_KEY  \n",
       "0            -8.63  2440_51  \n",
       "1            -8.67  2456_48  "
      ]
     },
     "execution_count": 14,
     "metadata": {},
     "output_type": "execute_result"
    }
   ],
   "source": [
    "taxi_trips.head(2)"
   ]
  },
  {
   "cell_type": "markdown",
   "metadata": {},
   "source": [
    "## b.) Apply these cells for GBT model predictions"
   ]
  },
  {
   "cell_type": "code",
   "execution_count": 15,
   "metadata": {
    "collapsed": false
   },
   "outputs": [
    {
     "name": "stdout",
     "output_type": "stream",
     "text": [
      "50000\n"
     ]
    }
   ],
   "source": [
    "gbt_train_prediction = pd.read_csv(\"%s/gbt_model_pred_train%s_lng%i_lat%i.csv\"  % (data_folder, part, lng_digits, lat_digits))\n",
    "gbt_train_prediction = gbt_train_prediction.drop([\"DESTINATION_LAT\",\"DESTINATION_LNG\"],axis=1)\n",
    "print len(gbt_train_prediction)"
   ]
  },
  {
   "cell_type": "code",
   "execution_count": 16,
   "metadata": {
    "collapsed": false
   },
   "outputs": [
    {
     "name": "stdout",
     "output_type": "stream",
     "text": [
      "320\n"
     ]
    }
   ],
   "source": [
    "gbt_test_prediction = pd.read_csv(\"%s/gbt_model_pred_test%s_lng%i_lat%i.csv\"  % (data_folder, part, lng_digits, lat_digits))\n",
    "gbt_test_prediction = gbt_test_prediction.drop([\"DESTINATION_LAT\",\"DESTINATION_LNG\"],axis=1)\n",
    "print len(gbt_test_prediction)"
   ]
  },
  {
   "cell_type": "code",
   "execution_count": 17,
   "metadata": {
    "collapsed": false
   },
   "outputs": [
    {
     "data": {
      "text/html": [
       "<div>\n",
       "<table border=\"1\" class=\"dataframe\">\n",
       "  <thead>\n",
       "    <tr style=\"text-align: right;\">\n",
       "      <th></th>\n",
       "      <th>CALL_TYPE</th>\n",
       "      <th>ORIGIN_CALL</th>\n",
       "      <th>ORIGIN_STAND</th>\n",
       "      <th>TAXI_ID</th>\n",
       "      <th>DAY_TYPE</th>\n",
       "      <th>MISSING_DATA</th>\n",
       "      <th>DESTINATION_LAT_FULL</th>\n",
       "      <th>DESTINATION_LNG_FULL</th>\n",
       "      <th>DEPARTURE_LAT_FULL</th>\n",
       "      <th>DEPARTURE_LNG_FULL</th>\n",
       "      <th>...</th>\n",
       "      <th>DAY_OF_WEEK</th>\n",
       "      <th>TIME_OF_DAY</th>\n",
       "      <th>CALL_TYPE_onehot_dispatch</th>\n",
       "      <th>CALL_TYPE_onehot_driver</th>\n",
       "      <th>CALL_TYPE_onehot_other</th>\n",
       "      <th>PRED_LAT</th>\n",
       "      <th>PRED_LNG</th>\n",
       "      <th>LABEL_LAT</th>\n",
       "      <th>LABEL_LNG</th>\n",
       "      <th>HAVERSINE</th>\n",
       "    </tr>\n",
       "  </thead>\n",
       "  <tbody>\n",
       "    <tr>\n",
       "      <th>0</th>\n",
       "      <td>other</td>\n",
       "      <td>22912.505749</td>\n",
       "      <td>30.084759</td>\n",
       "      <td>20000589</td>\n",
       "      <td>normal</td>\n",
       "      <td>False</td>\n",
       "      <td>41.154489</td>\n",
       "      <td>-8.630838</td>\n",
       "      <td>41.141412</td>\n",
       "      <td>-8.618643</td>\n",
       "      <td>...</td>\n",
       "      <td>0</td>\n",
       "      <td>0</td>\n",
       "      <td>0.0</td>\n",
       "      <td>0.0</td>\n",
       "      <td>1.0</td>\n",
       "      <td>41.156095</td>\n",
       "      <td>-8.626126</td>\n",
       "      <td>41.154489</td>\n",
       "      <td>-8.630838</td>\n",
       "      <td>0.432992</td>\n",
       "    </tr>\n",
       "    <tr>\n",
       "      <th>1</th>\n",
       "      <td>driver</td>\n",
       "      <td>22912.505749</td>\n",
       "      <td>7.000000</td>\n",
       "      <td>20000596</td>\n",
       "      <td>normal</td>\n",
       "      <td>False</td>\n",
       "      <td>41.170671</td>\n",
       "      <td>-8.665740</td>\n",
       "      <td>41.159826</td>\n",
       "      <td>-8.639847</td>\n",
       "      <td>...</td>\n",
       "      <td>0</td>\n",
       "      <td>0</td>\n",
       "      <td>0.0</td>\n",
       "      <td>1.0</td>\n",
       "      <td>0.0</td>\n",
       "      <td>41.167953</td>\n",
       "      <td>-8.669209</td>\n",
       "      <td>41.170671</td>\n",
       "      <td>-8.665740</td>\n",
       "      <td>0.419065</td>\n",
       "    </tr>\n",
       "    <tr>\n",
       "      <th>2</th>\n",
       "      <td>other</td>\n",
       "      <td>22912.505749</td>\n",
       "      <td>30.084759</td>\n",
       "      <td>20000320</td>\n",
       "      <td>normal</td>\n",
       "      <td>False</td>\n",
       "      <td>41.140530</td>\n",
       "      <td>-8.615970</td>\n",
       "      <td>41.140359</td>\n",
       "      <td>-8.612964</td>\n",
       "      <td>...</td>\n",
       "      <td>0</td>\n",
       "      <td>0</td>\n",
       "      <td>0.0</td>\n",
       "      <td>0.0</td>\n",
       "      <td>1.0</td>\n",
       "      <td>41.155590</td>\n",
       "      <td>-8.646429</td>\n",
       "      <td>41.140530</td>\n",
       "      <td>-8.615970</td>\n",
       "      <td>3.050962</td>\n",
       "    </tr>\n",
       "    <tr>\n",
       "      <th>3</th>\n",
       "      <td>other</td>\n",
       "      <td>22912.505749</td>\n",
       "      <td>30.084759</td>\n",
       "      <td>20000520</td>\n",
       "      <td>normal</td>\n",
       "      <td>False</td>\n",
       "      <td>41.142915</td>\n",
       "      <td>-8.607996</td>\n",
       "      <td>41.151951</td>\n",
       "      <td>-8.574678</td>\n",
       "      <td>...</td>\n",
       "      <td>0</td>\n",
       "      <td>0</td>\n",
       "      <td>0.0</td>\n",
       "      <td>0.0</td>\n",
       "      <td>1.0</td>\n",
       "      <td>41.144324</td>\n",
       "      <td>-8.610278</td>\n",
       "      <td>41.142915</td>\n",
       "      <td>-8.607996</td>\n",
       "      <td>0.247135</td>\n",
       "    </tr>\n",
       "    <tr>\n",
       "      <th>4</th>\n",
       "      <td>other</td>\n",
       "      <td>22912.505749</td>\n",
       "      <td>30.084759</td>\n",
       "      <td>20000337</td>\n",
       "      <td>normal</td>\n",
       "      <td>False</td>\n",
       "      <td>41.178087</td>\n",
       "      <td>-8.687268</td>\n",
       "      <td>41.180490</td>\n",
       "      <td>-8.645994</td>\n",
       "      <td>...</td>\n",
       "      <td>0</td>\n",
       "      <td>0</td>\n",
       "      <td>0.0</td>\n",
       "      <td>0.0</td>\n",
       "      <td>1.0</td>\n",
       "      <td>41.173450</td>\n",
       "      <td>-8.685458</td>\n",
       "      <td>41.178087</td>\n",
       "      <td>-8.687268</td>\n",
       "      <td>0.537421</td>\n",
       "    </tr>\n",
       "  </tbody>\n",
       "</table>\n",
       "<p>5 rows × 45 columns</p>\n",
       "</div>"
      ],
      "text/plain": [
       "  CALL_TYPE   ORIGIN_CALL  ORIGIN_STAND   TAXI_ID DAY_TYPE MISSING_DATA  \\\n",
       "0     other  22912.505749     30.084759  20000589   normal        False   \n",
       "1    driver  22912.505749      7.000000  20000596   normal        False   \n",
       "2     other  22912.505749     30.084759  20000320   normal        False   \n",
       "3     other  22912.505749     30.084759  20000520   normal        False   \n",
       "4     other  22912.505749     30.084759  20000337   normal        False   \n",
       "\n",
       "   DESTINATION_LAT_FULL  DESTINATION_LNG_FULL  DEPARTURE_LAT_FULL  \\\n",
       "0             41.154489             -8.630838           41.141412   \n",
       "1             41.170671             -8.665740           41.159826   \n",
       "2             41.140530             -8.615970           41.140359   \n",
       "3             41.142915             -8.607996           41.151951   \n",
       "4             41.178087             -8.687268           41.180490   \n",
       "\n",
       "   DEPARTURE_LNG_FULL    ...      DAY_OF_WEEK  TIME_OF_DAY  \\\n",
       "0           -8.618643    ...                0            0   \n",
       "1           -8.639847    ...                0            0   \n",
       "2           -8.612964    ...                0            0   \n",
       "3           -8.574678    ...                0            0   \n",
       "4           -8.645994    ...                0            0   \n",
       "\n",
       "   CALL_TYPE_onehot_dispatch  CALL_TYPE_onehot_driver  CALL_TYPE_onehot_other  \\\n",
       "0                        0.0                      0.0                     1.0   \n",
       "1                        0.0                      1.0                     0.0   \n",
       "2                        0.0                      0.0                     1.0   \n",
       "3                        0.0                      0.0                     1.0   \n",
       "4                        0.0                      0.0                     1.0   \n",
       "\n",
       "    PRED_LAT  PRED_LNG  LABEL_LAT  LABEL_LNG  HAVERSINE  \n",
       "0  41.156095 -8.626126  41.154489  -8.630838   0.432992  \n",
       "1  41.167953 -8.669209  41.170671  -8.665740   0.419065  \n",
       "2  41.155590 -8.646429  41.140530  -8.615970   3.050962  \n",
       "3  41.144324 -8.610278  41.142915  -8.607996   0.247135  \n",
       "4  41.173450 -8.685458  41.178087  -8.687268   0.537421  \n",
       "\n",
       "[5 rows x 45 columns]"
      ]
     },
     "execution_count": 17,
     "metadata": {},
     "output_type": "execute_result"
    }
   ],
   "source": [
    "gbt_train_prediction.head()"
   ]
  },
  {
   "cell_type": "code",
   "execution_count": 18,
   "metadata": {
    "collapsed": false
   },
   "outputs": [
    {
     "name": "stdout",
     "output_type": "stream",
     "text": [
      "0.001\n",
      "38.71548 41.954076 3242\n",
      "0.01\n",
      "-9.136584 -6.958692 221\n",
      "2249\n"
     ]
    }
   ],
   "source": [
    "gbt_train_prediction, _, _ = generate_loc_key(gbt_train_prediction,lat_col=\"LABEL_LAT\",lng_col=\"LABEL_LNG\",lat_bounds=LAT_BOUNDS,lng_bounds=LNG_BOUNDS)"
   ]
  },
  {
   "cell_type": "code",
   "execution_count": 19,
   "metadata": {
    "collapsed": false
   },
   "outputs": [
    {
     "name": "stdout",
     "output_type": "stream",
     "text": [
      "0.001\n",
      "38.71548 41.954076 3242\n",
      "0.01\n",
      "-9.136584 -6.958692 221\n",
      "199\n"
     ]
    }
   ],
   "source": [
    "gbt_test_prediction, _, _ = generate_loc_key(gbt_test_prediction,lat_col=\"LABEL_LAT\",lng_col=\"LABEL_LNG\",lat_bounds=LAT_BOUNDS,lng_bounds=LNG_BOUNDS)"
   ]
  },
  {
   "cell_type": "code",
   "execution_count": 20,
   "metadata": {
    "collapsed": false
   },
   "outputs": [
    {
     "data": {
      "text/plain": [
       "193"
      ]
     },
     "execution_count": 20,
     "metadata": {},
     "output_type": "execute_result"
    }
   ],
   "source": [
    "len(set(gbt_train_prediction[\"LOC_KEY\"]).intersection(set(gbt_test_prediction[\"LOC_KEY\"])))"
   ]
  },
  {
   "cell_type": "markdown",
   "metadata": {},
   "source": [
    "# 4. Define POI based on GPS locations"
   ]
  },
  {
   "cell_type": "code",
   "execution_count": 21,
   "metadata": {
    "collapsed": true
   },
   "outputs": [],
   "source": [
    "from haversine import haversine"
   ]
  },
  {
   "cell_type": "markdown",
   "metadata": {},
   "source": [
    "#### Round locations for  ~10 meter precision to define spots"
   ]
  },
  {
   "cell_type": "code",
   "execution_count": 22,
   "metadata": {
    "collapsed": false
   },
   "outputs": [
    {
     "data": {
      "text/plain": [
       "0.010993927713293054"
      ]
     },
     "execution_count": 22,
     "metadata": {},
     "output_type": "execute_result"
    }
   ],
   "source": [
    "haversine((-8.618643, 41.1414),(-8.618643, 41.1415))"
   ]
  },
  {
   "cell_type": "code",
   "execution_count": 23,
   "metadata": {
    "collapsed": false
   },
   "outputs": [],
   "source": [
    "PRECISION = 4\n",
    "taxi_trips[\"DESTINATION_LAT\"] = taxi_trips[\"DESTINATION_LAT_FULL\"].apply(lambda x: round(x,PRECISION))\n",
    "taxi_trips[\"DESTINATION_LNG\"] = taxi_trips[\"DESTINATION_LNG_FULL\"].apply(lambda x: round(x,PRECISION))"
   ]
  },
  {
   "cell_type": "markdown",
   "metadata": {},
   "source": [
    "#### Mean distance after decreasing the accuracy of GPS locations: ~3 meter"
   ]
  },
  {
   "cell_type": "code",
   "execution_count": 24,
   "metadata": {
    "collapsed": false
   },
   "outputs": [
    {
     "name": "stdout",
     "output_type": "stream",
     "text": [
      "0.00373943891912\n"
     ]
    }
   ],
   "source": [
    "mean_haversine, _ = mu.compute_mean_haversine(taxi_trips,(\"DESTINATION_LAT\",\"DESTINATION_LNG\"),(\"DESTINATION_LAT_FULL\",\"DESTINATION_LNG_FULL\"))\n",
    "print mean_haversine"
   ]
  },
  {
   "cell_type": "code",
   "execution_count": 25,
   "metadata": {
    "collapsed": false
   },
   "outputs": [],
   "source": [
    "taxi_trips[\"POI\"] = taxi_trips.apply(lambda x: (x[\"DESTINATION_LAT\"],x[\"DESTINATION_LNG\"]),axis=1)"
   ]
  },
  {
   "cell_type": "code",
   "execution_count": 26,
   "metadata": {
    "collapsed": false
   },
   "outputs": [
    {
     "data": {
      "text/html": [
       "<div>\n",
       "<table border=\"1\" class=\"dataframe\">\n",
       "  <thead>\n",
       "    <tr style=\"text-align: right;\">\n",
       "      <th></th>\n",
       "      <th>DESTINATION_LAT_FULL</th>\n",
       "      <th>DESTINATION_LNG_FULL</th>\n",
       "      <th>DESTINATION_LAT</th>\n",
       "      <th>DESTINATION_LNG</th>\n",
       "      <th>LOC_KEY</th>\n",
       "      <th>HAVERSINE</th>\n",
       "      <th>POI</th>\n",
       "    </tr>\n",
       "  </thead>\n",
       "  <tbody>\n",
       "    <tr>\n",
       "      <th>0</th>\n",
       "      <td>41.154489</td>\n",
       "      <td>-8.630838</td>\n",
       "      <td>41.1545</td>\n",
       "      <td>-8.6308</td>\n",
       "      <td>2440_51</td>\n",
       "      <td>0.003408</td>\n",
       "      <td>(41.1545, -8.6308)</td>\n",
       "    </tr>\n",
       "    <tr>\n",
       "      <th>1</th>\n",
       "      <td>41.170671</td>\n",
       "      <td>-8.665740</td>\n",
       "      <td>41.1707</td>\n",
       "      <td>-8.6657</td>\n",
       "      <td>2456_48</td>\n",
       "      <td>0.004648</td>\n",
       "      <td>(41.1707, -8.6657)</td>\n",
       "    </tr>\n",
       "  </tbody>\n",
       "</table>\n",
       "</div>"
      ],
      "text/plain": [
       "   DESTINATION_LAT_FULL  DESTINATION_LNG_FULL  DESTINATION_LAT  \\\n",
       "0             41.154489             -8.630838          41.1545   \n",
       "1             41.170671             -8.665740          41.1707   \n",
       "\n",
       "   DESTINATION_LNG  LOC_KEY  HAVERSINE                 POI  \n",
       "0          -8.6308  2440_51   0.003408  (41.1545, -8.6308)  \n",
       "1          -8.6657  2456_48   0.004648  (41.1707, -8.6657)  "
      ]
     },
     "execution_count": 26,
     "metadata": {},
     "output_type": "execute_result"
    }
   ],
   "source": [
    "taxi_trips.head(2)"
   ]
  },
  {
   "cell_type": "markdown",
   "metadata": {},
   "source": [
    "### Location popularity histogram"
   ]
  },
  {
   "cell_type": "code",
   "execution_count": 27,
   "metadata": {
    "collapsed": false
   },
   "outputs": [
    {
     "data": {
      "text/plain": [
       "array([[<matplotlib.axes._subplots.AxesSubplot object at 0x7f6cda6dcf50>]], dtype=object)"
      ]
     },
     "execution_count": 27,
     "metadata": {},
     "output_type": "execute_result"
    },
    {
     "data": {
      "image/png": "[encoded data removed]",
      "text/plain": [
       "<matplotlib.figure.Figure at 0x7f6cda6dcc10>"
      ]
     },
     "metadata": {},
     "output_type": "display_data"
    }
   ],
   "source": [
    "taxi_trips[[\"LOC_KEY\",\"POI\"]].groupby(\"LOC_KEY\").count().hist(bins=50)"
   ]
  },
  {
   "cell_type": "markdown",
   "metadata": {},
   "source": [
    "# 5. Specifying destination predictions"
   ]
  },
  {
   "cell_type": "markdown",
   "metadata": {},
   "source": [
    "## a.) Predict the mean of spots within a cell"
   ]
  },
  {
   "cell_type": "code",
   "execution_count": 28,
   "metadata": {
    "collapsed": false
   },
   "outputs": [],
   "source": [
    "cell_means = taxi_trips[[\"LOC_KEY\",\"DESTINATION_LAT\",\"DESTINATION_LNG\"]].groupby(\"LOC_KEY\").mean()\n",
    "cell_means = pd.DataFrame(cell_means).reset_index()"
   ]
  },
  {
   "cell_type": "code",
   "execution_count": 29,
   "metadata": {
    "collapsed": false
   },
   "outputs": [
    {
     "data": {
      "text/html": [
       "<div>\n",
       "<table border=\"1\" class=\"dataframe\">\n",
       "  <thead>\n",
       "    <tr style=\"text-align: right;\">\n",
       "      <th></th>\n",
       "      <th>LOC_KEY</th>\n",
       "      <th>DESTINATION_LAT</th>\n",
       "      <th>DESTINATION_LNG</th>\n",
       "    </tr>\n",
       "  </thead>\n",
       "  <tbody>\n",
       "    <tr>\n",
       "      <th>0</th>\n",
       "      <td>0_0</td>\n",
       "      <td>38.71550</td>\n",
       "      <td>-9.13660</td>\n",
       "    </tr>\n",
       "    <tr>\n",
       "      <th>1</th>\n",
       "      <td>1032_29</td>\n",
       "      <td>39.74720</td>\n",
       "      <td>-8.85570</td>\n",
       "    </tr>\n",
       "    <tr>\n",
       "      <th>2</th>\n",
       "      <td>1436_29</td>\n",
       "      <td>40.15110</td>\n",
       "      <td>-8.84870</td>\n",
       "    </tr>\n",
       "    <tr>\n",
       "      <th>3</th>\n",
       "      <td>1493_72</td>\n",
       "      <td>40.20795</td>\n",
       "      <td>-8.42455</td>\n",
       "    </tr>\n",
       "    <tr>\n",
       "      <th>4</th>\n",
       "      <td>1502_71</td>\n",
       "      <td>40.21650</td>\n",
       "      <td>-8.43550</td>\n",
       "    </tr>\n",
       "  </tbody>\n",
       "</table>\n",
       "</div>"
      ],
      "text/plain": [
       "   LOC_KEY  DESTINATION_LAT  DESTINATION_LNG\n",
       "0      0_0         38.71550         -9.13660\n",
       "1  1032_29         39.74720         -8.85570\n",
       "2  1436_29         40.15110         -8.84870\n",
       "3  1493_72         40.20795         -8.42455\n",
       "4  1502_71         40.21650         -8.43550"
      ]
     },
     "execution_count": 29,
     "metadata": {},
     "output_type": "execute_result"
    }
   ],
   "source": [
    "cell_means.head()"
   ]
  },
  {
   "cell_type": "code",
   "execution_count": 30,
   "metadata": {
    "collapsed": false
   },
   "outputs": [],
   "source": [
    "def set_mean_destination(df,detailed_locs):\n",
    "    joined = df.merge(detailed_locs,on=\"LOC_KEY\",how='left')\n",
    "    joined[\"MEAN_PRED_LAT\"] = joined.apply(lambda x: x[\"PRED_LAT\"] if x[\"DESTINATION_LAT\"] == np.nan else x[\"DESTINATION_LAT\"],axis=1)\n",
    "    joined[\"MEAN_PRED_LNG\"] = joined.apply(lambda x: x[\"PRED_LNG\"] if x[\"DESTINATION_LNG\"] == np.nan else x[\"DESTINATION_LNG\"],axis=1)\n",
    "    return joined"
   ]
  },
  {
   "cell_type": "code",
   "execution_count": 31,
   "metadata": {
    "collapsed": false
   },
   "outputs": [],
   "source": [
    "gbt_train_prediction = set_mean_destination(gbt_train_prediction,cell_means)"
   ]
  },
  {
   "cell_type": "code",
   "execution_count": 32,
   "metadata": {
    "collapsed": false
   },
   "outputs": [],
   "source": [
    "gbt_test_prediction = set_mean_destination(gbt_test_prediction,cell_means)"
   ]
  },
  {
   "cell_type": "markdown",
   "metadata": {},
   "source": [
    "#### There are 6 routes that are not covered due to the fact that I only used a small fraction of the training data"
   ]
  },
  {
   "cell_type": "code",
   "execution_count": 33,
   "metadata": {
    "collapsed": false
   },
   "outputs": [
    {
     "data": {
      "text/html": [
       "<div>\n",
       "<table border=\"1\" class=\"dataframe\">\n",
       "  <thead>\n",
       "    <tr style=\"text-align: right;\">\n",
       "      <th></th>\n",
       "      <th>CALL_TYPE</th>\n",
       "      <th>ORIGIN_CALL</th>\n",
       "      <th>ORIGIN_STAND</th>\n",
       "      <th>TAXI_ID</th>\n",
       "      <th>DAY_TYPE</th>\n",
       "      <th>MISSING_DATA</th>\n",
       "      <th>DESTINATION_LAT_FULL</th>\n",
       "      <th>DESTINATION_LNG_FULL</th>\n",
       "      <th>DEPARTURE_LAT_FULL</th>\n",
       "      <th>DEPARTURE_LNG_FULL</th>\n",
       "      <th>...</th>\n",
       "      <th>PRED_LAT</th>\n",
       "      <th>PRED_LNG</th>\n",
       "      <th>LABEL_LAT</th>\n",
       "      <th>LABEL_LNG</th>\n",
       "      <th>HAVERSINE</th>\n",
       "      <th>LOC_KEY</th>\n",
       "      <th>DESTINATION_LAT</th>\n",
       "      <th>DESTINATION_LNG</th>\n",
       "      <th>MEAN_PRED_LAT</th>\n",
       "      <th>MEAN_PRED_LNG</th>\n",
       "    </tr>\n",
       "  </thead>\n",
       "  <tbody>\n",
       "    <tr>\n",
       "      <th>70</th>\n",
       "      <td>C</td>\n",
       "      <td>38074.083333</td>\n",
       "      <td>29.99187</td>\n",
       "      <td>20000010</td>\n",
       "      <td>A</td>\n",
       "      <td>False</td>\n",
       "      <td>41.556375</td>\n",
       "      <td>-8.376903</td>\n",
       "      <td>41.179689</td>\n",
       "      <td>-8.624304</td>\n",
       "      <td>...</td>\n",
       "      <td>41.517433</td>\n",
       "      <td>-8.433817</td>\n",
       "      <td>41.556375</td>\n",
       "      <td>-8.376903</td>\n",
       "      <td>6.417958</td>\n",
       "      <td>2841_76</td>\n",
       "      <td>NaN</td>\n",
       "      <td>NaN</td>\n",
       "      <td>NaN</td>\n",
       "      <td>NaN</td>\n",
       "    </tr>\n",
       "    <tr>\n",
       "      <th>71</th>\n",
       "      <td>C</td>\n",
       "      <td>38074.083333</td>\n",
       "      <td>29.99187</td>\n",
       "      <td>20000004</td>\n",
       "      <td>A</td>\n",
       "      <td>False</td>\n",
       "      <td>41.330565</td>\n",
       "      <td>-8.729766</td>\n",
       "      <td>41.163660</td>\n",
       "      <td>-8.663877</td>\n",
       "      <td>...</td>\n",
       "      <td>41.291100</td>\n",
       "      <td>-8.715082</td>\n",
       "      <td>41.330565</td>\n",
       "      <td>-8.729766</td>\n",
       "      <td>4.556517</td>\n",
       "      <td>2616_41</td>\n",
       "      <td>NaN</td>\n",
       "      <td>NaN</td>\n",
       "      <td>NaN</td>\n",
       "      <td>NaN</td>\n",
       "    </tr>\n",
       "    <tr>\n",
       "      <th>111</th>\n",
       "      <td>A</td>\n",
       "      <td>2002.000000</td>\n",
       "      <td>29.99187</td>\n",
       "      <td>20000230</td>\n",
       "      <td>A</td>\n",
       "      <td>False</td>\n",
       "      <td>41.196969</td>\n",
       "      <td>-8.506980</td>\n",
       "      <td>41.181768</td>\n",
       "      <td>-8.601291</td>\n",
       "      <td>...</td>\n",
       "      <td>41.194662</td>\n",
       "      <td>-8.522353</td>\n",
       "      <td>41.196969</td>\n",
       "      <td>-8.506980</td>\n",
       "      <td>1.311599</td>\n",
       "      <td>2482_63</td>\n",
       "      <td>NaN</td>\n",
       "      <td>NaN</td>\n",
       "      <td>NaN</td>\n",
       "      <td>NaN</td>\n",
       "    </tr>\n",
       "    <tr>\n",
       "      <th>125</th>\n",
       "      <td>C</td>\n",
       "      <td>38074.083333</td>\n",
       "      <td>29.99187</td>\n",
       "      <td>20000384</td>\n",
       "      <td>A</td>\n",
       "      <td>False</td>\n",
       "      <td>41.185035</td>\n",
       "      <td>-7.551891</td>\n",
       "      <td>41.168538</td>\n",
       "      <td>-8.546940</td>\n",
       "      <td>...</td>\n",
       "      <td>41.179523</td>\n",
       "      <td>-7.567966</td>\n",
       "      <td>41.185035</td>\n",
       "      <td>-7.551891</td>\n",
       "      <td>1.478303</td>\n",
       "      <td>2470_159</td>\n",
       "      <td>NaN</td>\n",
       "      <td>NaN</td>\n",
       "      <td>NaN</td>\n",
       "      <td>NaN</td>\n",
       "    </tr>\n",
       "    <tr>\n",
       "      <th>230</th>\n",
       "      <td>B</td>\n",
       "      <td>38074.083333</td>\n",
       "      <td>57.00000</td>\n",
       "      <td>20000554</td>\n",
       "      <td>A</td>\n",
       "      <td>False</td>\n",
       "      <td>41.120460</td>\n",
       "      <td>-8.585766</td>\n",
       "      <td>41.145597</td>\n",
       "      <td>-8.610777</td>\n",
       "      <td>...</td>\n",
       "      <td>41.120794</td>\n",
       "      <td>-8.591915</td>\n",
       "      <td>41.120460</td>\n",
       "      <td>-8.585766</td>\n",
       "      <td>0.516423</td>\n",
       "      <td>2405_56</td>\n",
       "      <td>NaN</td>\n",
       "      <td>NaN</td>\n",
       "      <td>NaN</td>\n",
       "      <td>NaN</td>\n",
       "    </tr>\n",
       "    <tr>\n",
       "      <th>253</th>\n",
       "      <td>C</td>\n",
       "      <td>38074.083333</td>\n",
       "      <td>29.99187</td>\n",
       "      <td>20000192</td>\n",
       "      <td>A</td>\n",
       "      <td>False</td>\n",
       "      <td>41.091489</td>\n",
       "      <td>-8.650017</td>\n",
       "      <td>41.145876</td>\n",
       "      <td>-8.613540</td>\n",
       "      <td>...</td>\n",
       "      <td>41.101321</td>\n",
       "      <td>-8.641256</td>\n",
       "      <td>41.091489</td>\n",
       "      <td>-8.650017</td>\n",
       "      <td>1.316855</td>\n",
       "      <td>2377_49</td>\n",
       "      <td>NaN</td>\n",
       "      <td>NaN</td>\n",
       "      <td>NaN</td>\n",
       "      <td>NaN</td>\n",
       "    </tr>\n",
       "  </tbody>\n",
       "</table>\n",
       "<p>6 rows × 50 columns</p>\n",
       "</div>"
      ],
      "text/plain": [
       "    CALL_TYPE   ORIGIN_CALL  ORIGIN_STAND   TAXI_ID DAY_TYPE MISSING_DATA  \\\n",
       "70          C  38074.083333      29.99187  20000010        A        False   \n",
       "71          C  38074.083333      29.99187  20000004        A        False   \n",
       "111         A   2002.000000      29.99187  20000230        A        False   \n",
       "125         C  38074.083333      29.99187  20000384        A        False   \n",
       "230         B  38074.083333      57.00000  20000554        A        False   \n",
       "253         C  38074.083333      29.99187  20000192        A        False   \n",
       "\n",
       "     DESTINATION_LAT_FULL  DESTINATION_LNG_FULL  DEPARTURE_LAT_FULL  \\\n",
       "70              41.556375             -8.376903           41.179689   \n",
       "71              41.330565             -8.729766           41.163660   \n",
       "111             41.196969             -8.506980           41.181768   \n",
       "125             41.185035             -7.551891           41.168538   \n",
       "230             41.120460             -8.585766           41.145597   \n",
       "253             41.091489             -8.650017           41.145876   \n",
       "\n",
       "     DEPARTURE_LNG_FULL      ...         PRED_LAT  PRED_LNG  LABEL_LAT  \\\n",
       "70            -8.624304      ...        41.517433 -8.433817  41.556375   \n",
       "71            -8.663877      ...        41.291100 -8.715082  41.330565   \n",
       "111           -8.601291      ...        41.194662 -8.522353  41.196969   \n",
       "125           -8.546940      ...        41.179523 -7.567966  41.185035   \n",
       "230           -8.610777      ...        41.120794 -8.591915  41.120460   \n",
       "253           -8.613540      ...        41.101321 -8.641256  41.091489   \n",
       "\n",
       "     LABEL_LNG  HAVERSINE   LOC_KEY  DESTINATION_LAT  DESTINATION_LNG  \\\n",
       "70   -8.376903   6.417958   2841_76              NaN              NaN   \n",
       "71   -8.729766   4.556517   2616_41              NaN              NaN   \n",
       "111  -8.506980   1.311599   2482_63              NaN              NaN   \n",
       "125  -7.551891   1.478303  2470_159              NaN              NaN   \n",
       "230  -8.585766   0.516423   2405_56              NaN              NaN   \n",
       "253  -8.650017   1.316855   2377_49              NaN              NaN   \n",
       "\n",
       "     MEAN_PRED_LAT  MEAN_PRED_LNG  \n",
       "70             NaN            NaN  \n",
       "71             NaN            NaN  \n",
       "111            NaN            NaN  \n",
       "125            NaN            NaN  \n",
       "230            NaN            NaN  \n",
       "253            NaN            NaN  \n",
       "\n",
       "[6 rows x 50 columns]"
      ]
     },
     "execution_count": 33,
     "metadata": {},
     "output_type": "execute_result"
    }
   ],
   "source": [
    "gbt_test_prediction[gbt_test_prediction[\"MEAN_PRED_LNG\"].isnull()]"
   ]
  },
  {
   "cell_type": "markdown",
   "metadata": {},
   "source": [
    "### Performance results of the mean predictor model"
   ]
  },
  {
   "cell_type": "code",
   "execution_count": 34,
   "metadata": {
    "collapsed": false
   },
   "outputs": [
    {
     "name": "stdout",
     "output_type": "stream",
     "text": [
      "Test: 0.172401, Train: 0.142799 (Haversine)\n"
     ]
    }
   ],
   "source": [
    "mean_pred_train_haversine, _ = mu.compute_mean_haversine(gbt_train_prediction,(\"MEAN_PRED_LAT\",\"MEAN_PRED_LNG\"),(\"LABEL_LAT\",\"LABEL_LNG\"))\n",
    "mean_pred_test_haversine, _ = mu.compute_mean_haversine(gbt_test_prediction,(\"MEAN_PRED_LAT\",\"MEAN_PRED_LNG\"),(\"LABEL_LAT\",\"LABEL_LNG\"))\n",
    "print \"Test: %f, Train: %f (Haversine)\" % (mean_pred_test_haversine,mean_pred_train_haversine)"
   ]
  },
  {
   "cell_type": "code",
   "execution_count": 35,
   "metadata": {
    "collapsed": false
   },
   "outputs": [
    {
     "name": "stdout",
     "output_type": "stream",
     "text": [
      "0.172401286192\n"
     ]
    }
   ],
   "source": [
    "mean_pred_test_haversine, _ = mu.compute_mean_haversine(gbt_test_prediction,(\"MEAN_PRED_LAT\",\"MEAN_PRED_LNG\"),(\"LABEL_LAT\",\"LABEL_LNG\"))\n",
    "print mean_pred_test_haversine"
   ]
  },
  {
   "cell_type": "code",
   "execution_count": 36,
   "metadata": {
    "collapsed": false
   },
   "outputs": [
    {
     "name": "stdout",
     "output_type": "stream",
     "text": [
      "50000 320\n"
     ]
    }
   ],
   "source": [
    "print len(gbt_train_prediction), len(gbt_test_prediction)"
   ]
  },
  {
   "cell_type": "markdown",
   "metadata": {},
   "source": [
    "## b.) Combine locations using k-closest point"
   ]
  },
  {
   "cell_type": "markdown",
   "metadata": {},
   "source": [
    "#### Trip length based features had to be excluded: because in test the trip length was smaller"
   ]
  },
  {
   "cell_type": "code",
   "execution_count": 37,
   "metadata": {
    "collapsed": false
   },
   "outputs": [
    {
     "name": "stdout",
     "output_type": "stream",
     "text": [
      "['DEPARTURE_LAT', 'TRIP_LAT_MEAN', 'TRIP_LAT_MIN', 'TRIP_LAT_MAX', 'TRIP_LAT_MEDIAN', 'DEPARTURE_LNG', 'TRIP_LNG_MEAN', 'TRIP_LNG_MIN', 'TRIP_LNG_MAX', 'TRIP_LNG_MEDIAN', 'DESTINATION_LAT_FULL', 'DESTINATION_LNG_FULL']\n"
     ]
    }
   ],
   "source": [
    "#feat_order = list(gbt_importances[\"name\"])\n",
    "feat_order = []\n",
    "feat_order += [\"DEPARTURE_LAT\",\"TRIP_LAT_MEAN\",\"TRIP_LAT_MIN\",\"TRIP_LAT_MAX\",\"TRIP_LAT_MEDIAN\"]\n",
    "feat_order += [\"DEPARTURE_LNG\",\"TRIP_LNG_MEAN\",\"TRIP_LNG_MIN\",\"TRIP_LNG_MAX\",\"TRIP_LNG_MEDIAN\"]\n",
    "feat_order += ['DESTINATION_LAT_FULL', 'DESTINATION_LNG_FULL']\n",
    "print feat_order"
   ]
  },
  {
   "cell_type": "code",
   "execution_count": 38,
   "metadata": {
    "collapsed": false
   },
   "outputs": [
    {
     "name": "stdout",
     "output_type": "stream",
     "text": [
      "Number of unique cell keys: 2249\n",
      "CPU times: user 15.7 s, sys: 34 ms, total: 15.7 s\n",
      "Wall time: 15.7 s\n"
     ]
    }
   ],
   "source": [
    "%%time\n",
    "knn_models, cell_locations = mu.init_knn_models(gbt_train_prediction,feat_order,k=2)"
   ]
  },
  {
   "cell_type": "code",
   "execution_count": 39,
   "metadata": {
    "collapsed": false
   },
   "outputs": [
    {
     "name": "stdout",
     "output_type": "stream",
     "text": [
      "CPU times: user 882 ms, sys: 2 ms, total: 884 ms\n",
      "Wall time: 881 ms\n"
     ]
    }
   ],
   "source": [
    "%%time\n",
    "mu.predict_with_knn(gbt_test_prediction,knn_models,cell_locations,feat_order)"
   ]
  },
  {
   "cell_type": "markdown",
   "metadata": {
    "collapsed": false
   },
   "source": [
    "%%time\n",
    "predict_with_knn(gbt_train_prediction,knn_models,cell_locations,feat_order)"
   ]
  },
  {
   "cell_type": "code",
   "execution_count": 40,
   "metadata": {
    "collapsed": false,
    "scrolled": true
   },
   "outputs": [
    {
     "data": {
      "text/html": [
       "<div>\n",
       "<table border=\"1\" class=\"dataframe\">\n",
       "  <thead>\n",
       "    <tr style=\"text-align: right;\">\n",
       "      <th></th>\n",
       "      <th>DEPARTURE_LAT</th>\n",
       "      <th>TRIP_LAT_MEAN</th>\n",
       "      <th>TRIP_LAT_MIN</th>\n",
       "      <th>TRIP_LAT_MAX</th>\n",
       "      <th>TRIP_LAT_MEDIAN</th>\n",
       "      <th>DEPARTURE_LNG</th>\n",
       "      <th>TRIP_LNG_MEAN</th>\n",
       "      <th>TRIP_LNG_MIN</th>\n",
       "      <th>TRIP_LNG_MAX</th>\n",
       "      <th>TRIP_LNG_MEDIAN</th>\n",
       "      <th>DESTINATION_LAT_FULL</th>\n",
       "      <th>DESTINATION_LNG_FULL</th>\n",
       "    </tr>\n",
       "  </thead>\n",
       "  <tbody>\n",
       "    <tr>\n",
       "      <th>0</th>\n",
       "      <td>41.149</td>\n",
       "      <td>41.148444</td>\n",
       "      <td>41.147000</td>\n",
       "      <td>41.149000</td>\n",
       "      <td>41.149000</td>\n",
       "      <td>-8.59</td>\n",
       "      <td>-8.590000</td>\n",
       "      <td>-8.590000</td>\n",
       "      <td>-8.590000</td>\n",
       "      <td>-8.590000</td>\n",
       "      <td>41.146623</td>\n",
       "      <td>-8.584884</td>\n",
       "    </tr>\n",
       "    <tr>\n",
       "      <th>1</th>\n",
       "      <td>41.146</td>\n",
       "      <td>41.154658</td>\n",
       "      <td>41.146000</td>\n",
       "      <td>41.163000</td>\n",
       "      <td>41.154000</td>\n",
       "      <td>-8.61</td>\n",
       "      <td>-8.604474</td>\n",
       "      <td>-8.610000</td>\n",
       "      <td>-8.600000</td>\n",
       "      <td>-8.600000</td>\n",
       "      <td>41.163597</td>\n",
       "      <td>-8.601894</td>\n",
       "    </tr>\n",
       "    <tr>\n",
       "      <th>2</th>\n",
       "      <td>41.149</td>\n",
       "      <td>41.154605</td>\n",
       "      <td>41.145000</td>\n",
       "      <td>41.167000</td>\n",
       "      <td>41.154000</td>\n",
       "      <td>-8.59</td>\n",
       "      <td>-8.582105</td>\n",
       "      <td>-8.590000</td>\n",
       "      <td>-8.580000</td>\n",
       "      <td>-8.580000</td>\n",
       "      <td>41.167719</td>\n",
       "      <td>-8.574903</td>\n",
       "    </tr>\n",
       "    <tr>\n",
       "      <th>3</th>\n",
       "      <td>41.141</td>\n",
       "      <td>41.141000</td>\n",
       "      <td>41.141000</td>\n",
       "      <td>41.141000</td>\n",
       "      <td>41.141000</td>\n",
       "      <td>-8.61</td>\n",
       "      <td>-8.618333</td>\n",
       "      <td>-8.620000</td>\n",
       "      <td>-8.610000</td>\n",
       "      <td>-8.620000</td>\n",
       "      <td>41.140980</td>\n",
       "      <td>-8.614638</td>\n",
       "    </tr>\n",
       "    <tr>\n",
       "      <th>4</th>\n",
       "      <td>41.148</td>\n",
       "      <td>41.160227</td>\n",
       "      <td>41.152359</td>\n",
       "      <td>41.168429</td>\n",
       "      <td>41.160223</td>\n",
       "      <td>-8.62</td>\n",
       "      <td>-8.614016</td>\n",
       "      <td>-8.626795</td>\n",
       "      <td>-8.603013</td>\n",
       "      <td>-8.613365</td>\n",
       "      <td>41.148036</td>\n",
       "      <td>-8.619894</td>\n",
       "    </tr>\n",
       "  </tbody>\n",
       "</table>\n",
       "</div>"
      ],
      "text/plain": [
       "   DEPARTURE_LAT  TRIP_LAT_MEAN  TRIP_LAT_MIN  TRIP_LAT_MAX  TRIP_LAT_MEDIAN  \\\n",
       "0         41.149      41.148444     41.147000     41.149000        41.149000   \n",
       "1         41.146      41.154658     41.146000     41.163000        41.154000   \n",
       "2         41.149      41.154605     41.145000     41.167000        41.154000   \n",
       "3         41.141      41.141000     41.141000     41.141000        41.141000   \n",
       "4         41.148      41.160227     41.152359     41.168429        41.160223   \n",
       "\n",
       "   DEPARTURE_LNG  TRIP_LNG_MEAN  TRIP_LNG_MIN  TRIP_LNG_MAX  TRIP_LNG_MEDIAN  \\\n",
       "0          -8.59      -8.590000     -8.590000     -8.590000        -8.590000   \n",
       "1          -8.61      -8.604474     -8.610000     -8.600000        -8.600000   \n",
       "2          -8.59      -8.582105     -8.590000     -8.580000        -8.580000   \n",
       "3          -8.61      -8.618333     -8.620000     -8.610000        -8.620000   \n",
       "4          -8.62      -8.614016     -8.626795     -8.603013        -8.613365   \n",
       "\n",
       "   DESTINATION_LAT_FULL  DESTINATION_LNG_FULL  \n",
       "0             41.146623             -8.584884  \n",
       "1             41.163597             -8.601894  \n",
       "2             41.167719             -8.574903  \n",
       "3             41.140980             -8.614638  \n",
       "4             41.148036             -8.619894  "
      ]
     },
     "execution_count": 40,
     "metadata": {},
     "output_type": "execute_result"
    }
   ],
   "source": [
    "gbt_test_prediction[feat_order].head()"
   ]
  },
  {
   "cell_type": "markdown",
   "metadata": {},
   "source": [
    "### Performance results of the k-NN based model"
   ]
  },
  {
   "cell_type": "code",
   "execution_count": 41,
   "metadata": {
    "collapsed": false
   },
   "outputs": [
    {
     "name": "stdout",
     "output_type": "stream",
     "text": [
      "0.173984321749\n"
     ]
    }
   ],
   "source": [
    "knn_pred_test_haversine, _ = mu.compute_mean_haversine(gbt_test_prediction,(\"KNN_PRED_LAT\",\"KNN_PRED_LNG\"),(\"LABEL_LAT\",\"LABEL_LNG\"))\n",
    "print knn_pred_test_haversine"
   ]
  },
  {
   "cell_type": "code",
   "execution_count": 42,
   "metadata": {
    "collapsed": false
   },
   "outputs": [
    {
     "data": {
      "text/plain": [
       "320"
      ]
     },
     "execution_count": 42,
     "metadata": {},
     "output_type": "execute_result"
    }
   ],
   "source": [
    "len(gbt_test_prediction)"
   ]
  },
  {
   "cell_type": "code",
   "execution_count": 43,
   "metadata": {
    "collapsed": false
   },
   "outputs": [
    {
     "data": {
      "text/plain": [
       "310"
      ]
     },
     "execution_count": 43,
     "metadata": {},
     "output_type": "execute_result"
    }
   ],
   "source": [
    "len(gbt_test_prediction[(gbt_test_prediction[\"MEAN_PRED_LAT\"] != gbt_test_prediction[\"KNN_PRED_LAT\"]) | (gbt_test_prediction[\"MEAN_PRED_LNG\"] != gbt_test_prediction[\"KNN_PRED_LNG\"])])"
   ]
  },
  {
   "cell_type": "markdown",
   "metadata": {},
   "source": [
    "# Visualization of the predictions"
   ]
  },
  {
   "cell_type": "code",
   "execution_count": 48,
   "metadata": {
    "collapsed": false
   },
   "outputs": [
    {
     "data": {
      "text/html": [
       "\n",
       "    <div class=\"bk-root\">\n",
       "        <a href=\"http://bokeh.pydata.org\" target=\"_blank\" class=\"bk-logo bk-logo-small bk-logo-notebook\"></a>\n",
       "        <span id=\"83572324-1cd7-4b4f-8fc6-e6b0108f5b2a\">Loading BokehJS ...</span>\n",
       "    </div>"
      ]
     },
     "metadata": {},
     "output_type": "display_data"
    },
    {
     "data": {
      "application/javascript": [
       "\n",
       "(function(global) {\n",
       "  function now() {\n",
       "    return new Date();\n",
       "  }\n",
       "\n",
       "  var force = \"1\";\n",
       "\n",
       "  if (typeof (window._bokeh_onload_callbacks) === \"undefined\" || force !== \"\") {\n",
       "    window._bokeh_onload_callbacks = [];\n",
       "    window._bokeh_is_loading = undefined;\n",
       "  }\n",
       "\n",
       "\n",
       "  \n",
       "  if (typeof (window._bokeh_timeout) === \"undefined\" || force !== \"\") {\n",
       "    window._bokeh_timeout = Date.now() + 5000;\n",
       "    window._bokeh_failed_load = false;\n",
       "  }\n",
       "\n",
       "  var NB_LOAD_WARNING = {'data': {'text/html':\n",
       "     \"<div style='background-color: #fdd'>\\n\"+\n",
       "     \"<p>\\n\"+\n",
       "     \"BokehJS does not appear to have successfully loaded. If loading BokehJS from CDN, this \\n\"+\n",
       "     \"may be due to a slow or bad network connection. Possible fixes:\\n\"+\n",
       "     \"</p>\\n\"+\n",
       "     \"<ul>\\n\"+\n",
       "     \"<li>re-rerun `output_notebook()` to attempt to load from CDN again, or</li>\\n\"+\n",
       "     \"<li>use INLINE resources instead, as so:</li>\\n\"+\n",
       "     \"</ul>\\n\"+\n",
       "     \"<code>\\n\"+\n",
       "     \"from bokeh.resources import INLINE\\n\"+\n",
       "     \"output_notebook(resources=INLINE)\\n\"+\n",
       "     \"</code>\\n\"+\n",
       "     \"</div>\"}};\n",
       "\n",
       "  function display_loaded() {\n",
       "    if (window.Bokeh !== undefined) {\n",
       "      Bokeh.$(\"#83572324-1cd7-4b4f-8fc6-e6b0108f5b2a\").text(\"BokehJS successfully loaded.\");\n",
       "    } else if (Date.now() < window._bokeh_timeout) {\n",
       "      setTimeout(display_loaded, 100)\n",
       "    }\n",
       "  }\n",
       "\n",
       "  function run_callbacks() {\n",
       "    window._bokeh_onload_callbacks.forEach(function(callback) { callback() });\n",
       "    delete window._bokeh_onload_callbacks\n",
       "    console.info(\"Bokeh: all callbacks have finished\");\n",
       "  }\n",
       "\n",
       "  function load_libs(js_urls, callback) {\n",
       "    window._bokeh_onload_callbacks.push(callback);\n",
       "    if (window._bokeh_is_loading > 0) {\n",
       "      console.log(\"Bokeh: BokehJS is being loaded, scheduling callback at\", now());\n",
       "      return null;\n",
       "    }\n",
       "    if (js_urls == null || js_urls.length === 0) {\n",
       "      run_callbacks();\n",
       "      return null;\n",
       "    }\n",
       "    console.log(\"Bokeh: BokehJS not loaded, scheduling load and callback at\", now());\n",
       "    window._bokeh_is_loading = js_urls.length;\n",
       "    for (var i = 0; i < js_urls.length; i++) {\n",
       "      var url = js_urls[i];\n",
       "      var s = document.createElement('script');\n",
       "      s.src = url;\n",
       "      s.async = false;\n",
       "      s.onreadystatechange = s.onload = function() {\n",
       "        window._bokeh_is_loading--;\n",
       "        if (window._bokeh_is_loading === 0) {\n",
       "          console.log(\"Bokeh: all BokehJS libraries loaded\");\n",
       "          run_callbacks()\n",
       "        }\n",
       "      };\n",
       "      s.onerror = function() {\n",
       "        console.warn(\"failed to load library \" + url);\n",
       "      };\n",
       "      console.log(\"Bokeh: injecting script tag for BokehJS library: \", url);\n",
       "      document.getElementsByTagName(\"head\")[0].appendChild(s);\n",
       "    }\n",
       "  };var element = document.getElementById(\"83572324-1cd7-4b4f-8fc6-e6b0108f5b2a\");\n",
       "  if (element == null) {\n",
       "    console.log(\"Bokeh: ERROR: autoload.js configured with elementid '83572324-1cd7-4b4f-8fc6-e6b0108f5b2a' but no matching script tag was found. \")\n",
       "    return false;\n",
       "  }\n",
       "\n",
       "  var js_urls = ['https://cdn.pydata.org/bokeh/release/bokeh-0.12.2.min.js', 'https://cdn.pydata.org/bokeh/release/bokeh-widgets-0.12.2.min.js', 'https://cdn.pydata.org/bokeh/release/bokeh-compiler-0.12.2.min.js'];\n",
       "\n",
       "  var inline_js = [\n",
       "    function(Bokeh) {\n",
       "      Bokeh.set_log_level(\"info\");\n",
       "    },\n",
       "    \n",
       "    function(Bokeh) {\n",
       "      \n",
       "      Bokeh.$(\"#83572324-1cd7-4b4f-8fc6-e6b0108f5b2a\").text(\"BokehJS is loading...\");\n",
       "    },\n",
       "    function(Bokeh) {\n",
       "      console.log(\"Bokeh: injecting CSS: https://cdn.pydata.org/bokeh/release/bokeh-0.12.2.min.css\");\n",
       "      Bokeh.embed.inject_css(\"https://cdn.pydata.org/bokeh/release/bokeh-0.12.2.min.css\");\n",
       "      console.log(\"Bokeh: injecting CSS: https://cdn.pydata.org/bokeh/release/bokeh-widgets-0.12.2.min.css\");\n",
       "      Bokeh.embed.inject_css(\"https://cdn.pydata.org/bokeh/release/bokeh-widgets-0.12.2.min.css\");\n",
       "    }\n",
       "  ];\n",
       "\n",
       "  function run_inline_js() {\n",
       "    \n",
       "    if ((window.Bokeh !== undefined) || (force === \"1\")) {\n",
       "      for (var i = 0; i < inline_js.length; i++) {\n",
       "        inline_js[i](window.Bokeh);\n",
       "      }if (force === \"1\") {\n",
       "        display_loaded();\n",
       "      }} else if (Date.now() < window._bokeh_timeout) {\n",
       "      setTimeout(run_inline_js, 100);\n",
       "    } else if (!window._bokeh_failed_load) {\n",
       "      console.log(\"Bokeh: BokehJS failed to load within specified timeout.\");\n",
       "      window._bokeh_failed_load = true;\n",
       "    } else if (!force) {\n",
       "      var cell = $(\"#83572324-1cd7-4b4f-8fc6-e6b0108f5b2a\").parents('.cell').data().cell;\n",
       "      cell.output_area.append_execute_result(NB_LOAD_WARNING)\n",
       "    }\n",
       "\n",
       "  }\n",
       "\n",
       "  if (window._bokeh_is_loading === 0) {\n",
       "    console.log(\"Bokeh: BokehJS loaded, going straight to plotting\");\n",
       "    run_inline_js();\n",
       "  } else {\n",
       "    load_libs(js_urls, function() {\n",
       "      console.log(\"Bokeh: BokehJS plotting callback run at\", now());\n",
       "      run_inline_js();\n",
       "    });\n",
       "  }\n",
       "}(this));"
      ]
     },
     "metadata": {},
     "output_type": "display_data"
    }
   ],
   "source": [
    "from bokeh.plotting import figure, show, output_file, output_notebook\n",
    "output_notebook()\n",
    "\n",
    "def visualize_predition(df, pred_prefix, mean_haversine, show_mean=False):\n",
    "    lat0 = df[\"LABEL_LAT\"]\n",
    "    lat1 = df[\"%s_PRED_LAT\" % pred_prefix]\n",
    "    lng0 = df[\"LABEL_LNG\"]\n",
    "    lng1 = df[\"%s_PRED_LNG\" % pred_prefix]\n",
    "    lat2 = df[\"MEAN_PRED_LAT\"]\n",
    "    lng2 = df[\"MEAN_PRED_LNG\"]\n",
    "    # init plot\n",
    "    p = figure(title = \"Predicted Destinations with %s. Mean Haversine distance: %f\" % (pred_prefix,mean_haversine), width=900, height=600)\n",
    "    p.xaxis.axis_label = 'LNG'\n",
    "    p.yaxis.axis_label = 'LAT'\n",
    "    # errors\n",
    "    p.segment(x0=lng0, y0=lat0, x1=lng1, y1=lat1, color=\"black\", line_width=1)\n",
    "    # locations\n",
    "    if show_mean:\n",
    "        p.circle(lng2, lat2, color='green', fill_alpha=0.2, size=10)\n",
    "    p.circle(lng1, lat1, color='red', fill_alpha=0.2, size=10)\n",
    "    p.circle(lng0, lat0, color='blue', fill_alpha=0.2, size=10)\n",
    "    #output\n",
    "    output_file(\"%s_destination_prediction_lng%i_lat%i.html\" % (pred_prefix, lng_digits, lat_digits), title=\"Predicted Destinations\")\n",
    "    show(p, notebook_handle=True)"
   ]
  },
  {
   "cell_type": "markdown",
   "metadata": {},
   "source": [
    "### Prediction results of the mean predictor"
   ]
  },
  {
   "cell_type": "code",
   "execution_count": 49,
   "metadata": {
    "collapsed": false
   },
   "outputs": [
    {
     "name": "stderr",
     "output_type": "stream",
     "text": [
      "INFO:bokeh.core.state:Session output file 'MEAN_destination_prediction_lng2_lat3.html' already exists, will be overwritten.\n"
     ]
    },
    {
     "data": {
      "text/html": [
       "\n",
       "\n",
       "    <div class=\"bk-root\">\n",
       "        <div class=\"plotdiv\" id=\"fc266e32-23ab-4829-ac80-a2838dbcaefc\"></div>\n",
       "    </div>\n",
       "<script type=\"text/javascript\">\n",
       "  \n",
       "  (function(global) {\n",
       "    function now() {\n",
       "      return new Date();\n",
       "    }\n",
       "  \n",
       "    var force = \"\";\n",
       "  \n",
       "    if (typeof (window._bokeh_onload_callbacks) === \"undefined\" || force !== \"\") {\n",
       "      window._bokeh_onload_callbacks = [];\n",
       "      window._bokeh_is_loading = undefined;\n",
       "    }\n",
       "  \n",
       "  \n",
       "    \n",
       "    if (typeof (window._bokeh_timeout) === \"undefined\" || force !== \"\") {\n",
       "      window._bokeh_timeout = Date.now() + 0;\n",
       "      window._bokeh_failed_load = false;\n",
       "    }\n",
       "  \n",
       "    var NB_LOAD_WARNING = {'data': {'text/html':\n",
       "       \"<div style='background-color: #fdd'>\\n\"+\n",
       "       \"<p>\\n\"+\n",
       "       \"BokehJS does not appear to have successfully loaded. If loading BokehJS from CDN, this \\n\"+\n",
       "       \"may be due to a slow or bad network connection. Possible fixes:\\n\"+\n",
       "       \"</p>\\n\"+\n",
       "       \"<ul>\\n\"+\n",
       "       \"<li>re-rerun `output_notebook()` to attempt to load from CDN again, or</li>\\n\"+\n",
       "       \"<li>use INLINE resources instead, as so:</li>\\n\"+\n",
       "       \"</ul>\\n\"+\n",
       "       \"<code>\\n\"+\n",
       "       \"from bokeh.resources import INLINE\\n\"+\n",
       "       \"output_notebook(resources=INLINE)\\n\"+\n",
       "       \"</code>\\n\"+\n",
       "       \"</div>\"}};\n",
       "  \n",
       "    function display_loaded() {\n",
       "      if (window.Bokeh !== undefined) {\n",
       "        Bokeh.$(\"#fc266e32-23ab-4829-ac80-a2838dbcaefc\").text(\"BokehJS successfully loaded.\");\n",
       "      } else if (Date.now() < window._bokeh_timeout) {\n",
       "        setTimeout(display_loaded, 100)\n",
       "      }\n",
       "    }if ((window.Jupyter !== undefined) && Jupyter.notebook.kernel) {\n",
       "      comm_manager = Jupyter.notebook.kernel.comm_manager\n",
       "      comm_manager.register_target(\"1e684f16-729e-4e8e-ac56-5e21587eb5f6\", function () {});\n",
       "    }\n",
       "  \n",
       "    function run_callbacks() {\n",
       "      window._bokeh_onload_callbacks.forEach(function(callback) { callback() });\n",
       "      delete window._bokeh_onload_callbacks\n",
       "      console.info(\"Bokeh: all callbacks have finished\");\n",
       "    }\n",
       "  \n",
       "    function load_libs(js_urls, callback) {\n",
       "      window._bokeh_onload_callbacks.push(callback);\n",
       "      if (window._bokeh_is_loading > 0) {\n",
       "        console.log(\"Bokeh: BokehJS is being loaded, scheduling callback at\", now());\n",
       "        return null;\n",
       "      }\n",
       "      if (js_urls == null || js_urls.length === 0) {\n",
       "        run_callbacks();\n",
       "        return null;\n",
       "      }\n",
       "      console.log(\"Bokeh: BokehJS not loaded, scheduling load and callback at\", now());\n",
       "      window._bokeh_is_loading = js_urls.length;\n",
       "      for (var i = 0; i < js_urls.length; i++) {\n",
       "        var url = js_urls[i];\n",
       "        var s = document.createElement('script');\n",
       "        s.src = url;\n",
       "        s.async = false;\n",
       "        s.onreadystatechange = s.onload = function() {\n",
       "          window._bokeh_is_loading--;\n",
       "          if (window._bokeh_is_loading === 0) {\n",
       "            console.log(\"Bokeh: all BokehJS libraries loaded\");\n",
       "            run_callbacks()\n",
       "          }\n",
       "        };\n",
       "        s.onerror = function() {\n",
       "          console.warn(\"failed to load library \" + url);\n",
       "        };\n",
       "        console.log(\"Bokeh: injecting script tag for BokehJS library: \", url);\n",
       "        document.getElementsByTagName(\"head\")[0].appendChild(s);\n",
       "      }\n",
       "    };var element = document.getElementById(\"fc266e32-23ab-4829-ac80-a2838dbcaefc\");\n",
       "    if (element == null) {\n",
       "      console.log(\"Bokeh: ERROR: autoload.js configured with elementid 'fc266e32-23ab-4829-ac80-a2838dbcaefc' but no matching script tag was found. \")\n",
       "      return false;\n",
       "    }\n",
       "  \n",
       "    var js_urls = [];\n",
       "  \n",
       "    var inline_js = [\n",
       "      function(Bokeh) {\n",
       "        Bokeh.$(function() {\n",
       "            var docs_json = {\"a1991fe6-ecba-49bd-bdfd-6de29fc2f55e\":{\"roots\":{\"references\":[{\"attributes\":{\"fill_alpha\":{\"value\":0.2},\"fill_color\":{\"value\":\"red\"},\"line_color\":{\"value\":\"red\"},\"size\":{\"units\":\"screen\",\"value\":10},\"x\":{\"field\":\"x\"},\"y\":{\"field\":\"y\"}},\"id\":\"094d3e05-1960-4591-bd07-2382a590ef90\",\"type\":\"Circle\"},{\"attributes\":{\"callback\":null,\"column_names\":[\"y\",\"x\"],\"data\":{\"x\":[-8.584883999999999,-8.601894,-8.574902999999999,-8.614638000000001,-8.619894,-8.62641,-8.582049000000001,-8.578773,-8.605494,-8.586306,-8.588232000000001,-8.596647,-8.584335000000001,-8.669475,-8.610174,-8.65287,-8.629064999999999,-8.627949000000001,-8.589789,-8.641521000000001,-8.585757000000001,-8.61156,-8.628767999999999,-8.585658,-8.641116,-8.606717999999999,-8.593488,-8.587017,-8.61138,-8.581104,-8.581211999999999,-8.609814,-8.627202,-8.567478,-8.617094999999999,-8.604503999999999,-8.692461,-8.630982000000001,-8.586135,-8.616168,-8.604405,-8.585567999999999,-8.613495,-8.594486999999999,-8.61768,-8.594433,-8.617716,-8.632881,-8.552907000000001,-8.625798,-8.601723,-8.61093,-8.598924,-8.586369,-8.601084,-8.606295,-8.594567999999999,-8.632728,-8.642916,-8.604711,-8.597484,-8.579961,-8.589078,-8.583552000000001,-8.601804,-8.594433,-8.601714,-8.629452,-8.611218,-8.624907,-8.376903,-8.729766,-8.593407000000001,-8.570601,-8.627238,-8.625627,-8.611866000000001,-8.648055000000001,-8.596809,-8.656389,-8.625519,-8.639658,-8.652528,-8.577774,-8.625573,-8.584191,-8.626725,-8.588853,-8.631423,-8.629425,-8.668053,-8.652114,-8.643807,-8.606394,-8.680635,-8.630289,-8.609229,-8.663427,-8.611146000000002,-8.605647,-8.628696000000001,-8.530515,-8.582769,-8.604503999999999,-8.621955,-8.664669,-8.601741,-8.598239999999999,-8.599041,-8.626644,-8.620605,-8.50698,-8.604036,-8.591453999999999,-8.622243,-8.601614999999999,-8.622072,-8.671482000000001,-8.638137,-8.642889,-8.636894999999999,-8.652393,-8.600661,-8.632197,-8.622828,-7.551891,-8.615133,-8.624727,-8.672148,-8.608851,-8.605962,-8.626347,-8.577693,-8.584344,-8.580654,-8.597727,-8.610462,-8.627247,-8.610389999999999,-8.5743,-8.640144,-8.622081,-8.593911,-8.648271000000001,-8.624655,-8.635725,-8.624907,-8.608491,-8.638056,-8.624744999999999,-8.567343,-8.617401,-8.628714,-8.653932000000001,-8.598879,-8.625042,-8.622621,-8.631405,-8.640018,-8.595027,-8.606475,-8.588907,-8.650224,-8.652555,-8.620902000000001,-8.651961,-8.593119,-8.65161,-8.604594,-8.623062,-8.661267,-8.585919,-8.611388999999999,-8.606043,-8.604099,-8.614116000000001,-8.64981,-8.672013,-8.641179,-8.571411,-8.582714999999999,-8.612064,-8.623619999999999,-8.606898,-8.629245,-8.608266,-8.612181,-8.610822,-8.611775999999999,-8.649171,-8.631675,-8.595089999999999,-8.644185,-8.626553999999999,-8.607393,-8.599959,-8.611911,-8.601272999999999,-8.597529,-8.604171000000001,-8.606322,-8.630343,-8.649683999999999,-8.594757000000001,-8.578314,-8.626536,-8.640441000000001,-8.606556,-8.577657,-8.638515,-8.613216,-8.630559,-8.62524,-8.622755999999999,-8.606016,-8.651142,-8.58735,-8.640125999999999,-8.640054,-8.608239,-8.592794999999999,-8.669205,-8.626572,-8.608103999999999,-8.607069000000001,-8.609823,-8.625969,-8.659557000000001,-8.609499000000001,-8.604531,-8.585766,-8.646453,-8.672967,-8.612001,-8.602263,-8.622765,-8.667711,-8.612883,-8.67483,-8.687502,-8.645669999999999,-8.632197,-8.579619000000001,-8.605647,-8.639928,-8.566991999999999,-8.608707,-8.623521,-8.607546000000001,-8.627346000000001,-8.607717,-8.613648,-8.652716999999999,-8.650017,-8.609319000000001,-8.605134,-8.606349,-8.678106,-8.613756,-8.602326,-8.631099,-8.609733,-8.65071,-8.614593,-8.681633999999999,-8.610084,-8.627733000000001,-8.636445,-8.658558,-8.666388000000001,-8.655723,-8.61282,-8.601471,-8.611028999999998,-8.610947999999999,-8.602136999999999,-8.610345,-8.602677,-8.598096,-8.687394,-8.599257000000001,-8.647641,-8.607177,-8.607996,-8.599707,-8.610066,-8.600247,-8.641422,-8.642007000000001,-8.606187,-8.615574,-8.669313,-8.613738,-8.667135,-8.602038,-8.612685,-8.641404,-8.627985,-8.633016,-8.604531,-8.555571,-8.589122999999999,-8.678303999999999,-8.594397,-8.632764,-8.661258,-8.604422999999999,-8.620875,-8.58816,-8.636049,-8.677728,-8.684856,-8.585838,-8.534979,-8.600454,-8.593308,-8.629785,-8.643303,-8.569206,-8.592345],\"y\":[41.146623,41.163596999999996,41.167719,41.14098,41.148036,41.171958000000004,41.153778,41.185241999999995,41.12577,41.199273,41.168889,41.149431,41.158296,41.237415000000006,41.143275,41.212241999999996,41.155136999999996,41.156136,41.163687,41.160455999999996,41.148738,41.135634,41.15664,41.148513,41.150141999999995,41.172876,41.162679,41.149097999999995,41.14611,41.162382,41.163174,41.1552,41.164758,41.174568,41.143959,41.154821999999996,41.180355,41.154624,41.14836,41.140539000000004,41.180346,41.170347,41.14593,41.186952000000005,41.14629,41.150636999999996,41.151852000000005,41.162292,41.168385,41.149791,41.140989000000005,41.14611,41.15889,41.170689,41.159556,41.16411,41.189256,41.162228999999996,41.167746,41.158998,41.148945,41.143905,41.168592,41.181156,41.137389,41.186727000000005,41.145687,41.165145,41.144967,41.157081,41.556375,41.330565,41.150771999999996,41.169717,41.157647999999995,41.16942,41.146002,41.15439,41.184063,41.171463,41.157405,41.168834999999994,41.161815000000004,41.180913000000004,41.149314000000004,41.148918,41.222952,41.165118,41.14593,41.157045000000004,41.229665999999995,41.161778999999996,41.154525,41.153355,41.186349,41.159321999999996,41.153607,41.177619,41.14809,41.144148,41.157162,41.181399,41.158269,41.160492,41.147604,41.158449,41.147352000000005,41.165883,41.178546000000004,41.131737,41.245703999999996,41.196969,41.18391,41.177196,41.179221000000005,41.137074,41.162859000000005,41.161229999999996,41.164614,41.154201,41.158035,41.155685999999996,41.168574,41.165208,41.148567,41.185035,41.145759000000005,41.148387,41.17437,41.164479,41.151015,41.152986,41.069718,41.175135,41.188662,41.132241,41.147694,41.164137,41.151933,41.160654,41.164668,41.147667,41.167097999999996,41.203215,41.156991,41.128038000000004,41.169276,41.162372999999995,41.182326,41.148351,41.17176,41.145093,41.153535,41.174054999999996,41.148981,41.163354,41.147766,41.158233,41.153418,41.159223,41.168988,41.168646,41.154047999999996,41.156541,41.150448,41.175323999999996,41.191254,41.161590000000004,41.158791,41.147901,41.175855,41.148801,41.147559,41.173587,41.161113,41.178096000000004,41.154363000000004,41.171364000000004,41.164758,41.150871,41.158719,41.144391,41.157018,41.147037,41.150915999999995,41.147289,41.148045,41.149206,41.144715000000005,41.162994,41.158341,41.155587,41.160410999999996,41.152518,41.151303000000006,41.174964,41.155443,41.15898,41.166936,41.149557,41.195295,41.155091999999996,41.167053,41.172686999999996,41.149278,41.109165000000004,41.153526,41.152365,41.157144,41.164767,41.145444,41.145471,41.232654,41.147811,41.144453999999996,41.161671000000005,41.188563,41.149431,41.159709,41.148234,41.159421,41.2362,41.152473,41.153607,41.144913,41.160888,41.152374,41.14692,41.146767,41.159349,41.120459999999994,41.172507,41.155559999999994,41.143482,41.159772,41.164190999999995,41.180112,41.170581,41.162895,41.17158,41.15439,41.152653,41.165793,41.173722,41.159673,41.172102,41.147433,41.138064,41.147127000000005,41.152437,41.148998999999996,41.145975,41.211882,41.091489,41.180211,41.153544000000004,41.14836,41.155614,41.149845,41.152311,41.152662,41.138757,41.161608,41.146839,41.177124,41.153895,41.152446000000005,41.1525,41.180553,41.1669,41.151888,41.148126,41.158421999999995,41.148081,41.145381,41.147180999999996,41.150439,41.176728000000004,41.128101,41.178051,41.15331,41.173452000000005,41.15106,41.159988,41.17698,41.150799,41.151051,41.065011,41.151564,41.165451000000004,41.162292,41.236668,41.201478,41.232033,41.146668,41.172084000000005,41.164865999999996,41.157702,41.158566,41.161545000000004,41.173362,41.155524,41.155524,41.158674,41.171904,41.168735999999996,41.159493,41.152356,41.147262,41.140566,41.151509999999995,41.173371,41.148998999999996,41.14332,41.198787,41.151051,41.152671000000005,41.154327,41.167629,41.192244]}},\"id\":\"a99cb6e8-cb5a-478a-bc57-2eed20f90abb\",\"type\":\"ColumnDataSource\"},{\"attributes\":{\"bottom_units\":\"screen\",\"fill_alpha\":{\"value\":0.5},\"fill_color\":{\"value\":\"lightgrey\"},\"left_units\":\"screen\",\"level\":\"overlay\",\"line_alpha\":{\"value\":1.0},\"line_color\":{\"value\":\"black\"},\"line_dash\":[4,4],\"line_width\":{\"value\":2},\"plot\":null,\"render_mode\":\"css\",\"right_units\":\"screen\",\"top_units\":\"screen\"},\"id\":\"026adf05-6e8d-4b8a-a9f6-65d27a9b778d\",\"type\":\"BoxAnnotation\"},{\"attributes\":{\"axis_label\":\"LAT\",\"formatter\":{\"id\":\"02f6013b-d48c-40b8-90de-bc6747b993ce\",\"type\":\"BasicTickFormatter\"},\"plot\":{\"id\":\"fbefd83b-2181-480a-8aae-465503915108\",\"subtype\":\"Figure\",\"type\":\"Plot\"},\"ticker\":{\"id\":\"56d0e828-2806-4dd5-82ff-6e54ee93a722\",\"type\":\"BasicTicker\"}},\"id\":\"46949c64-deb8-4214-b290-e5a94d3e088f\",\"type\":\"LinearAxis\"},{\"attributes\":{\"data_source\":{\"id\":\"dcbd1d5c-79e7-41d9-bcf6-3360dd3f40af\",\"type\":\"ColumnDataSource\"},\"glyph\":{\"id\":\"d31f94b9-d94c-44ca-9b41-2f31af4a7bca\",\"type\":\"Segment\"},\"hover_glyph\":null,\"nonselection_glyph\":{\"id\":\"60772723-dac3-4f89-98ba-9be54c3e3cdb\",\"type\":\"Segment\"},\"selection_glyph\":null},\"id\":\"56da35d8-1534-4e63-91ee-c174b889d884\",\"type\":\"GlyphRenderer\"},{\"attributes\":{\"axis_label\":\"LNG\",\"formatter\":{\"id\":\"ccbedeac-24a0-4ac4-aa36-a97c03e73b15\",\"type\":\"BasicTickFormatter\"},\"plot\":{\"id\":\"fbefd83b-2181-480a-8aae-465503915108\",\"subtype\":\"Figure\",\"type\":\"Plot\"},\"ticker\":{\"id\":\"28cc2c75-8d98-4482-a1b4-89262a55135d\",\"type\":\"BasicTicker\"}},\"id\":\"25982bf5-94d4-4a00-8cd9-3830040a0a1c\",\"type\":\"LinearAxis\"},{\"attributes\":{\"plot\":{\"id\":\"fbefd83b-2181-480a-8aae-465503915108\",\"subtype\":\"Figure\",\"type\":\"Plot\"}},\"id\":\"cd6f45dd-1910-4904-9233-b0e5f0126ff2\",\"type\":\"SaveTool\"},{\"attributes\":{\"data_source\":{\"id\":\"14b90cb7-77b2-4643-9beb-9d9826f7a1eb\",\"type\":\"ColumnDataSource\"},\"glyph\":{\"id\":\"094d3e05-1960-4591-bd07-2382a590ef90\",\"type\":\"Circle\"},\"hover_glyph\":null,\"nonselection_glyph\":{\"id\":\"207e2f52-283d-48c5-a25f-eecd5540af1a\",\"type\":\"Circle\"},\"selection_glyph\":null},\"id\":\"fe725dbc-44bc-4042-babe-d3e7a85f9918\",\"type\":\"GlyphRenderer\"},{\"attributes\":{\"plot\":null,\"text\":\"Predicted Destinations with MEAN. Mean Haversine distance: 0.172401\"},\"id\":\"195d6e17-a645-4376-823c-5a3cc819aed4\",\"type\":\"Title\"},{\"attributes\":{\"fill_alpha\":{\"value\":0.1},\"fill_color\":{\"value\":\"#1f77b4\"},\"line_alpha\":{\"value\":0.1},\"line_color\":{\"value\":\"#1f77b4\"},\"size\":{\"units\":\"screen\",\"value\":10},\"x\":{\"field\":\"x\"},\"y\":{\"field\":\"y\"}},\"id\":\"207e2f52-283d-48c5-a25f-eecd5540af1a\",\"type\":\"Circle\"},{\"attributes\":{\"x0\":{\"field\":\"x0\"},\"x1\":{\"field\":\"x1\"},\"y0\":{\"field\":\"y0\"},\"y1\":{\"field\":\"y1\"}},\"id\":\"d31f94b9-d94c-44ca-9b41-2f31af4a7bca\",\"type\":\"Segment\"},{\"attributes\":{\"fill_alpha\":{\"value\":0.1},\"fill_color\":{\"value\":\"#1f77b4\"},\"line_alpha\":{\"value\":0.1},\"line_color\":{\"value\":\"#1f77b4\"},\"size\":{\"units\":\"screen\",\"value\":10},\"x\":{\"field\":\"x\"},\"y\":{\"field\":\"y\"}},\"id\":\"df0b098e-ea88-4f8a-ad18-c289ab9b8be0\",\"type\":\"Circle\"},{\"attributes\":{\"plot\":{\"id\":\"fbefd83b-2181-480a-8aae-465503915108\",\"subtype\":\"Figure\",\"type\":\"Plot\"}},\"id\":\"6081bc2f-8f55-4f21-b594-b40c22d00853\",\"type\":\"HelpTool\"},{\"attributes\":{\"dimension\":1,\"plot\":{\"id\":\"fbefd83b-2181-480a-8aae-465503915108\",\"subtype\":\"Figure\",\"type\":\"Plot\"},\"ticker\":{\"id\":\"56d0e828-2806-4dd5-82ff-6e54ee93a722\",\"type\":\"BasicTicker\"}},\"id\":\"4d989f0e-5645-4ccc-af2e-142a3c7a38b2\",\"type\":\"Grid\"},{\"attributes\":{},\"id\":\"02f6013b-d48c-40b8-90de-bc6747b993ce\",\"type\":\"BasicTickFormatter\"},{\"attributes\":{\"plot\":{\"id\":\"fbefd83b-2181-480a-8aae-465503915108\",\"subtype\":\"Figure\",\"type\":\"Plot\"}},\"id\":\"1a99943a-27fb-4d48-95ba-f4ba7535dc25\",\"type\":\"ResetTool\"},{\"attributes\":{\"callback\":null},\"id\":\"750a177f-6d06-4ced-b217-e7325144c396\",\"type\":\"DataRange1d\"},{\"attributes\":{\"plot\":{\"id\":\"fbefd83b-2181-480a-8aae-465503915108\",\"subtype\":\"Figure\",\"type\":\"Plot\"}},\"id\":\"2b66f508-a0c2-492b-a9ce-f95ac0bf0208\",\"type\":\"WheelZoomTool\"},{\"attributes\":{\"plot\":{\"id\":\"fbefd83b-2181-480a-8aae-465503915108\",\"subtype\":\"Figure\",\"type\":\"Plot\"},\"ticker\":{\"id\":\"28cc2c75-8d98-4482-a1b4-89262a55135d\",\"type\":\"BasicTicker\"}},\"id\":\"8c00353d-139a-498f-9c08-0569b1d8a118\",\"type\":\"Grid\"},{\"attributes\":{},\"id\":\"ef789d23-633c-41ea-8bf1-e03a35d2eed2\",\"type\":\"ToolEvents\"},{\"attributes\":{\"callback\":null},\"id\":\"966bd46d-3525-4809-b3eb-c6c75c4640c4\",\"type\":\"DataRange1d\"},{\"attributes\":{\"line_alpha\":{\"value\":0.1},\"line_color\":{\"value\":\"#1f77b4\"},\"x0\":{\"field\":\"x0\"},\"x1\":{\"field\":\"x1\"},\"y0\":{\"field\":\"y0\"},\"y1\":{\"field\":\"y1\"}},\"id\":\"60772723-dac3-4f89-98ba-9be54c3e3cdb\",\"type\":\"Segment\"},{\"attributes\":{},\"id\":\"28cc2c75-8d98-4482-a1b4-89262a55135d\",\"type\":\"BasicTicker\"},{\"attributes\":{\"below\":[{\"id\":\"25982bf5-94d4-4a00-8cd9-3830040a0a1c\",\"type\":\"LinearAxis\"}],\"left\":[{\"id\":\"46949c64-deb8-4214-b290-e5a94d3e088f\",\"type\":\"LinearAxis\"}],\"plot_width\":900,\"renderers\":[{\"id\":\"25982bf5-94d4-4a00-8cd9-3830040a0a1c\",\"type\":\"LinearAxis\"},{\"id\":\"8c00353d-139a-498f-9c08-0569b1d8a118\",\"type\":\"Grid\"},{\"id\":\"46949c64-deb8-4214-b290-e5a94d3e088f\",\"type\":\"LinearAxis\"},{\"id\":\"4d989f0e-5645-4ccc-af2e-142a3c7a38b2\",\"type\":\"Grid\"},{\"id\":\"026adf05-6e8d-4b8a-a9f6-65d27a9b778d\",\"type\":\"BoxAnnotation\"},{\"id\":\"56da35d8-1534-4e63-91ee-c174b889d884\",\"type\":\"GlyphRenderer\"},{\"id\":\"fe725dbc-44bc-4042-babe-d3e7a85f9918\",\"type\":\"GlyphRenderer\"},{\"id\":\"16359deb-ed87-4688-9d42-1b026339922d\",\"type\":\"GlyphRenderer\"}],\"title\":{\"id\":\"195d6e17-a645-4376-823c-5a3cc819aed4\",\"type\":\"Title\"},\"tool_events\":{\"id\":\"ef789d23-633c-41ea-8bf1-e03a35d2eed2\",\"type\":\"ToolEvents\"},\"toolbar\":{\"id\":\"5d27d745-cc67-4c3f-b1ec-2e87595e8366\",\"type\":\"Toolbar\"},\"x_range\":{\"id\":\"966bd46d-3525-4809-b3eb-c6c75c4640c4\",\"type\":\"DataRange1d\"},\"y_range\":{\"id\":\"750a177f-6d06-4ced-b217-e7325144c396\",\"type\":\"DataRange1d\"}},\"id\":\"fbefd83b-2181-480a-8aae-465503915108\",\"subtype\":\"Figure\",\"type\":\"Plot\"},{\"attributes\":{\"active_drag\":\"auto\",\"active_scroll\":\"auto\",\"active_tap\":\"auto\",\"tools\":[{\"id\":\"0e7d3988-32b5-4b21-9f71-4f7b2ccc901b\",\"type\":\"PanTool\"},{\"id\":\"2b66f508-a0c2-492b-a9ce-f95ac0bf0208\",\"type\":\"WheelZoomTool\"},{\"id\":\"f81fdbfc-432b-45a0-b6a9-8156ddc55de6\",\"type\":\"BoxZoomTool\"},{\"id\":\"cd6f45dd-1910-4904-9233-b0e5f0126ff2\",\"type\":\"SaveTool\"},{\"id\":\"1a99943a-27fb-4d48-95ba-f4ba7535dc25\",\"type\":\"ResetTool\"},{\"id\":\"6081bc2f-8f55-4f21-b594-b40c22d00853\",\"type\":\"HelpTool\"}]},\"id\":\"5d27d745-cc67-4c3f-b1ec-2e87595e8366\",\"type\":\"Toolbar\"},{\"attributes\":{},\"id\":\"56d0e828-2806-4dd5-82ff-6e54ee93a722\",\"type\":\"BasicTicker\"},{\"attributes\":{\"overlay\":{\"id\":\"026adf05-6e8d-4b8a-a9f6-65d27a9b778d\",\"type\":\"BoxAnnotation\"},\"plot\":{\"id\":\"fbefd83b-2181-480a-8aae-465503915108\",\"subtype\":\"Figure\",\"type\":\"Plot\"}},\"id\":\"f81fdbfc-432b-45a0-b6a9-8156ddc55de6\",\"type\":\"BoxZoomTool\"},{\"attributes\":{\"plot\":{\"id\":\"fbefd83b-2181-480a-8aae-465503915108\",\"subtype\":\"Figure\",\"type\":\"Plot\"}},\"id\":\"0e7d3988-32b5-4b21-9f71-4f7b2ccc901b\",\"type\":\"PanTool\"},{\"attributes\":{\"data_source\":{\"id\":\"a99cb6e8-cb5a-478a-bc57-2eed20f90abb\",\"type\":\"ColumnDataSource\"},\"glyph\":{\"id\":\"bb9ecee4-df43-42fb-accc-f442c749d1c7\",\"type\":\"Circle\"},\"hover_glyph\":null,\"nonselection_glyph\":{\"id\":\"df0b098e-ea88-4f8a-ad18-c289ab9b8be0\",\"type\":\"Circle\"},\"selection_glyph\":null},\"id\":\"16359deb-ed87-4688-9d42-1b026339922d\",\"type\":\"GlyphRenderer\"},{\"attributes\":{\"callback\":null,\"column_names\":[\"y1\",\"y0\",\"x0\",\"x1\"],\"data\":{\"x0\":[-8.584883999999999,-8.601894,-8.574902999999999,-8.614638000000001,-8.619894,-8.62641,-8.582049000000001,-8.578773,-8.605494,-8.586306,-8.588232000000001,-8.596647,-8.584335000000001,-8.669475,-8.610174,-8.65287,-8.629064999999999,-8.627949000000001,-8.589789,-8.641521000000001,-8.585757000000001,-8.61156,-8.628767999999999,-8.585658,-8.641116,-8.606717999999999,-8.593488,-8.587017,-8.61138,-8.581104,-8.581211999999999,-8.609814,-8.627202,-8.567478,-8.617094999999999,-8.604503999999999,-8.692461,-8.630982000000001,-8.586135,-8.616168,-8.604405,-8.585567999999999,-8.613495,-8.594486999999999,-8.61768,-8.594433,-8.617716,-8.632881,-8.552907000000001,-8.625798,-8.601723,-8.61093,-8.598924,-8.586369,-8.601084,-8.606295,-8.594567999999999,-8.632728,-8.642916,-8.604711,-8.597484,-8.579961,-8.589078,-8.583552000000001,-8.601804,-8.594433,-8.601714,-8.629452,-8.611218,-8.624907,-8.376903,-8.729766,-8.593407000000001,-8.570601,-8.627238,-8.625627,-8.611866000000001,-8.648055000000001,-8.596809,-8.656389,-8.625519,-8.639658,-8.652528,-8.577774,-8.625573,-8.584191,-8.626725,-8.588853,-8.631423,-8.629425,-8.668053,-8.652114,-8.643807,-8.606394,-8.680635,-8.630289,-8.609229,-8.663427,-8.611146000000002,-8.605647,-8.628696000000001,-8.530515,-8.582769,-8.604503999999999,-8.621955,-8.664669,-8.601741,-8.598239999999999,-8.599041,-8.626644,-8.620605,-8.50698,-8.604036,-8.591453999999999,-8.622243,-8.601614999999999,-8.622072,-8.671482000000001,-8.638137,-8.642889,-8.636894999999999,-8.652393,-8.600661,-8.632197,-8.622828,-7.551891,-8.615133,-8.624727,-8.672148,-8.608851,-8.605962,-8.626347,-8.577693,-8.584344,-8.580654,-8.597727,-8.610462,-8.627247,-8.610389999999999,-8.5743,-8.640144,-8.622081,-8.593911,-8.648271000000001,-8.624655,-8.635725,-8.624907,-8.608491,-8.638056,-8.624744999999999,-8.567343,-8.617401,-8.628714,-8.653932000000001,-8.598879,-8.625042,-8.622621,-8.631405,-8.640018,-8.595027,-8.606475,-8.588907,-8.650224,-8.652555,-8.620902000000001,-8.651961,-8.593119,-8.65161,-8.604594,-8.623062,-8.661267,-8.585919,-8.611388999999999,-8.606043,-8.604099,-8.614116000000001,-8.64981,-8.672013,-8.641179,-8.571411,-8.582714999999999,-8.612064,-8.623619999999999,-8.606898,-8.629245,-8.608266,-8.612181,-8.610822,-8.611775999999999,-8.649171,-8.631675,-8.595089999999999,-8.644185,-8.626553999999999,-8.607393,-8.599959,-8.611911,-8.601272999999999,-8.597529,-8.604171000000001,-8.606322,-8.630343,-8.649683999999999,-8.594757000000001,-8.578314,-8.626536,-8.640441000000001,-8.606556,-8.577657,-8.638515,-8.613216,-8.630559,-8.62524,-8.622755999999999,-8.606016,-8.651142,-8.58735,-8.640125999999999,-8.640054,-8.608239,-8.592794999999999,-8.669205,-8.626572,-8.608103999999999,-8.607069000000001,-8.609823,-8.625969,-8.659557000000001,-8.609499000000001,-8.604531,-8.585766,-8.646453,-8.672967,-8.612001,-8.602263,-8.622765,-8.667711,-8.612883,-8.67483,-8.687502,-8.645669999999999,-8.632197,-8.579619000000001,-8.605647,-8.639928,-8.566991999999999,-8.608707,-8.623521,-8.607546000000001,-8.627346000000001,-8.607717,-8.613648,-8.652716999999999,-8.650017,-8.609319000000001,-8.605134,-8.606349,-8.678106,-8.613756,-8.602326,-8.631099,-8.609733,-8.65071,-8.614593,-8.681633999999999,-8.610084,-8.627733000000001,-8.636445,-8.658558,-8.666388000000001,-8.655723,-8.61282,-8.601471,-8.611028999999998,-8.610947999999999,-8.602136999999999,-8.610345,-8.602677,-8.598096,-8.687394,-8.599257000000001,-8.647641,-8.607177,-8.607996,-8.599707,-8.610066,-8.600247,-8.641422,-8.642007000000001,-8.606187,-8.615574,-8.669313,-8.613738,-8.667135,-8.602038,-8.612685,-8.641404,-8.627985,-8.633016,-8.604531,-8.555571,-8.589122999999999,-8.678303999999999,-8.594397,-8.632764,-8.661258,-8.604422999999999,-8.620875,-8.58816,-8.636049,-8.677728,-8.684856,-8.585838,-8.534979,-8.600454,-8.593308,-8.629785,-8.643303,-8.569206,-8.592345],\"x1\":[-8.584336363636364,-8.601354054054056,-8.570641666666665,-8.612961016949141,-8.621380405405397,-8.621815789473684,-8.5797625,-8.581227027027028,-8.604836046511627,-8.584733333333334,-8.589757142857142,-8.600730841121496,-8.579370967741935,-8.670037675507011,-8.61187553191489,-8.6495,-8.63013894736842,-8.628661581920905,-8.591298360655736,-8.640731884057969,-8.5855542247744,-8.609851515151519,-8.62931439688717,-8.5855542247744,-8.641578571428573,-8.611095412844035,-8.591292682926833,-8.588253846153846,-8.611309090909087,-8.58233714285714,-8.584464666666667,-8.611824229074895,-8.630539603960392,-8.568175,-8.620736363636365,-8.603047586206893,-8.691071844660193,-8.63013894736842,-8.585788135593214,-8.612961016949141,-8.602280816326545,-8.582954999999998,-8.611309090909087,-8.5903,-8.61871762295083,-8.592328571428569,-8.620415517241382,-8.631241304347824,-8.5504,-8.621210457516339,-8.599166666666667,-8.611309090909087,-8.601198666666672,-8.583957142857143,-8.60273195876289,-8.601354054054056,-8.59085,-8.631241304347824,-8.640900000000002,-8.601198666666672,-8.600730841121496,-8.579822222222223,-8.589757142857142,-8.582818487394954,-8.6008,-8.5903,-8.60095185185185,-8.630539603960392,-8.610574707259957,-8.624266666666669,\"NaN\",\"NaN\",-8.592328571428569,-8.56878125,-8.62947093596059,-8.62172638888889,-8.611309090909087,-8.649763068181818,-8.602494805194805,-8.652909411764712,-8.624266666666669,-8.641393617021278,-8.650856470588232,-8.582818487394954,-8.623600000000005,-8.5855542247744,-8.6342,-8.590160294117647,-8.630519607843139,-8.62931439688717,-8.668050000000001,-8.650856470588232,-8.643040425531918,-8.603071428571422,-8.68003103448276,-8.631206478873256,-8.610544257703088,-8.662607692307693,-8.611625743707066,-8.604977572559381,-8.62931439688717,-8.532680000000001,-8.579370967741935,-8.602787815126053,-8.621380405405397,-8.663241379310344,-8.603327559055124,-8.601759756097563,-8.600415853658532,-8.62987,-8.6184,\"NaN\",-8.602494805194805,-8.590550980392157,-8.623390476190478,-8.6008,-8.621565882352947,-8.670031818181819,-8.642045535714287,-8.642943298969069,-8.642041025641026,-8.6526109375,-8.60315925925926,-8.630539603960392,-8.623600000000005,\"NaN\",-8.611309090909087,-8.621380405405397,-8.66947894736842,-8.611951948051948,-8.60087491408935,-8.620950925925927,-8.5778,-8.585357575757577,-8.582833333333333,-8.602745454545454,-8.611625743707066,-8.631972340425529,-8.609355905511809,-8.571092105263158,-8.642045535714287,-8.621380405405397,-8.593151807228919,-8.6492,-8.624266666666669,-8.631250000000001,-8.62172638888889,-8.610735820895517,-8.638625000000001,-8.621380405405397,-8.5669,-8.618874683544298,-8.630437614678904,-8.652490196078428,-8.600730841121496,-8.621565882352947,-8.621380405405397,-8.62947093596059,-8.63908414634146,-8.593192063492062,-8.60315925925926,-8.589757142857142,-8.649763068181818,-8.65134929577465,-8.621210457516339,-8.650743243243243,-8.592749999999999,-8.650856470588232,-8.601198666666672,-8.621380405405397,-8.6613375,-8.5855542247744,-8.611625743707066,-8.603484126984128,-8.602787815126053,-8.612070175438594,-8.649763068181818,-8.670990909090909,-8.642045535714287,-8.569225000000001,-8.580081355932204,-8.609948529411767,-8.624266666666669,-8.611543613707171,-8.630107017543859,-8.611543613707171,-8.611625743707066,-8.61133459595959,-8.610574707259957,-8.6501,-8.62947093596059,-8.592909677419355,-8.640731884057969,-8.620950925925927,-8.610852733118971,-8.601425714285714,-8.611824229074895,-8.601198666666672,-8.600175925925926,-8.603034101382487,-8.60515,-8.63013894736842,-8.650996078431369,-8.590132142857142,-8.5855542247744,-8.618675,-8.642943298969069,-8.602627350427346,-8.578225,-8.642045535714287,-8.610574707259957,-8.629845000000001,-8.623482608695651,-8.621380405405397,-8.604977572559381,-8.650856470588232,-8.59085,-8.6428,-8.640731884057969,-8.611625743707066,-8.593192063492062,-8.669688617886177,-8.620415517241382,-8.610544257703088,-8.610574707259957,-8.61031486486486,-8.620415517241382,-8.66021875,-8.611543613707171,-8.601198666666672,\"NaN\",-8.639871999999999,-8.67001014492754,-8.609948529411767,-8.60273195876289,-8.620188271604938,-8.671764285714287,-8.611852325581397,-8.670943999999997,-8.687758333333333,-8.642943298969069,-8.630845993031357,-8.579689473684212,-8.603484126984128,-8.640731884057969,-8.5669,-8.611543613707171,-8.620501515151512,-8.611543613707171,-8.62939940828402,-8.61133459595959,-8.611309090909087,-8.6495,\"NaN\",-8.6114375,-8.603112408759127,-8.603531527093594,-8.67945606060606,-8.611307591623044,-8.602627350427346,-8.630845993031357,-8.609391304347827,-8.650856470588232,-8.611543613707171,-8.68291590909091,-8.610544257703088,-8.62939940828402,-8.630845993031357,-8.660817241379313,-8.661185000000001,-8.650782706766922,-8.611625743707066,-8.602239843750002,-8.611625743707066,-8.610574707259957,-8.603327559055124,-8.611307591623044,-8.599200000000002,-8.603725,-8.689585714285718,-8.603071428571422,-8.653725531914894,-8.610852733118971,-8.61018996138995,-8.599200000000002,-8.610852733118971,-8.60087491408935,-8.6443,-8.642499999999998,-8.60127401574803,-8.610735820895517,-8.670037675507011,-8.6127,-8.667275,-8.603327559055124,-8.611379104477612,-8.642045535714287,-8.62947093596059,-8.631206478873256,-8.603004326923067,-8.551371428571427,-8.592909677419355,-8.67945606060606,-8.593192063492062,-8.633455000000001,-8.661284615384615,-8.60273195876289,-8.620415517241382,-8.590854310344833,-8.635694827586203,-8.677427906976742,-8.683654545454544,-8.5855542247744,-8.534366666666665,-8.6062,-8.592328571428569,-8.630845993031357,-8.642943298969069,-8.570641666666665,-8.590466666666666],\"y0\":[41.146623,41.163596999999996,41.167719,41.14098,41.148036,41.171958000000004,41.153778,41.185241999999995,41.12577,41.199273,41.168889,41.149431,41.158296,41.237415000000006,41.143275,41.212241999999996,41.155136999999996,41.156136,41.163687,41.160455999999996,41.148738,41.135634,41.15664,41.148513,41.150141999999995,41.172876,41.162679,41.149097999999995,41.14611,41.162382,41.163174,41.1552,41.164758,41.174568,41.143959,41.154821999999996,41.180355,41.154624,41.14836,41.140539000000004,41.180346,41.170347,41.14593,41.186952000000005,41.14629,41.150636999999996,41.151852000000005,41.162292,41.168385,41.149791,41.140989000000005,41.14611,41.15889,41.170689,41.159556,41.16411,41.189256,41.162228999999996,41.167746,41.158998,41.148945,41.143905,41.168592,41.181156,41.137389,41.186727000000005,41.145687,41.165145,41.144967,41.157081,41.556375,41.330565,41.150771999999996,41.169717,41.157647999999995,41.16942,41.146002,41.15439,41.184063,41.171463,41.157405,41.168834999999994,41.161815000000004,41.180913000000004,41.149314000000004,41.148918,41.222952,41.165118,41.14593,41.157045000000004,41.229665999999995,41.161778999999996,41.154525,41.153355,41.186349,41.159321999999996,41.153607,41.177619,41.14809,41.144148,41.157162,41.181399,41.158269,41.160492,41.147604,41.158449,41.147352000000005,41.165883,41.178546000000004,41.131737,41.245703999999996,41.196969,41.18391,41.177196,41.179221000000005,41.137074,41.162859000000005,41.161229999999996,41.164614,41.154201,41.158035,41.155685999999996,41.168574,41.165208,41.148567,41.185035,41.145759000000005,41.148387,41.17437,41.164479,41.151015,41.152986,41.069718,41.175135,41.188662,41.132241,41.147694,41.164137,41.151933,41.160654,41.164668,41.147667,41.167097999999996,41.203215,41.156991,41.128038000000004,41.169276,41.162372999999995,41.182326,41.148351,41.17176,41.145093,41.153535,41.174054999999996,41.148981,41.163354,41.147766,41.158233,41.153418,41.159223,41.168988,41.168646,41.154047999999996,41.156541,41.150448,41.175323999999996,41.191254,41.161590000000004,41.158791,41.147901,41.175855,41.148801,41.147559,41.173587,41.161113,41.178096000000004,41.154363000000004,41.171364000000004,41.164758,41.150871,41.158719,41.144391,41.157018,41.147037,41.150915999999995,41.147289,41.148045,41.149206,41.144715000000005,41.162994,41.158341,41.155587,41.160410999999996,41.152518,41.151303000000006,41.174964,41.155443,41.15898,41.166936,41.149557,41.195295,41.155091999999996,41.167053,41.172686999999996,41.149278,41.109165000000004,41.153526,41.152365,41.157144,41.164767,41.145444,41.145471,41.232654,41.147811,41.144453999999996,41.161671000000005,41.188563,41.149431,41.159709,41.148234,41.159421,41.2362,41.152473,41.153607,41.144913,41.160888,41.152374,41.14692,41.146767,41.159349,41.120459999999994,41.172507,41.155559999999994,41.143482,41.159772,41.164190999999995,41.180112,41.170581,41.162895,41.17158,41.15439,41.152653,41.165793,41.173722,41.159673,41.172102,41.147433,41.138064,41.147127000000005,41.152437,41.148998999999996,41.145975,41.211882,41.091489,41.180211,41.153544000000004,41.14836,41.155614,41.149845,41.152311,41.152662,41.138757,41.161608,41.146839,41.177124,41.153895,41.152446000000005,41.1525,41.180553,41.1669,41.151888,41.148126,41.158421999999995,41.148081,41.145381,41.147180999999996,41.150439,41.176728000000004,41.128101,41.178051,41.15331,41.173452000000005,41.15106,41.159988,41.17698,41.150799,41.151051,41.065011,41.151564,41.165451000000004,41.162292,41.236668,41.201478,41.232033,41.146668,41.172084000000005,41.164865999999996,41.157702,41.158566,41.161545000000004,41.173362,41.155524,41.155524,41.158674,41.171904,41.168735999999996,41.159493,41.152356,41.147262,41.140566,41.151509999999995,41.173371,41.148998999999996,41.14332,41.198787,41.151051,41.152671000000005,41.154327,41.167629,41.192244],\"y1\":[41.14691818181819,41.16392522522522,41.167966666666665,41.14091551499338,41.147796171171166,41.171789473684214,41.1541,41.18499729729729,41.1258988372093,41.199033333333325,41.16901857142858,41.149046261682265,41.15795483870968,41.23701895475836,41.142975177305,41.2121,41.15488263157885,41.15590960451978,41.1640049180328,41.15994154589376,41.14882452830215,41.136133333333326,41.15697315175099,41.14882452830215,41.15005357142858,41.172762385321114,41.1629682926829,41.14907564102564,41.14592377622403,41.16194857142857,41.16315466666664,41.154869603524205,41.16483366336633,41.1747125,41.143928571428575,41.15494965517239,41.18006699029126,41.15488263157885,41.14824576271184,41.14091551499338,41.17975387755101,41.16985999999999,41.14592377622403,41.18715,41.14609836065569,41.150964285714295,41.15201465517241,41.16195978260869,41.16778,41.14990588235293,41.14116666666666,41.14592377622403,41.15903999999998,41.170728571428576,41.15998969072166,41.16392522522522,41.18898333333333,41.16195978260869,41.16793157894737,41.15903999999998,41.149046261682265,41.143816666666666,41.16901857142858,41.18085462184875,41.137029999999996,41.18715,41.14596370370371,41.16483366336633,41.145175175644034,41.157161488673175,\"NaN\",\"NaN\",41.150964285714295,41.16988125,41.157918226600984,41.16904722222221,41.14592377622403,41.154228977272595,41.18383376623378,41.17089058823528,41.157161488673175,41.169129787234056,41.16198411764705,41.18085462184875,41.14898322147653,41.14882452830215,41.223,41.164963235294124,41.1462392156863,41.15697315175099,41.2299,41.16198411764705,41.15474468085109,41.15312981366462,41.18576551724138,41.15887549295774,41.153910364145666,41.177830769230766,41.14798340961094,41.144255145118656,41.15697315175099,41.181039999999996,41.15795483870968,41.16102605042016,41.147796171171166,41.158006896551726,41.14692834645671,41.16585731707318,41.17909756097559,41.13194,41.2463,\"NaN\",41.18383376623378,41.17713725490197,41.17909206349207,41.137029999999996,41.162862352941175,41.16105454545455,41.164868750000004,41.15399072164947,41.1579987179487,41.1558796875,41.16896666666666,41.16483366336633,41.14898322147653,\"NaN\",41.14592377622403,41.147796171171166,41.174005263157895,41.16404545454546,41.15094054982814,41.152785185185195,41.0699,41.17496363636363,41.188966666666666,41.13206363636363,41.14798340961094,41.16410992907798,41.15192047244094,41.16087368421051,41.164868750000004,41.147796171171166,41.166928915662666,41.202799999999996,41.157161488673175,41.12795,41.16904722222221,41.16208022388053,41.182129999999994,41.147796171171166,41.1715,41.14493037974682,41.15410091743118,41.17386862745099,41.149046261682265,41.162862352941175,41.147796171171166,41.157918226600984,41.15305000000001,41.1589111111111,41.16896666666666,41.16901857142858,41.154228977272595,41.15700000000002,41.14990588235293,41.174945945945936,41.191100000000006,41.16198411764705,41.15903999999998,41.147796171171166,41.17610312499999,41.14882452830215,41.14798340961094,41.17388571428573,41.16102605042016,41.1779543859649,41.154228977272595,41.17087272727272,41.164868750000004,41.1512375,41.15911355932204,41.14395808823529,41.157161488673175,41.1470398753894,41.15100701754387,41.1470398753894,41.14798340961094,41.148926010101036,41.145175175644034,41.163052,41.157918226600984,41.15599032258064,41.15994154589376,41.152785185185195,41.1510012861736,41.17501428571429,41.154869603524205,41.15903999999998,41.16704629629627,41.1498465437788,41.194700000000005,41.15488263157885,41.16697254901962,41.173075000000004,41.14882452830215,41.108875,41.15399072164947,41.15194615384613,41.1568,41.164868750000004,41.145175175644034,41.145055000000006,41.23286086956522,41.147796171171166,41.144255145118656,41.16198411764705,41.18898333333333,41.148720000000004,41.15994154589376,41.14798340961094,41.1589111111111,41.23627560975604,41.15201465517241,41.153910364145666,41.145175175644034,41.16092477477481,41.15201465517241,41.14725,41.1470398753894,41.15903999999998,\"NaN\",41.172912000000004,41.15601449275361,41.14395808823529,41.15998969072166,41.16406728395062,41.179946428571434,41.171003488372094,41.163036000000005,41.171883333333334,41.15399072164947,41.15266167247388,41.16592631578946,41.17388571428573,41.15994154589376,41.1715,41.1470398753894,41.13782878787879,41.1470398753894,41.15205502958581,41.148926010101036,41.14592377622403,41.2121,\"NaN\",41.179700000000004,41.15387372262771,41.14803793103447,41.15594242424242,41.14996073298429,41.15194615384613,41.15266167247388,41.13901304347824,41.16198411764705,41.1470398753894,41.1770840909091,41.153910364145666,41.15205502958581,41.15266167247388,41.18102758620691,41.166905,41.151976691729345,41.14798340961094,41.157942968749985,41.14798340961094,41.145175175644034,41.14692834645671,41.14996073298429,41.17722222222222,41.127975,41.17815714285715,41.15312981366462,41.172917021276604,41.1510012861736,41.16020424710422,41.17722222222222,41.1510012861736,41.15094054982814,41.0647,41.15198421052632,41.16511653543307,41.16208022388053,41.23701895475836,41.2008,41.231875,41.14692834645671,41.17203134328358,41.164868750000004,41.157918226600984,41.15887549295774,41.161888942307655,41.17298571428571,41.15599032258064,41.15594242424242,41.1589111111111,41.1718775,41.16909230769231,41.15998969072166,41.15201465517241,41.14698620689654,41.1406379310345,41.152174418604645,41.17317272727273,41.14882452830215,41.14281666666666,41.1987,41.150964285714295,41.15266167247388,41.15399072164947,41.167966666666665,41.192033333333335]}},\"id\":\"dcbd1d5c-79e7-41d9-bcf6-3360dd3f40af\",\"type\":\"ColumnDataSource\"},{\"attributes\":{\"callback\":null,\"column_names\":[\"y\",\"x\"],\"data\":{\"x\":[-8.584336363636364,-8.601354054054056,-8.570641666666665,-8.612961016949141,-8.621380405405397,-8.621815789473684,-8.5797625,-8.581227027027028,-8.604836046511627,-8.584733333333334,-8.589757142857142,-8.600730841121496,-8.579370967741935,-8.670037675507011,-8.61187553191489,-8.6495,-8.63013894736842,-8.628661581920905,-8.591298360655736,-8.640731884057969,-8.5855542247744,-8.609851515151519,-8.62931439688717,-8.5855542247744,-8.641578571428573,-8.611095412844035,-8.591292682926833,-8.588253846153846,-8.611309090909087,-8.58233714285714,-8.584464666666667,-8.611824229074895,-8.630539603960392,-8.568175,-8.620736363636365,-8.603047586206893,-8.691071844660193,-8.63013894736842,-8.585788135593214,-8.612961016949141,-8.602280816326545,-8.582954999999998,-8.611309090909087,-8.5903,-8.61871762295083,-8.592328571428569,-8.620415517241382,-8.631241304347824,-8.5504,-8.621210457516339,-8.599166666666667,-8.611309090909087,-8.601198666666672,-8.583957142857143,-8.60273195876289,-8.601354054054056,-8.59085,-8.631241304347824,-8.640900000000002,-8.601198666666672,-8.600730841121496,-8.579822222222223,-8.589757142857142,-8.582818487394954,-8.6008,-8.5903,-8.60095185185185,-8.630539603960392,-8.610574707259957,-8.624266666666669,\"NaN\",\"NaN\",-8.592328571428569,-8.56878125,-8.62947093596059,-8.62172638888889,-8.611309090909087,-8.649763068181818,-8.602494805194805,-8.652909411764712,-8.624266666666669,-8.641393617021278,-8.650856470588232,-8.582818487394954,-8.623600000000005,-8.5855542247744,-8.6342,-8.590160294117647,-8.630519607843139,-8.62931439688717,-8.668050000000001,-8.650856470588232,-8.643040425531918,-8.603071428571422,-8.68003103448276,-8.631206478873256,-8.610544257703088,-8.662607692307693,-8.611625743707066,-8.604977572559381,-8.62931439688717,-8.532680000000001,-8.579370967741935,-8.602787815126053,-8.621380405405397,-8.663241379310344,-8.603327559055124,-8.601759756097563,-8.600415853658532,-8.62987,-8.6184,\"NaN\",-8.602494805194805,-8.590550980392157,-8.623390476190478,-8.6008,-8.621565882352947,-8.670031818181819,-8.642045535714287,-8.642943298969069,-8.642041025641026,-8.6526109375,-8.60315925925926,-8.630539603960392,-8.623600000000005,\"NaN\",-8.611309090909087,-8.621380405405397,-8.66947894736842,-8.611951948051948,-8.60087491408935,-8.620950925925927,-8.5778,-8.585357575757577,-8.582833333333333,-8.602745454545454,-8.611625743707066,-8.631972340425529,-8.609355905511809,-8.571092105263158,-8.642045535714287,-8.621380405405397,-8.593151807228919,-8.6492,-8.624266666666669,-8.631250000000001,-8.62172638888889,-8.610735820895517,-8.638625000000001,-8.621380405405397,-8.5669,-8.618874683544298,-8.630437614678904,-8.652490196078428,-8.600730841121496,-8.621565882352947,-8.621380405405397,-8.62947093596059,-8.63908414634146,-8.593192063492062,-8.60315925925926,-8.589757142857142,-8.649763068181818,-8.65134929577465,-8.621210457516339,-8.650743243243243,-8.592749999999999,-8.650856470588232,-8.601198666666672,-8.621380405405397,-8.6613375,-8.5855542247744,-8.611625743707066,-8.603484126984128,-8.602787815126053,-8.612070175438594,-8.649763068181818,-8.670990909090909,-8.642045535714287,-8.569225000000001,-8.580081355932204,-8.609948529411767,-8.624266666666669,-8.611543613707171,-8.630107017543859,-8.611543613707171,-8.611625743707066,-8.61133459595959,-8.610574707259957,-8.6501,-8.62947093596059,-8.592909677419355,-8.640731884057969,-8.620950925925927,-8.610852733118971,-8.601425714285714,-8.611824229074895,-8.601198666666672,-8.600175925925926,-8.603034101382487,-8.60515,-8.63013894736842,-8.650996078431369,-8.590132142857142,-8.5855542247744,-8.618675,-8.642943298969069,-8.602627350427346,-8.578225,-8.642045535714287,-8.610574707259957,-8.629845000000001,-8.623482608695651,-8.621380405405397,-8.604977572559381,-8.650856470588232,-8.59085,-8.6428,-8.640731884057969,-8.611625743707066,-8.593192063492062,-8.669688617886177,-8.620415517241382,-8.610544257703088,-8.610574707259957,-8.61031486486486,-8.620415517241382,-8.66021875,-8.611543613707171,-8.601198666666672,\"NaN\",-8.639871999999999,-8.67001014492754,-8.609948529411767,-8.60273195876289,-8.620188271604938,-8.671764285714287,-8.611852325581397,-8.670943999999997,-8.687758333333333,-8.642943298969069,-8.630845993031357,-8.579689473684212,-8.603484126984128,-8.640731884057969,-8.5669,-8.611543613707171,-8.620501515151512,-8.611543613707171,-8.62939940828402,-8.61133459595959,-8.611309090909087,-8.6495,\"NaN\",-8.6114375,-8.603112408759127,-8.603531527093594,-8.67945606060606,-8.611307591623044,-8.602627350427346,-8.630845993031357,-8.609391304347827,-8.650856470588232,-8.611543613707171,-8.68291590909091,-8.610544257703088,-8.62939940828402,-8.630845993031357,-8.660817241379313,-8.661185000000001,-8.650782706766922,-8.611625743707066,-8.602239843750002,-8.611625743707066,-8.610574707259957,-8.603327559055124,-8.611307591623044,-8.599200000000002,-8.603725,-8.689585714285718,-8.603071428571422,-8.653725531914894,-8.610852733118971,-8.61018996138995,-8.599200000000002,-8.610852733118971,-8.60087491408935,-8.6443,-8.642499999999998,-8.60127401574803,-8.610735820895517,-8.670037675507011,-8.6127,-8.667275,-8.603327559055124,-8.611379104477612,-8.642045535714287,-8.62947093596059,-8.631206478873256,-8.603004326923067,-8.551371428571427,-8.592909677419355,-8.67945606060606,-8.593192063492062,-8.633455000000001,-8.661284615384615,-8.60273195876289,-8.620415517241382,-8.590854310344833,-8.635694827586203,-8.677427906976742,-8.683654545454544,-8.5855542247744,-8.534366666666665,-8.6062,-8.592328571428569,-8.630845993031357,-8.642943298969069,-8.570641666666665,-8.590466666666666],\"y\":[41.14691818181819,41.16392522522522,41.167966666666665,41.14091551499338,41.147796171171166,41.171789473684214,41.1541,41.18499729729729,41.1258988372093,41.199033333333325,41.16901857142858,41.149046261682265,41.15795483870968,41.23701895475836,41.142975177305,41.2121,41.15488263157885,41.15590960451978,41.1640049180328,41.15994154589376,41.14882452830215,41.136133333333326,41.15697315175099,41.14882452830215,41.15005357142858,41.172762385321114,41.1629682926829,41.14907564102564,41.14592377622403,41.16194857142857,41.16315466666664,41.154869603524205,41.16483366336633,41.1747125,41.143928571428575,41.15494965517239,41.18006699029126,41.15488263157885,41.14824576271184,41.14091551499338,41.17975387755101,41.16985999999999,41.14592377622403,41.18715,41.14609836065569,41.150964285714295,41.15201465517241,41.16195978260869,41.16778,41.14990588235293,41.14116666666666,41.14592377622403,41.15903999999998,41.170728571428576,41.15998969072166,41.16392522522522,41.18898333333333,41.16195978260869,41.16793157894737,41.15903999999998,41.149046261682265,41.143816666666666,41.16901857142858,41.18085462184875,41.137029999999996,41.18715,41.14596370370371,41.16483366336633,41.145175175644034,41.157161488673175,\"NaN\",\"NaN\",41.150964285714295,41.16988125,41.157918226600984,41.16904722222221,41.14592377622403,41.154228977272595,41.18383376623378,41.17089058823528,41.157161488673175,41.169129787234056,41.16198411764705,41.18085462184875,41.14898322147653,41.14882452830215,41.223,41.164963235294124,41.1462392156863,41.15697315175099,41.2299,41.16198411764705,41.15474468085109,41.15312981366462,41.18576551724138,41.15887549295774,41.153910364145666,41.177830769230766,41.14798340961094,41.144255145118656,41.15697315175099,41.181039999999996,41.15795483870968,41.16102605042016,41.147796171171166,41.158006896551726,41.14692834645671,41.16585731707318,41.17909756097559,41.13194,41.2463,\"NaN\",41.18383376623378,41.17713725490197,41.17909206349207,41.137029999999996,41.162862352941175,41.16105454545455,41.164868750000004,41.15399072164947,41.1579987179487,41.1558796875,41.16896666666666,41.16483366336633,41.14898322147653,\"NaN\",41.14592377622403,41.147796171171166,41.174005263157895,41.16404545454546,41.15094054982814,41.152785185185195,41.0699,41.17496363636363,41.188966666666666,41.13206363636363,41.14798340961094,41.16410992907798,41.15192047244094,41.16087368421051,41.164868750000004,41.147796171171166,41.166928915662666,41.202799999999996,41.157161488673175,41.12795,41.16904722222221,41.16208022388053,41.182129999999994,41.147796171171166,41.1715,41.14493037974682,41.15410091743118,41.17386862745099,41.149046261682265,41.162862352941175,41.147796171171166,41.157918226600984,41.15305000000001,41.1589111111111,41.16896666666666,41.16901857142858,41.154228977272595,41.15700000000002,41.14990588235293,41.174945945945936,41.191100000000006,41.16198411764705,41.15903999999998,41.147796171171166,41.17610312499999,41.14882452830215,41.14798340961094,41.17388571428573,41.16102605042016,41.1779543859649,41.154228977272595,41.17087272727272,41.164868750000004,41.1512375,41.15911355932204,41.14395808823529,41.157161488673175,41.1470398753894,41.15100701754387,41.1470398753894,41.14798340961094,41.148926010101036,41.145175175644034,41.163052,41.157918226600984,41.15599032258064,41.15994154589376,41.152785185185195,41.1510012861736,41.17501428571429,41.154869603524205,41.15903999999998,41.16704629629627,41.1498465437788,41.194700000000005,41.15488263157885,41.16697254901962,41.173075000000004,41.14882452830215,41.108875,41.15399072164947,41.15194615384613,41.1568,41.164868750000004,41.145175175644034,41.145055000000006,41.23286086956522,41.147796171171166,41.144255145118656,41.16198411764705,41.18898333333333,41.148720000000004,41.15994154589376,41.14798340961094,41.1589111111111,41.23627560975604,41.15201465517241,41.153910364145666,41.145175175644034,41.16092477477481,41.15201465517241,41.14725,41.1470398753894,41.15903999999998,\"NaN\",41.172912000000004,41.15601449275361,41.14395808823529,41.15998969072166,41.16406728395062,41.179946428571434,41.171003488372094,41.163036000000005,41.171883333333334,41.15399072164947,41.15266167247388,41.16592631578946,41.17388571428573,41.15994154589376,41.1715,41.1470398753894,41.13782878787879,41.1470398753894,41.15205502958581,41.148926010101036,41.14592377622403,41.2121,\"NaN\",41.179700000000004,41.15387372262771,41.14803793103447,41.15594242424242,41.14996073298429,41.15194615384613,41.15266167247388,41.13901304347824,41.16198411764705,41.1470398753894,41.1770840909091,41.153910364145666,41.15205502958581,41.15266167247388,41.18102758620691,41.166905,41.151976691729345,41.14798340961094,41.157942968749985,41.14798340961094,41.145175175644034,41.14692834645671,41.14996073298429,41.17722222222222,41.127975,41.17815714285715,41.15312981366462,41.172917021276604,41.1510012861736,41.16020424710422,41.17722222222222,41.1510012861736,41.15094054982814,41.0647,41.15198421052632,41.16511653543307,41.16208022388053,41.23701895475836,41.2008,41.231875,41.14692834645671,41.17203134328358,41.164868750000004,41.157918226600984,41.15887549295774,41.161888942307655,41.17298571428571,41.15599032258064,41.15594242424242,41.1589111111111,41.1718775,41.16909230769231,41.15998969072166,41.15201465517241,41.14698620689654,41.1406379310345,41.152174418604645,41.17317272727273,41.14882452830215,41.14281666666666,41.1987,41.150964285714295,41.15266167247388,41.15399072164947,41.167966666666665,41.192033333333335]}},\"id\":\"14b90cb7-77b2-4643-9beb-9d9826f7a1eb\",\"type\":\"ColumnDataSource\"},{\"attributes\":{\"fill_alpha\":{\"value\":0.2},\"fill_color\":{\"value\":\"blue\"},\"line_color\":{\"value\":\"blue\"},\"size\":{\"units\":\"screen\",\"value\":10},\"x\":{\"field\":\"x\"},\"y\":{\"field\":\"y\"}},\"id\":\"bb9ecee4-df43-42fb-accc-f442c749d1c7\",\"type\":\"Circle\"},{\"attributes\":{},\"id\":\"ccbedeac-24a0-4ac4-aa36-a97c03e73b15\",\"type\":\"BasicTickFormatter\"}],\"root_ids\":[\"fbefd83b-2181-480a-8aae-465503915108\"]},\"title\":\"Bokeh Application\",\"version\":\"0.12.2\"}};\n",
       "            var render_items = [{\"docid\":\"a1991fe6-ecba-49bd-bdfd-6de29fc2f55e\",\"elementid\":\"fc266e32-23ab-4829-ac80-a2838dbcaefc\",\"modelid\":\"fbefd83b-2181-480a-8aae-465503915108\",\"notebook_comms_target\":\"1e684f16-729e-4e8e-ac56-5e21587eb5f6\"}];\n",
       "            \n",
       "            Bokeh.embed.embed_items(docs_json, render_items);\n",
       "        });\n",
       "      },\n",
       "      function(Bokeh) {\n",
       "      }\n",
       "    ];\n",
       "  \n",
       "    function run_inline_js() {\n",
       "      \n",
       "      if ((window.Bokeh !== undefined) || (force === \"1\")) {\n",
       "        for (var i = 0; i < inline_js.length; i++) {\n",
       "          inline_js[i](window.Bokeh);\n",
       "        }if (force === \"1\") {\n",
       "          display_loaded();\n",
       "        }} else if (Date.now() < window._bokeh_timeout) {\n",
       "        setTimeout(run_inline_js, 100);\n",
       "      } else if (!window._bokeh_failed_load) {\n",
       "        console.log(\"Bokeh: BokehJS failed to load within specified timeout.\");\n",
       "        window._bokeh_failed_load = true;\n",
       "      } else if (!force) {\n",
       "        var cell = $(\"#fc266e32-23ab-4829-ac80-a2838dbcaefc\").parents('.cell').data().cell;\n",
       "        cell.output_area.append_execute_result(NB_LOAD_WARNING)\n",
       "      }\n",
       "  \n",
       "    }\n",
       "  \n",
       "    if (window._bokeh_is_loading === 0) {\n",
       "      console.log(\"Bokeh: BokehJS loaded, going straight to plotting\");\n",
       "      run_inline_js();\n",
       "    } else {\n",
       "      load_libs(js_urls, function() {\n",
       "        console.log(\"Bokeh: BokehJS plotting callback run at\", now());\n",
       "        run_inline_js();\n",
       "      });\n",
       "    }\n",
       "  }(this));\n",
       "</script>"
      ]
     },
     "metadata": {},
     "output_type": "display_data"
    }
   ],
   "source": [
    "visualize_predition(gbt_test_prediction,\"MEAN\",mean_pred_test_haversine)"
   ]
  },
  {
   "cell_type": "markdown",
   "metadata": {},
   "source": [
    "### Prediction results of the k-NN predictor"
   ]
  },
  {
   "cell_type": "code",
   "execution_count": 50,
   "metadata": {
    "collapsed": false
   },
   "outputs": [
    {
     "name": "stderr",
     "output_type": "stream",
     "text": [
      "INFO:bokeh.core.state:Session output file 'KNN_destination_prediction_lng2_lat3.html' already exists, will be overwritten.\n"
     ]
    },
    {
     "data": {
      "text/html": [
       "\n",
       "\n",
       "    <div class=\"bk-root\">\n",
       "        <div class=\"plotdiv\" id=\"720ba3eb-6adf-4424-9799-2db94454b064\"></div>\n",
       "    </div>\n",
       "<script type=\"text/javascript\">\n",
       "  \n",
       "  (function(global) {\n",
       "    function now() {\n",
       "      return new Date();\n",
       "    }\n",
       "  \n",
       "    var force = \"\";\n",
       "  \n",
       "    if (typeof (window._bokeh_onload_callbacks) === \"undefined\" || force !== \"\") {\n",
       "      window._bokeh_onload_callbacks = [];\n",
       "      window._bokeh_is_loading = undefined;\n",
       "    }\n",
       "  \n",
       "  \n",
       "    \n",
       "    if (typeof (window._bokeh_timeout) === \"undefined\" || force !== \"\") {\n",
       "      window._bokeh_timeout = Date.now() + 0;\n",
       "      window._bokeh_failed_load = false;\n",
       "    }\n",
       "  \n",
       "    var NB_LOAD_WARNING = {'data': {'text/html':\n",
       "       \"<div style='background-color: #fdd'>\\n\"+\n",
       "       \"<p>\\n\"+\n",
       "       \"BokehJS does not appear to have successfully loaded. If loading BokehJS from CDN, this \\n\"+\n",
       "       \"may be due to a slow or bad network connection. Possible fixes:\\n\"+\n",
       "       \"</p>\\n\"+\n",
       "       \"<ul>\\n\"+\n",
       "       \"<li>re-rerun `output_notebook()` to attempt to load from CDN again, or</li>\\n\"+\n",
       "       \"<li>use INLINE resources instead, as so:</li>\\n\"+\n",
       "       \"</ul>\\n\"+\n",
       "       \"<code>\\n\"+\n",
       "       \"from bokeh.resources import INLINE\\n\"+\n",
       "       \"output_notebook(resources=INLINE)\\n\"+\n",
       "       \"</code>\\n\"+\n",
       "       \"</div>\"}};\n",
       "  \n",
       "    function display_loaded() {\n",
       "      if (window.Bokeh !== undefined) {\n",
       "        Bokeh.$(\"#720ba3eb-6adf-4424-9799-2db94454b064\").text(\"BokehJS successfully loaded.\");\n",
       "      } else if (Date.now() < window._bokeh_timeout) {\n",
       "        setTimeout(display_loaded, 100)\n",
       "      }\n",
       "    }if ((window.Jupyter !== undefined) && Jupyter.notebook.kernel) {\n",
       "      comm_manager = Jupyter.notebook.kernel.comm_manager\n",
       "      comm_manager.register_target(\"1aef93ca-4ea2-43b5-8989-50cfb8204dda\", function () {});\n",
       "    }\n",
       "  \n",
       "    function run_callbacks() {\n",
       "      window._bokeh_onload_callbacks.forEach(function(callback) { callback() });\n",
       "      delete window._bokeh_onload_callbacks\n",
       "      console.info(\"Bokeh: all callbacks have finished\");\n",
       "    }\n",
       "  \n",
       "    function load_libs(js_urls, callback) {\n",
       "      window._bokeh_onload_callbacks.push(callback);\n",
       "      if (window._bokeh_is_loading > 0) {\n",
       "        console.log(\"Bokeh: BokehJS is being loaded, scheduling callback at\", now());\n",
       "        return null;\n",
       "      }\n",
       "      if (js_urls == null || js_urls.length === 0) {\n",
       "        run_callbacks();\n",
       "        return null;\n",
       "      }\n",
       "      console.log(\"Bokeh: BokehJS not loaded, scheduling load and callback at\", now());\n",
       "      window._bokeh_is_loading = js_urls.length;\n",
       "      for (var i = 0; i < js_urls.length; i++) {\n",
       "        var url = js_urls[i];\n",
       "        var s = document.createElement('script');\n",
       "        s.src = url;\n",
       "        s.async = false;\n",
       "        s.onreadystatechange = s.onload = function() {\n",
       "          window._bokeh_is_loading--;\n",
       "          if (window._bokeh_is_loading === 0) {\n",
       "            console.log(\"Bokeh: all BokehJS libraries loaded\");\n",
       "            run_callbacks()\n",
       "          }\n",
       "        };\n",
       "        s.onerror = function() {\n",
       "          console.warn(\"failed to load library \" + url);\n",
       "        };\n",
       "        console.log(\"Bokeh: injecting script tag for BokehJS library: \", url);\n",
       "        document.getElementsByTagName(\"head\")[0].appendChild(s);\n",
       "      }\n",
       "    };var element = document.getElementById(\"720ba3eb-6adf-4424-9799-2db94454b064\");\n",
       "    if (element == null) {\n",
       "      console.log(\"Bokeh: ERROR: autoload.js configured with elementid '720ba3eb-6adf-4424-9799-2db94454b064' but no matching script tag was found. \")\n",
       "      return false;\n",
       "    }\n",
       "  \n",
       "    var js_urls = [];\n",
       "  \n",
       "    var inline_js = [\n",
       "      function(Bokeh) {\n",
       "        Bokeh.$(function() {\n",
       "            var docs_json = {\"1df0a407-4bd0-4fd4-9b05-8bebe3d9b58b\":{\"roots\":{\"references\":[{\"attributes\":{\"callback\":null},\"id\":\"bac2ff23-f7f1-4597-aa74-f26259413dbc\",\"type\":\"DataRange1d\"},{\"attributes\":{\"callback\":null,\"column_names\":[\"y1\",\"y0\",\"x0\",\"x1\"],\"data\":{\"x0\":[-8.584883999999999,-8.601894,-8.574902999999999,-8.614638000000001,-8.619894,-8.62641,-8.582049000000001,-8.578773,-8.605494,-8.586306,-8.588232000000001,-8.596647,-8.584335000000001,-8.669475,-8.610174,-8.65287,-8.629064999999999,-8.627949000000001,-8.589789,-8.641521000000001,-8.585757000000001,-8.61156,-8.628767999999999,-8.585658,-8.641116,-8.606717999999999,-8.593488,-8.587017,-8.61138,-8.581104,-8.581211999999999,-8.609814,-8.627202,-8.567478,-8.617094999999999,-8.604503999999999,-8.692461,-8.630982000000001,-8.586135,-8.616168,-8.604405,-8.585567999999999,-8.613495,-8.594486999999999,-8.61768,-8.594433,-8.617716,-8.632881,-8.552907000000001,-8.625798,-8.601723,-8.61093,-8.598924,-8.586369,-8.601084,-8.606295,-8.594567999999999,-8.632728,-8.642916,-8.604711,-8.597484,-8.579961,-8.589078,-8.583552000000001,-8.601804,-8.594433,-8.601714,-8.629452,-8.611218,-8.624907,-8.376903,-8.729766,-8.593407000000001,-8.570601,-8.627238,-8.625627,-8.611866000000001,-8.648055000000001,-8.596809,-8.656389,-8.625519,-8.639658,-8.652528,-8.577774,-8.625573,-8.584191,-8.626725,-8.588853,-8.631423,-8.629425,-8.668053,-8.652114,-8.643807,-8.606394,-8.680635,-8.630289,-8.609229,-8.663427,-8.611146000000002,-8.605647,-8.628696000000001,-8.530515,-8.582769,-8.604503999999999,-8.621955,-8.664669,-8.601741,-8.598239999999999,-8.599041,-8.626644,-8.620605,-8.50698,-8.604036,-8.591453999999999,-8.622243,-8.601614999999999,-8.622072,-8.671482000000001,-8.638137,-8.642889,-8.636894999999999,-8.652393,-8.600661,-8.632197,-8.622828,-7.551891,-8.615133,-8.624727,-8.672148,-8.608851,-8.605962,-8.626347,-8.577693,-8.584344,-8.580654,-8.597727,-8.610462,-8.627247,-8.610389999999999,-8.5743,-8.640144,-8.622081,-8.593911,-8.648271000000001,-8.624655,-8.635725,-8.624907,-8.608491,-8.638056,-8.624744999999999,-8.567343,-8.617401,-8.628714,-8.653932000000001,-8.598879,-8.625042,-8.622621,-8.631405,-8.640018,-8.595027,-8.606475,-8.588907,-8.650224,-8.652555,-8.620902000000001,-8.651961,-8.593119,-8.65161,-8.604594,-8.623062,-8.661267,-8.585919,-8.611388999999999,-8.606043,-8.604099,-8.614116000000001,-8.64981,-8.672013,-8.641179,-8.571411,-8.582714999999999,-8.612064,-8.623619999999999,-8.606898,-8.629245,-8.608266,-8.612181,-8.610822,-8.611775999999999,-8.649171,-8.631675,-8.595089999999999,-8.644185,-8.626553999999999,-8.607393,-8.599959,-8.611911,-8.601272999999999,-8.597529,-8.604171000000001,-8.606322,-8.630343,-8.649683999999999,-8.594757000000001,-8.578314,-8.626536,-8.640441000000001,-8.606556,-8.577657,-8.638515,-8.613216,-8.630559,-8.62524,-8.622755999999999,-8.606016,-8.651142,-8.58735,-8.640125999999999,-8.640054,-8.608239,-8.592794999999999,-8.669205,-8.626572,-8.608103999999999,-8.607069000000001,-8.609823,-8.625969,-8.659557000000001,-8.609499000000001,-8.604531,-8.585766,-8.646453,-8.672967,-8.612001,-8.602263,-8.622765,-8.667711,-8.612883,-8.67483,-8.687502,-8.645669999999999,-8.632197,-8.579619000000001,-8.605647,-8.639928,-8.566991999999999,-8.608707,-8.623521,-8.607546000000001,-8.627346000000001,-8.607717,-8.613648,-8.652716999999999,-8.650017,-8.609319000000001,-8.605134,-8.606349,-8.678106,-8.613756,-8.602326,-8.631099,-8.609733,-8.65071,-8.614593,-8.681633999999999,-8.610084,-8.627733000000001,-8.636445,-8.658558,-8.666388000000001,-8.655723,-8.61282,-8.601471,-8.611028999999998,-8.610947999999999,-8.602136999999999,-8.610345,-8.602677,-8.598096,-8.687394,-8.599257000000001,-8.647641,-8.607177,-8.607996,-8.599707,-8.610066,-8.600247,-8.641422,-8.642007000000001,-8.606187,-8.615574,-8.669313,-8.613738,-8.667135,-8.602038,-8.612685,-8.641404,-8.627985,-8.633016,-8.604531,-8.555571,-8.589122999999999,-8.678303999999999,-8.594397,-8.632764,-8.661258,-8.604422999999999,-8.620875,-8.58816,-8.636049,-8.677728,-8.684856,-8.585838,-8.534979,-8.600454,-8.593308,-8.629785,-8.643303,-8.569206,-8.592345],\"x1\":[-8.585082,-8.5995855,-8.5699845,-8.6146965,-8.6214015,-8.621433,-8.5796955,-8.580176999999999,-8.6053725,-8.58465,-8.593857,-8.5996125,-8.57853,-8.6700735,-8.6097015,-8.6495,-8.6304645,-8.627391,-8.593361999999999,-8.639208,-8.586224999999999,-8.611118999999999,-8.62902,-8.5856175,-8.644707,-8.611640999999999,-8.591314500000001,-8.5868865,-8.612639999999999,-8.585500499999998,-8.5842495,-8.610052500000002,-8.630082,-8.567046000000001,-8.6217705,-8.599432499999999,-8.692411499999999,-8.628948,-8.585734500000001,-8.6094855,-8.6022855,-8.5831425,-8.6112135,-8.5903065,-8.617698,-8.5937085,-8.6194305,-8.6279895,-8.5493925,-8.6188365,-8.600175,-8.611006499999998,-8.598955499999999,-8.5836465,-8.600148,-8.6063895,-8.593308,-8.6279895,-8.638947,-8.600886,-8.5996125,-8.5793535,-8.590477499999999,-8.5832955,-8.601822,-8.5903065,-8.598015,-8.630478,-8.611065,-8.626194000000002,\"NaN\",\"NaN\",-8.593168499999999,-8.570367000000001,-8.630343,-8.623165499999999,-8.609751,-8.648585999999998,-8.6001435,-8.655682500000001,-8.6256,-8.6408775,-8.650466999999999,-8.583021,-8.626279499999999,-8.584236,-8.6342,-8.588843999999998,-8.6305725,-8.6291685,-8.668053,-8.648955,-8.6438655,-8.606047499999999,-8.682407999999999,-8.632876500000002,-8.6145165,-8.663535,-8.611938,-8.605395,-8.629344,-8.533836,-8.581059,-8.6041215,-8.6218605,-8.662617,-8.605188,-8.5991805,-8.6013855,-8.629303499999999,-8.6184,\"NaN\",-8.604981,-8.589338999999999,-8.6219775,-8.601822,-8.620047,-8.669826,-8.6408595,-8.645741999999998,-8.640864,-8.650818000000001,-8.6041305,-8.631882,-8.6208525,\"NaN\",-8.615295,-8.623314,-8.6667705,-8.611056000000001,-8.605917,-8.622252,-8.5778,-8.585469,-8.583102,-8.6015925,-8.609499,-8.627949000000001,-8.61048,-8.5764105,-8.642889,-8.621586,-8.593915500000001,-8.6491665,-8.623935,-8.631265500000001,-8.623165499999999,-8.613693000000001,-8.6381415,-8.62218,-8.5669,-8.617113,-8.6312745,-8.6547375,-8.599976999999999,-8.621581500000001,-8.6233005,-8.627553,-8.638470000000002,-8.593704,-8.605062,-8.5891275,-8.653720499999999,-8.6500935,-8.6220225,-8.649585,-8.5927275,-8.651943,-8.59986,-8.6199525,-8.657451000000002,-8.584965,-8.6104125,-8.605935,-8.6046975,-8.6135085,-8.6491755,-8.671401,-8.640252,-8.569206,-8.5805775,-8.61039,-8.624817,-8.606875500000001,-8.6291865,-8.606826000000002,-8.609490000000001,-8.611366499999999,-8.6088645,-8.6489235,-8.630685,-8.593452,-8.639937,-8.6214015,-8.6091345,-8.60013,-8.610417,-8.599176,-8.602708499999999,-8.602812,-8.605228499999999,-8.6307615,-8.652091500000001,-8.592956999999998,-8.5842405,-8.6186385,-8.6416605,-8.605502999999999,-8.579767499999999,-8.6419035,-8.615862,-8.6290875,-8.624799,-8.6203305,-8.602686,-8.6482665,-8.593281000000001,-8.6419395,-8.6401665,-8.609724,-8.592907499999999,-8.6699385,-8.618435999999999,-8.608635,-8.609247,-8.609778,-8.623503,-8.660088,-8.6091075,-8.603127,\"NaN\",-8.6395725,-8.6737635,-8.608671000000001,-8.60274,-8.622936,-8.66799,-8.610786000000001,-8.670069000000002,-8.687646,-8.639325,-8.6291775,-8.577846000000001,-8.601651,-8.6389785,-8.5669,-8.6100885,-8.6206185,-8.60769,-8.627265,-8.610030000000002,-8.6116725,-8.6495,\"NaN\",-8.611587,-8.60211,-8.605134,-8.6792175,-8.6126715,-8.600638499999999,-8.6291775,-8.6098545,-8.6495895,-8.609535,-8.683893000000001,-8.6095215,-8.6278905,-8.629227,-8.6580945,-8.660083499999999,-8.651286,-8.6098095,-8.599563,-8.6108355,-8.6109165,-8.604715500000001,-8.6138865,-8.5971555,-8.601817500000001,-8.68833,-8.6015835,-8.6527125,-8.614989000000001,-8.6099715,-8.5983345,-8.610322499999999,-8.600620500000002,-8.6443,-8.6414535,-8.6063265,-8.613189,-8.669853,-8.6127,-8.6672115,-8.6038515,-8.611146,-8.6403645,-8.629236,-8.629182,-8.6021145,-8.5479615,-8.592678,-8.679680999999999,-8.592484500000001,-8.63136,-8.660866500000001,-8.5975335,-8.622621000000002,-8.5881375,-8.6358645,-8.677476,-8.6845635,-8.5858245,-8.534268,-8.6062,-8.591085,-8.6307705,-8.645741999999998,-8.5709205,-8.590567499999999],\"y0\":[41.146623,41.163596999999996,41.167719,41.14098,41.148036,41.171958000000004,41.153778,41.185241999999995,41.12577,41.199273,41.168889,41.149431,41.158296,41.237415000000006,41.143275,41.212241999999996,41.155136999999996,41.156136,41.163687,41.160455999999996,41.148738,41.135634,41.15664,41.148513,41.150141999999995,41.172876,41.162679,41.149097999999995,41.14611,41.162382,41.163174,41.1552,41.164758,41.174568,41.143959,41.154821999999996,41.180355,41.154624,41.14836,41.140539000000004,41.180346,41.170347,41.14593,41.186952000000005,41.14629,41.150636999999996,41.151852000000005,41.162292,41.168385,41.149791,41.140989000000005,41.14611,41.15889,41.170689,41.159556,41.16411,41.189256,41.162228999999996,41.167746,41.158998,41.148945,41.143905,41.168592,41.181156,41.137389,41.186727000000005,41.145687,41.165145,41.144967,41.157081,41.556375,41.330565,41.150771999999996,41.169717,41.157647999999995,41.16942,41.146002,41.15439,41.184063,41.171463,41.157405,41.168834999999994,41.161815000000004,41.180913000000004,41.149314000000004,41.148918,41.222952,41.165118,41.14593,41.157045000000004,41.229665999999995,41.161778999999996,41.154525,41.153355,41.186349,41.159321999999996,41.153607,41.177619,41.14809,41.144148,41.157162,41.181399,41.158269,41.160492,41.147604,41.158449,41.147352000000005,41.165883,41.178546000000004,41.131737,41.245703999999996,41.196969,41.18391,41.177196,41.179221000000005,41.137074,41.162859000000005,41.161229999999996,41.164614,41.154201,41.158035,41.155685999999996,41.168574,41.165208,41.148567,41.185035,41.145759000000005,41.148387,41.17437,41.164479,41.151015,41.152986,41.069718,41.175135,41.188662,41.132241,41.147694,41.164137,41.151933,41.160654,41.164668,41.147667,41.167097999999996,41.203215,41.156991,41.128038000000004,41.169276,41.162372999999995,41.182326,41.148351,41.17176,41.145093,41.153535,41.174054999999996,41.148981,41.163354,41.147766,41.158233,41.153418,41.159223,41.168988,41.168646,41.154047999999996,41.156541,41.150448,41.175323999999996,41.191254,41.161590000000004,41.158791,41.147901,41.175855,41.148801,41.147559,41.173587,41.161113,41.178096000000004,41.154363000000004,41.171364000000004,41.164758,41.150871,41.158719,41.144391,41.157018,41.147037,41.150915999999995,41.147289,41.148045,41.149206,41.144715000000005,41.162994,41.158341,41.155587,41.160410999999996,41.152518,41.151303000000006,41.174964,41.155443,41.15898,41.166936,41.149557,41.195295,41.155091999999996,41.167053,41.172686999999996,41.149278,41.109165000000004,41.153526,41.152365,41.157144,41.164767,41.145444,41.145471,41.232654,41.147811,41.144453999999996,41.161671000000005,41.188563,41.149431,41.159709,41.148234,41.159421,41.2362,41.152473,41.153607,41.144913,41.160888,41.152374,41.14692,41.146767,41.159349,41.120459999999994,41.172507,41.155559999999994,41.143482,41.159772,41.164190999999995,41.180112,41.170581,41.162895,41.17158,41.15439,41.152653,41.165793,41.173722,41.159673,41.172102,41.147433,41.138064,41.147127000000005,41.152437,41.148998999999996,41.145975,41.211882,41.091489,41.180211,41.153544000000004,41.14836,41.155614,41.149845,41.152311,41.152662,41.138757,41.161608,41.146839,41.177124,41.153895,41.152446000000005,41.1525,41.180553,41.1669,41.151888,41.148126,41.158421999999995,41.148081,41.145381,41.147180999999996,41.150439,41.176728000000004,41.128101,41.178051,41.15331,41.173452000000005,41.15106,41.159988,41.17698,41.150799,41.151051,41.065011,41.151564,41.165451000000004,41.162292,41.236668,41.201478,41.232033,41.146668,41.172084000000005,41.164865999999996,41.157702,41.158566,41.161545000000004,41.173362,41.155524,41.155524,41.158674,41.171904,41.168735999999996,41.159493,41.152356,41.147262,41.140566,41.151509999999995,41.173371,41.148998999999996,41.14332,41.198787,41.151051,41.152671000000005,41.154327,41.167629,41.192244],\"y1\":[41.1467895,41.1636915,41.168308499999995,41.14097100000001,41.148009,41.171598,41.153899499999994,41.1852285,41.125797000000006,41.199237,41.16897,41.149314000000004,41.1577065,41.236928999999996,41.142987,41.2121,41.1548625,41.155596,41.1642585,41.159551500000006,41.14889099999999,41.1360435,41.156829,41.14854,41.1500925,41.1726735,41.162643,41.1489765,41.1460875,41.161968,41.1631335,41.1550335,41.1648345,41.1747615,41.1437745,41.1552135,41.180391,41.154984,41.1483915,41.14099349999999,41.1795765,41.169771,41.145948000000004,41.187132000000005,41.1461865,41.1507225,41.151645,41.1616485,41.167782,41.1498765,41.141322,41.145894,41.1587685,41.170733999999996,41.15997,41.16375,41.1890985,41.1616485,41.1680385,41.159295,41.149314000000004,41.1436395,41.16879,41.181011999999996,41.137416,41.187132000000005,41.146218000000005,41.1647535,41.1451335,41.157252,\"NaN\",\"NaN\",41.150709,41.169933,41.157931500000004,41.168870999999996,41.146011,41.1542505,41.1836445,41.171094,41.157351,41.169222,41.161725,41.18091750000001,41.1487875,41.1487515,41.223,41.165253,41.146425,41.157198,41.229882,41.162022,41.154552,41.153386499999996,41.185926,41.15898,41.154435,41.17752,41.148099,41.144193,41.1572115,41.180832,41.15808,41.160951,41.147829,41.157945,41.146686,41.1660945,41.17930200000001,41.131881,41.2463,\"NaN\",41.184085499999995,41.177038499999995,41.1790635,41.137416,41.1627375,41.160861,41.164897499999995,41.1539985,41.1579945,41.1560235,41.1689925,41.1646815,41.149314,\"NaN\",41.145700500000004,41.147622,41.173964999999995,41.164191,41.150974500000004,41.1529815,41.0699,41.1749775,41.1890985,41.1318405,41.1477525,41.163979499999996,41.151613499999996,41.1611445,41.165064,41.147532,41.167120499999996,41.2027785,41.1570225,41.127939,41.168870999999996,41.162031,41.182038000000006,41.1476175,41.1715,41.144994,41.154021,41.173551,41.1494085,41.162786999999994,41.147685,41.157773999999996,41.153094,41.159106,41.1688035,41.168997000000005,41.154259499999995,41.156954999999996,41.150133,41.1749415,41.191128000000006,41.162013,41.1592635,41.147874,41.176179,41.148747,41.148387,41.1741225,41.161351499999995,41.178276,41.154349499999995,41.170733999999996,41.164857,41.1512355,41.159115,41.1439005,41.157261,41.146632,41.151258,41.1468615,41.147667,41.148792,41.1451065,41.163408000000004,41.158332,41.156203500000004,41.1599025,41.152621499999995,41.150884500000004,41.1752295,41.1551865,41.158782,41.166621,41.1503265,41.194719,41.154700500000004,41.166855,41.17275,41.1487065,41.109061499999996,41.1538275,41.151861,41.156883,41.1647445,41.1452685,41.144940000000005,41.232762,41.1477615,41.144391,41.162138999999996,41.189112,41.148895499999995,41.1598755,41.1478065,41.159223,41.2362945,41.152324500000006,41.153715000000005,41.145318,41.160996,41.151888,41.147199,41.1468165,41.159295,\"NaN\",41.173092,41.155956,41.143653,41.159862000000004,41.1642045,41.179923,41.1710625,41.163281999999995,41.1716925,41.1539445,41.152531499999995,41.165667,41.1740055,41.159578499999995,41.1715,41.1469695,41.1381405,41.147167499999995,41.152473,41.148891,41.1457635,41.2121,\"NaN\",41.1797295,41.1538545,41.1479505,41.1559245,41.149885499999996,41.151807,41.152531499999995,41.138887499999996,41.162175,41.1470775,41.176970999999995,41.153557500000005,41.1517575,41.152572,41.181363000000005,41.1670755,41.151996,41.147829,41.158017,41.14810799999999,41.1453675,41.146956,41.1499665,41.177308499999995,41.128254,41.178015,41.153373,41.1729615,41.1509655,41.1599565,41.177173499999995,41.1510915,41.1509205,41.0647,41.1520995,41.164888499999996,41.161986,41.237027999999995,41.2008,41.2319205,41.146910999999996,41.17203,41.164713,41.157927,41.1588135,41.161868999999996,41.1727905,41.156271000000004,41.156037,41.1590655,41.1717285,41.169285,41.1597855,41.1524055,41.1471945,41.140561500000004,41.1523965,41.1731865,41.148837,41.1428205,41.1987,41.150844000000006,41.15284199999999,41.1539985,41.16816,41.192262]}},\"id\":\"762fcc69-0547-4f40-9e66-708d181caca1\",\"type\":\"ColumnDataSource\"},{\"attributes\":{\"x0\":{\"field\":\"x0\"},\"x1\":{\"field\":\"x1\"},\"y0\":{\"field\":\"y0\"},\"y1\":{\"field\":\"y1\"}},\"id\":\"d3099bf1-dd6f-4974-8174-75804b049933\",\"type\":\"Segment\"},{\"attributes\":{\"active_drag\":\"auto\",\"active_scroll\":\"auto\",\"active_tap\":\"auto\",\"tools\":[{\"id\":\"8400aaa5-f67c-4cb0-bc33-4f717a405537\",\"type\":\"PanTool\"},{\"id\":\"f3f6ced6-a798-4163-b1a3-8373bcba1051\",\"type\":\"WheelZoomTool\"},{\"id\":\"df261713-22b6-410f-982d-869beb456668\",\"type\":\"BoxZoomTool\"},{\"id\":\"5b1091aa-30db-4649-a70a-d4c1db135d8f\",\"type\":\"SaveTool\"},{\"id\":\"06599a81-170c-47e3-83fe-d56b95dfd4c2\",\"type\":\"ResetTool\"},{\"id\":\"4e7481a8-fb8d-4243-82ce-80c75508881d\",\"type\":\"HelpTool\"}]},\"id\":\"7773ee2d-aca8-4096-9944-54f5cd8830dc\",\"type\":\"Toolbar\"},{\"attributes\":{},\"id\":\"c4918a56-4520-4584-8889-2ee3cd23887d\",\"type\":\"BasicTicker\"},{\"attributes\":{\"data_source\":{\"id\":\"b8dee14e-8756-403e-a77e-70835611c742\",\"type\":\"ColumnDataSource\"},\"glyph\":{\"id\":\"07af17fe-b943-4d1c-a4b4-d34ab428d411\",\"type\":\"Circle\"},\"hover_glyph\":null,\"nonselection_glyph\":{\"id\":\"fed27fc8-d503-4f7b-ba03-4ba3e51d93f9\",\"type\":\"Circle\"},\"selection_glyph\":null},\"id\":\"d1b8247f-d963-4317-ad16-1b2dfa9a0492\",\"type\":\"GlyphRenderer\"},{\"attributes\":{\"data_source\":{\"id\":\"d6ebd424-72e6-4179-a3b1-083768436e40\",\"type\":\"ColumnDataSource\"},\"glyph\":{\"id\":\"194e085d-8b94-4ce3-9102-528d41274fbe\",\"type\":\"Circle\"},\"hover_glyph\":null,\"nonselection_glyph\":{\"id\":\"0f6e3e50-7ad1-4180-b0dc-a80f4064b403\",\"type\":\"Circle\"},\"selection_glyph\":null},\"id\":\"2ca647d3-3414-4f9a-a098-d35aa885c794\",\"type\":\"GlyphRenderer\"},{\"attributes\":{},\"id\":\"32200916-0daa-48d4-abd1-e874d3bab0f2\",\"type\":\"ToolEvents\"},{\"attributes\":{\"plot\":null,\"text\":\"Predicted Destinations with KNN. Mean Haversine distance: 0.173984\"},\"id\":\"2a535688-02ba-45cd-a124-9af31c3541ff\",\"type\":\"Title\"},{\"attributes\":{\"plot\":{\"id\":\"0b7276c0-894c-4513-9b48-4b297469d0b3\",\"subtype\":\"Figure\",\"type\":\"Plot\"}},\"id\":\"5b1091aa-30db-4649-a70a-d4c1db135d8f\",\"type\":\"SaveTool\"},{\"attributes\":{\"callback\":null},\"id\":\"6b93a416-d791-479a-ba0c-324c66ecf9ea\",\"type\":\"DataRange1d\"},{\"attributes\":{\"line_alpha\":{\"value\":0.1},\"line_color\":{\"value\":\"#1f77b4\"},\"x0\":{\"field\":\"x0\"},\"x1\":{\"field\":\"x1\"},\"y0\":{\"field\":\"y0\"},\"y1\":{\"field\":\"y1\"}},\"id\":\"1eb314af-5939-4e77-8985-f0b129bc31e1\",\"type\":\"Segment\"},{\"attributes\":{\"plot\":{\"id\":\"0b7276c0-894c-4513-9b48-4b297469d0b3\",\"subtype\":\"Figure\",\"type\":\"Plot\"}},\"id\":\"06599a81-170c-47e3-83fe-d56b95dfd4c2\",\"type\":\"ResetTool\"},{\"attributes\":{\"below\":[{\"id\":\"9bb2417e-432a-4881-8aee-a86cd1d26604\",\"type\":\"LinearAxis\"}],\"left\":[{\"id\":\"ad653a83-86da-42a0-b78a-2fe0cf294082\",\"type\":\"LinearAxis\"}],\"plot_width\":900,\"renderers\":[{\"id\":\"9bb2417e-432a-4881-8aee-a86cd1d26604\",\"type\":\"LinearAxis\"},{\"id\":\"47a43ffc-0677-4b08-9207-0bf3cd3c850e\",\"type\":\"Grid\"},{\"id\":\"ad653a83-86da-42a0-b78a-2fe0cf294082\",\"type\":\"LinearAxis\"},{\"id\":\"69aa76e3-5d1a-4318-bacf-c5958ef01fa7\",\"type\":\"Grid\"},{\"id\":\"2d62767f-ccc6-47a8-8a8e-fd03a66dfd2e\",\"type\":\"BoxAnnotation\"},{\"id\":\"f44da350-7a7b-46b0-9a02-3732d82afd9e\",\"type\":\"GlyphRenderer\"},{\"id\":\"d1b8247f-d963-4317-ad16-1b2dfa9a0492\",\"type\":\"GlyphRenderer\"},{\"id\":\"2ca647d3-3414-4f9a-a098-d35aa885c794\",\"type\":\"GlyphRenderer\"}],\"title\":{\"id\":\"2a535688-02ba-45cd-a124-9af31c3541ff\",\"type\":\"Title\"},\"tool_events\":{\"id\":\"32200916-0daa-48d4-abd1-e874d3bab0f2\",\"type\":\"ToolEvents\"},\"toolbar\":{\"id\":\"7773ee2d-aca8-4096-9944-54f5cd8830dc\",\"type\":\"Toolbar\"},\"x_range\":{\"id\":\"6b93a416-d791-479a-ba0c-324c66ecf9ea\",\"type\":\"DataRange1d\"},\"y_range\":{\"id\":\"bac2ff23-f7f1-4597-aa74-f26259413dbc\",\"type\":\"DataRange1d\"}},\"id\":\"0b7276c0-894c-4513-9b48-4b297469d0b3\",\"subtype\":\"Figure\",\"type\":\"Plot\"},{\"attributes\":{},\"id\":\"185edc88-6ca0-416d-af33-a8dff8362af3\",\"type\":\"BasicTicker\"},{\"attributes\":{\"data_source\":{\"id\":\"762fcc69-0547-4f40-9e66-708d181caca1\",\"type\":\"ColumnDataSource\"},\"glyph\":{\"id\":\"d3099bf1-dd6f-4974-8174-75804b049933\",\"type\":\"Segment\"},\"hover_glyph\":null,\"nonselection_glyph\":{\"id\":\"1eb314af-5939-4e77-8985-f0b129bc31e1\",\"type\":\"Segment\"},\"selection_glyph\":null},\"id\":\"f44da350-7a7b-46b0-9a02-3732d82afd9e\",\"type\":\"GlyphRenderer\"},{\"attributes\":{\"overlay\":{\"id\":\"2d62767f-ccc6-47a8-8a8e-fd03a66dfd2e\",\"type\":\"BoxAnnotation\"},\"plot\":{\"id\":\"0b7276c0-894c-4513-9b48-4b297469d0b3\",\"subtype\":\"Figure\",\"type\":\"Plot\"}},\"id\":\"df261713-22b6-410f-982d-869beb456668\",\"type\":\"BoxZoomTool\"},{\"attributes\":{\"axis_label\":\"LNG\",\"formatter\":{\"id\":\"2e7f674d-0440-44e8-b529-176a54212d2e\",\"type\":\"BasicTickFormatter\"},\"plot\":{\"id\":\"0b7276c0-894c-4513-9b48-4b297469d0b3\",\"subtype\":\"Figure\",\"type\":\"Plot\"},\"ticker\":{\"id\":\"185edc88-6ca0-416d-af33-a8dff8362af3\",\"type\":\"BasicTicker\"}},\"id\":\"9bb2417e-432a-4881-8aee-a86cd1d26604\",\"type\":\"LinearAxis\"},{\"attributes\":{},\"id\":\"2e7f674d-0440-44e8-b529-176a54212d2e\",\"type\":\"BasicTickFormatter\"},{\"attributes\":{\"fill_alpha\":{\"value\":0.2},\"fill_color\":{\"value\":\"blue\"},\"line_color\":{\"value\":\"blue\"},\"size\":{\"units\":\"screen\",\"value\":10},\"x\":{\"field\":\"x\"},\"y\":{\"field\":\"y\"}},\"id\":\"194e085d-8b94-4ce3-9102-528d41274fbe\",\"type\":\"Circle\"},{\"attributes\":{\"axis_label\":\"LAT\",\"formatter\":{\"id\":\"6a61b230-476d-468a-af7d-0e4b2e5c5549\",\"type\":\"BasicTickFormatter\"},\"plot\":{\"id\":\"0b7276c0-894c-4513-9b48-4b297469d0b3\",\"subtype\":\"Figure\",\"type\":\"Plot\"},\"ticker\":{\"id\":\"c4918a56-4520-4584-8889-2ee3cd23887d\",\"type\":\"BasicTicker\"}},\"id\":\"ad653a83-86da-42a0-b78a-2fe0cf294082\",\"type\":\"LinearAxis\"},{\"attributes\":{\"fill_alpha\":{\"value\":0.1},\"fill_color\":{\"value\":\"#1f77b4\"},\"line_alpha\":{\"value\":0.1},\"line_color\":{\"value\":\"#1f77b4\"},\"size\":{\"units\":\"screen\",\"value\":10},\"x\":{\"field\":\"x\"},\"y\":{\"field\":\"y\"}},\"id\":\"fed27fc8-d503-4f7b-ba03-4ba3e51d93f9\",\"type\":\"Circle\"},{\"attributes\":{\"dimension\":1,\"plot\":{\"id\":\"0b7276c0-894c-4513-9b48-4b297469d0b3\",\"subtype\":\"Figure\",\"type\":\"Plot\"},\"ticker\":{\"id\":\"c4918a56-4520-4584-8889-2ee3cd23887d\",\"type\":\"BasicTicker\"}},\"id\":\"69aa76e3-5d1a-4318-bacf-c5958ef01fa7\",\"type\":\"Grid\"},{\"attributes\":{\"plot\":{\"id\":\"0b7276c0-894c-4513-9b48-4b297469d0b3\",\"subtype\":\"Figure\",\"type\":\"Plot\"},\"ticker\":{\"id\":\"185edc88-6ca0-416d-af33-a8dff8362af3\",\"type\":\"BasicTicker\"}},\"id\":\"47a43ffc-0677-4b08-9207-0bf3cd3c850e\",\"type\":\"Grid\"},{\"attributes\":{\"fill_alpha\":{\"value\":0.1},\"fill_color\":{\"value\":\"#1f77b4\"},\"line_alpha\":{\"value\":0.1},\"line_color\":{\"value\":\"#1f77b4\"},\"size\":{\"units\":\"screen\",\"value\":10},\"x\":{\"field\":\"x\"},\"y\":{\"field\":\"y\"}},\"id\":\"0f6e3e50-7ad1-4180-b0dc-a80f4064b403\",\"type\":\"Circle\"},{\"attributes\":{\"callback\":null,\"column_names\":[\"y\",\"x\"],\"data\":{\"x\":[-8.585082,-8.5995855,-8.5699845,-8.6146965,-8.6214015,-8.621433,-8.5796955,-8.580176999999999,-8.6053725,-8.58465,-8.593857,-8.5996125,-8.57853,-8.6700735,-8.6097015,-8.6495,-8.6304645,-8.627391,-8.593361999999999,-8.639208,-8.586224999999999,-8.611118999999999,-8.62902,-8.5856175,-8.644707,-8.611640999999999,-8.591314500000001,-8.5868865,-8.612639999999999,-8.585500499999998,-8.5842495,-8.610052500000002,-8.630082,-8.567046000000001,-8.6217705,-8.599432499999999,-8.692411499999999,-8.628948,-8.585734500000001,-8.6094855,-8.6022855,-8.5831425,-8.6112135,-8.5903065,-8.617698,-8.5937085,-8.6194305,-8.6279895,-8.5493925,-8.6188365,-8.600175,-8.611006499999998,-8.598955499999999,-8.5836465,-8.600148,-8.6063895,-8.593308,-8.6279895,-8.638947,-8.600886,-8.5996125,-8.5793535,-8.590477499999999,-8.5832955,-8.601822,-8.5903065,-8.598015,-8.630478,-8.611065,-8.626194000000002,\"NaN\",\"NaN\",-8.593168499999999,-8.570367000000001,-8.630343,-8.623165499999999,-8.609751,-8.648585999999998,-8.6001435,-8.655682500000001,-8.6256,-8.6408775,-8.650466999999999,-8.583021,-8.626279499999999,-8.584236,-8.6342,-8.588843999999998,-8.6305725,-8.6291685,-8.668053,-8.648955,-8.6438655,-8.606047499999999,-8.682407999999999,-8.632876500000002,-8.6145165,-8.663535,-8.611938,-8.605395,-8.629344,-8.533836,-8.581059,-8.6041215,-8.6218605,-8.662617,-8.605188,-8.5991805,-8.6013855,-8.629303499999999,-8.6184,\"NaN\",-8.604981,-8.589338999999999,-8.6219775,-8.601822,-8.620047,-8.669826,-8.6408595,-8.645741999999998,-8.640864,-8.650818000000001,-8.6041305,-8.631882,-8.6208525,\"NaN\",-8.615295,-8.623314,-8.6667705,-8.611056000000001,-8.605917,-8.622252,-8.5778,-8.585469,-8.583102,-8.6015925,-8.609499,-8.627949000000001,-8.61048,-8.5764105,-8.642889,-8.621586,-8.593915500000001,-8.6491665,-8.623935,-8.631265500000001,-8.623165499999999,-8.613693000000001,-8.6381415,-8.62218,-8.5669,-8.617113,-8.6312745,-8.6547375,-8.599976999999999,-8.621581500000001,-8.6233005,-8.627553,-8.638470000000002,-8.593704,-8.605062,-8.5891275,-8.653720499999999,-8.6500935,-8.6220225,-8.649585,-8.5927275,-8.651943,-8.59986,-8.6199525,-8.657451000000002,-8.584965,-8.6104125,-8.605935,-8.6046975,-8.6135085,-8.6491755,-8.671401,-8.640252,-8.569206,-8.5805775,-8.61039,-8.624817,-8.606875500000001,-8.6291865,-8.606826000000002,-8.609490000000001,-8.611366499999999,-8.6088645,-8.6489235,-8.630685,-8.593452,-8.639937,-8.6214015,-8.6091345,-8.60013,-8.610417,-8.599176,-8.602708499999999,-8.602812,-8.605228499999999,-8.6307615,-8.652091500000001,-8.592956999999998,-8.5842405,-8.6186385,-8.6416605,-8.605502999999999,-8.579767499999999,-8.6419035,-8.615862,-8.6290875,-8.624799,-8.6203305,-8.602686,-8.6482665,-8.593281000000001,-8.6419395,-8.6401665,-8.609724,-8.592907499999999,-8.6699385,-8.618435999999999,-8.608635,-8.609247,-8.609778,-8.623503,-8.660088,-8.6091075,-8.603127,\"NaN\",-8.6395725,-8.6737635,-8.608671000000001,-8.60274,-8.622936,-8.66799,-8.610786000000001,-8.670069000000002,-8.687646,-8.639325,-8.6291775,-8.577846000000001,-8.601651,-8.6389785,-8.5669,-8.6100885,-8.6206185,-8.60769,-8.627265,-8.610030000000002,-8.6116725,-8.6495,\"NaN\",-8.611587,-8.60211,-8.605134,-8.6792175,-8.6126715,-8.600638499999999,-8.6291775,-8.6098545,-8.6495895,-8.609535,-8.683893000000001,-8.6095215,-8.6278905,-8.629227,-8.6580945,-8.660083499999999,-8.651286,-8.6098095,-8.599563,-8.6108355,-8.6109165,-8.604715500000001,-8.6138865,-8.5971555,-8.601817500000001,-8.68833,-8.6015835,-8.6527125,-8.614989000000001,-8.6099715,-8.5983345,-8.610322499999999,-8.600620500000002,-8.6443,-8.6414535,-8.6063265,-8.613189,-8.669853,-8.6127,-8.6672115,-8.6038515,-8.611146,-8.6403645,-8.629236,-8.629182,-8.6021145,-8.5479615,-8.592678,-8.679680999999999,-8.592484500000001,-8.63136,-8.660866500000001,-8.5975335,-8.622621000000002,-8.5881375,-8.6358645,-8.677476,-8.6845635,-8.5858245,-8.534268,-8.6062,-8.591085,-8.6307705,-8.645741999999998,-8.5709205,-8.590567499999999],\"y\":[41.1467895,41.1636915,41.168308499999995,41.14097100000001,41.148009,41.171598,41.153899499999994,41.1852285,41.125797000000006,41.199237,41.16897,41.149314000000004,41.1577065,41.236928999999996,41.142987,41.2121,41.1548625,41.155596,41.1642585,41.159551500000006,41.14889099999999,41.1360435,41.156829,41.14854,41.1500925,41.1726735,41.162643,41.1489765,41.1460875,41.161968,41.1631335,41.1550335,41.1648345,41.1747615,41.1437745,41.1552135,41.180391,41.154984,41.1483915,41.14099349999999,41.1795765,41.169771,41.145948000000004,41.187132000000005,41.1461865,41.1507225,41.151645,41.1616485,41.167782,41.1498765,41.141322,41.145894,41.1587685,41.170733999999996,41.15997,41.16375,41.1890985,41.1616485,41.1680385,41.159295,41.149314000000004,41.1436395,41.16879,41.181011999999996,41.137416,41.187132000000005,41.146218000000005,41.1647535,41.1451335,41.157252,\"NaN\",\"NaN\",41.150709,41.169933,41.157931500000004,41.168870999999996,41.146011,41.1542505,41.1836445,41.171094,41.157351,41.169222,41.161725,41.18091750000001,41.1487875,41.1487515,41.223,41.165253,41.146425,41.157198,41.229882,41.162022,41.154552,41.153386499999996,41.185926,41.15898,41.154435,41.17752,41.148099,41.144193,41.1572115,41.180832,41.15808,41.160951,41.147829,41.157945,41.146686,41.1660945,41.17930200000001,41.131881,41.2463,\"NaN\",41.184085499999995,41.177038499999995,41.1790635,41.137416,41.1627375,41.160861,41.164897499999995,41.1539985,41.1579945,41.1560235,41.1689925,41.1646815,41.149314,\"NaN\",41.145700500000004,41.147622,41.173964999999995,41.164191,41.150974500000004,41.1529815,41.0699,41.1749775,41.1890985,41.1318405,41.1477525,41.163979499999996,41.151613499999996,41.1611445,41.165064,41.147532,41.167120499999996,41.2027785,41.1570225,41.127939,41.168870999999996,41.162031,41.182038000000006,41.1476175,41.1715,41.144994,41.154021,41.173551,41.1494085,41.162786999999994,41.147685,41.157773999999996,41.153094,41.159106,41.1688035,41.168997000000005,41.154259499999995,41.156954999999996,41.150133,41.1749415,41.191128000000006,41.162013,41.1592635,41.147874,41.176179,41.148747,41.148387,41.1741225,41.161351499999995,41.178276,41.154349499999995,41.170733999999996,41.164857,41.1512355,41.159115,41.1439005,41.157261,41.146632,41.151258,41.1468615,41.147667,41.148792,41.1451065,41.163408000000004,41.158332,41.156203500000004,41.1599025,41.152621499999995,41.150884500000004,41.1752295,41.1551865,41.158782,41.166621,41.1503265,41.194719,41.154700500000004,41.166855,41.17275,41.1487065,41.109061499999996,41.1538275,41.151861,41.156883,41.1647445,41.1452685,41.144940000000005,41.232762,41.1477615,41.144391,41.162138999999996,41.189112,41.148895499999995,41.1598755,41.1478065,41.159223,41.2362945,41.152324500000006,41.153715000000005,41.145318,41.160996,41.151888,41.147199,41.1468165,41.159295,\"NaN\",41.173092,41.155956,41.143653,41.159862000000004,41.1642045,41.179923,41.1710625,41.163281999999995,41.1716925,41.1539445,41.152531499999995,41.165667,41.1740055,41.159578499999995,41.1715,41.1469695,41.1381405,41.147167499999995,41.152473,41.148891,41.1457635,41.2121,\"NaN\",41.1797295,41.1538545,41.1479505,41.1559245,41.149885499999996,41.151807,41.152531499999995,41.138887499999996,41.162175,41.1470775,41.176970999999995,41.153557500000005,41.1517575,41.152572,41.181363000000005,41.1670755,41.151996,41.147829,41.158017,41.14810799999999,41.1453675,41.146956,41.1499665,41.177308499999995,41.128254,41.178015,41.153373,41.1729615,41.1509655,41.1599565,41.177173499999995,41.1510915,41.1509205,41.0647,41.1520995,41.164888499999996,41.161986,41.237027999999995,41.2008,41.2319205,41.146910999999996,41.17203,41.164713,41.157927,41.1588135,41.161868999999996,41.1727905,41.156271000000004,41.156037,41.1590655,41.1717285,41.169285,41.1597855,41.1524055,41.1471945,41.140561500000004,41.1523965,41.1731865,41.148837,41.1428205,41.1987,41.150844000000006,41.15284199999999,41.1539985,41.16816,41.192262]}},\"id\":\"b8dee14e-8756-403e-a77e-70835611c742\",\"type\":\"ColumnDataSource\"},{\"attributes\":{\"plot\":{\"id\":\"0b7276c0-894c-4513-9b48-4b297469d0b3\",\"subtype\":\"Figure\",\"type\":\"Plot\"}},\"id\":\"4e7481a8-fb8d-4243-82ce-80c75508881d\",\"type\":\"HelpTool\"},{\"attributes\":{\"plot\":{\"id\":\"0b7276c0-894c-4513-9b48-4b297469d0b3\",\"subtype\":\"Figure\",\"type\":\"Plot\"}},\"id\":\"f3f6ced6-a798-4163-b1a3-8373bcba1051\",\"type\":\"WheelZoomTool\"},{\"attributes\":{\"fill_alpha\":{\"value\":0.2},\"fill_color\":{\"value\":\"red\"},\"line_color\":{\"value\":\"red\"},\"size\":{\"units\":\"screen\",\"value\":10},\"x\":{\"field\":\"x\"},\"y\":{\"field\":\"y\"}},\"id\":\"07af17fe-b943-4d1c-a4b4-d34ab428d411\",\"type\":\"Circle\"},{\"attributes\":{\"bottom_units\":\"screen\",\"fill_alpha\":{\"value\":0.5},\"fill_color\":{\"value\":\"lightgrey\"},\"left_units\":\"screen\",\"level\":\"overlay\",\"line_alpha\":{\"value\":1.0},\"line_color\":{\"value\":\"black\"},\"line_dash\":[4,4],\"line_width\":{\"value\":2},\"plot\":null,\"render_mode\":\"css\",\"right_units\":\"screen\",\"top_units\":\"screen\"},\"id\":\"2d62767f-ccc6-47a8-8a8e-fd03a66dfd2e\",\"type\":\"BoxAnnotation\"},{\"attributes\":{},\"id\":\"6a61b230-476d-468a-af7d-0e4b2e5c5549\",\"type\":\"BasicTickFormatter\"},{\"attributes\":{\"plot\":{\"id\":\"0b7276c0-894c-4513-9b48-4b297469d0b3\",\"subtype\":\"Figure\",\"type\":\"Plot\"}},\"id\":\"8400aaa5-f67c-4cb0-bc33-4f717a405537\",\"type\":\"PanTool\"},{\"attributes\":{\"callback\":null,\"column_names\":[\"y\",\"x\"],\"data\":{\"x\":[-8.584883999999999,-8.601894,-8.574902999999999,-8.614638000000001,-8.619894,-8.62641,-8.582049000000001,-8.578773,-8.605494,-8.586306,-8.588232000000001,-8.596647,-8.584335000000001,-8.669475,-8.610174,-8.65287,-8.629064999999999,-8.627949000000001,-8.589789,-8.641521000000001,-8.585757000000001,-8.61156,-8.628767999999999,-8.585658,-8.641116,-8.606717999999999,-8.593488,-8.587017,-8.61138,-8.581104,-8.581211999999999,-8.609814,-8.627202,-8.567478,-8.617094999999999,-8.604503999999999,-8.692461,-8.630982000000001,-8.586135,-8.616168,-8.604405,-8.585567999999999,-8.613495,-8.594486999999999,-8.61768,-8.594433,-8.617716,-8.632881,-8.552907000000001,-8.625798,-8.601723,-8.61093,-8.598924,-8.586369,-8.601084,-8.606295,-8.594567999999999,-8.632728,-8.642916,-8.604711,-8.597484,-8.579961,-8.589078,-8.583552000000001,-8.601804,-8.594433,-8.601714,-8.629452,-8.611218,-8.624907,-8.376903,-8.729766,-8.593407000000001,-8.570601,-8.627238,-8.625627,-8.611866000000001,-8.648055000000001,-8.596809,-8.656389,-8.625519,-8.639658,-8.652528,-8.577774,-8.625573,-8.584191,-8.626725,-8.588853,-8.631423,-8.629425,-8.668053,-8.652114,-8.643807,-8.606394,-8.680635,-8.630289,-8.609229,-8.663427,-8.611146000000002,-8.605647,-8.628696000000001,-8.530515,-8.582769,-8.604503999999999,-8.621955,-8.664669,-8.601741,-8.598239999999999,-8.599041,-8.626644,-8.620605,-8.50698,-8.604036,-8.591453999999999,-8.622243,-8.601614999999999,-8.622072,-8.671482000000001,-8.638137,-8.642889,-8.636894999999999,-8.652393,-8.600661,-8.632197,-8.622828,-7.551891,-8.615133,-8.624727,-8.672148,-8.608851,-8.605962,-8.626347,-8.577693,-8.584344,-8.580654,-8.597727,-8.610462,-8.627247,-8.610389999999999,-8.5743,-8.640144,-8.622081,-8.593911,-8.648271000000001,-8.624655,-8.635725,-8.624907,-8.608491,-8.638056,-8.624744999999999,-8.567343,-8.617401,-8.628714,-8.653932000000001,-8.598879,-8.625042,-8.622621,-8.631405,-8.640018,-8.595027,-8.606475,-8.588907,-8.650224,-8.652555,-8.620902000000001,-8.651961,-8.593119,-8.65161,-8.604594,-8.623062,-8.661267,-8.585919,-8.611388999999999,-8.606043,-8.604099,-8.614116000000001,-8.64981,-8.672013,-8.641179,-8.571411,-8.582714999999999,-8.612064,-8.623619999999999,-8.606898,-8.629245,-8.608266,-8.612181,-8.610822,-8.611775999999999,-8.649171,-8.631675,-8.595089999999999,-8.644185,-8.626553999999999,-8.607393,-8.599959,-8.611911,-8.601272999999999,-8.597529,-8.604171000000001,-8.606322,-8.630343,-8.649683999999999,-8.594757000000001,-8.578314,-8.626536,-8.640441000000001,-8.606556,-8.577657,-8.638515,-8.613216,-8.630559,-8.62524,-8.622755999999999,-8.606016,-8.651142,-8.58735,-8.640125999999999,-8.640054,-8.608239,-8.592794999999999,-8.669205,-8.626572,-8.608103999999999,-8.607069000000001,-8.609823,-8.625969,-8.659557000000001,-8.609499000000001,-8.604531,-8.585766,-8.646453,-8.672967,-8.612001,-8.602263,-8.622765,-8.667711,-8.612883,-8.67483,-8.687502,-8.645669999999999,-8.632197,-8.579619000000001,-8.605647,-8.639928,-8.566991999999999,-8.608707,-8.623521,-8.607546000000001,-8.627346000000001,-8.607717,-8.613648,-8.652716999999999,-8.650017,-8.609319000000001,-8.605134,-8.606349,-8.678106,-8.613756,-8.602326,-8.631099,-8.609733,-8.65071,-8.614593,-8.681633999999999,-8.610084,-8.627733000000001,-8.636445,-8.658558,-8.666388000000001,-8.655723,-8.61282,-8.601471,-8.611028999999998,-8.610947999999999,-8.602136999999999,-8.610345,-8.602677,-8.598096,-8.687394,-8.599257000000001,-8.647641,-8.607177,-8.607996,-8.599707,-8.610066,-8.600247,-8.641422,-8.642007000000001,-8.606187,-8.615574,-8.669313,-8.613738,-8.667135,-8.602038,-8.612685,-8.641404,-8.627985,-8.633016,-8.604531,-8.555571,-8.589122999999999,-8.678303999999999,-8.594397,-8.632764,-8.661258,-8.604422999999999,-8.620875,-8.58816,-8.636049,-8.677728,-8.684856,-8.585838,-8.534979,-8.600454,-8.593308,-8.629785,-8.643303,-8.569206,-8.592345],\"y\":[41.146623,41.163596999999996,41.167719,41.14098,41.148036,41.171958000000004,41.153778,41.185241999999995,41.12577,41.199273,41.168889,41.149431,41.158296,41.237415000000006,41.143275,41.212241999999996,41.155136999999996,41.156136,41.163687,41.160455999999996,41.148738,41.135634,41.15664,41.148513,41.150141999999995,41.172876,41.162679,41.149097999999995,41.14611,41.162382,41.163174,41.1552,41.164758,41.174568,41.143959,41.154821999999996,41.180355,41.154624,41.14836,41.140539000000004,41.180346,41.170347,41.14593,41.186952000000005,41.14629,41.150636999999996,41.151852000000005,41.162292,41.168385,41.149791,41.140989000000005,41.14611,41.15889,41.170689,41.159556,41.16411,41.189256,41.162228999999996,41.167746,41.158998,41.148945,41.143905,41.168592,41.181156,41.137389,41.186727000000005,41.145687,41.165145,41.144967,41.157081,41.556375,41.330565,41.150771999999996,41.169717,41.157647999999995,41.16942,41.146002,41.15439,41.184063,41.171463,41.157405,41.168834999999994,41.161815000000004,41.180913000000004,41.149314000000004,41.148918,41.222952,41.165118,41.14593,41.157045000000004,41.229665999999995,41.161778999999996,41.154525,41.153355,41.186349,41.159321999999996,41.153607,41.177619,41.14809,41.144148,41.157162,41.181399,41.158269,41.160492,41.147604,41.158449,41.147352000000005,41.165883,41.178546000000004,41.131737,41.245703999999996,41.196969,41.18391,41.177196,41.179221000000005,41.137074,41.162859000000005,41.161229999999996,41.164614,41.154201,41.158035,41.155685999999996,41.168574,41.165208,41.148567,41.185035,41.145759000000005,41.148387,41.17437,41.164479,41.151015,41.152986,41.069718,41.175135,41.188662,41.132241,41.147694,41.164137,41.151933,41.160654,41.164668,41.147667,41.167097999999996,41.203215,41.156991,41.128038000000004,41.169276,41.162372999999995,41.182326,41.148351,41.17176,41.145093,41.153535,41.174054999999996,41.148981,41.163354,41.147766,41.158233,41.153418,41.159223,41.168988,41.168646,41.154047999999996,41.156541,41.150448,41.175323999999996,41.191254,41.161590000000004,41.158791,41.147901,41.175855,41.148801,41.147559,41.173587,41.161113,41.178096000000004,41.154363000000004,41.171364000000004,41.164758,41.150871,41.158719,41.144391,41.157018,41.147037,41.150915999999995,41.147289,41.148045,41.149206,41.144715000000005,41.162994,41.158341,41.155587,41.160410999999996,41.152518,41.151303000000006,41.174964,41.155443,41.15898,41.166936,41.149557,41.195295,41.155091999999996,41.167053,41.172686999999996,41.149278,41.109165000000004,41.153526,41.152365,41.157144,41.164767,41.145444,41.145471,41.232654,41.147811,41.144453999999996,41.161671000000005,41.188563,41.149431,41.159709,41.148234,41.159421,41.2362,41.152473,41.153607,41.144913,41.160888,41.152374,41.14692,41.146767,41.159349,41.120459999999994,41.172507,41.155559999999994,41.143482,41.159772,41.164190999999995,41.180112,41.170581,41.162895,41.17158,41.15439,41.152653,41.165793,41.173722,41.159673,41.172102,41.147433,41.138064,41.147127000000005,41.152437,41.148998999999996,41.145975,41.211882,41.091489,41.180211,41.153544000000004,41.14836,41.155614,41.149845,41.152311,41.152662,41.138757,41.161608,41.146839,41.177124,41.153895,41.152446000000005,41.1525,41.180553,41.1669,41.151888,41.148126,41.158421999999995,41.148081,41.145381,41.147180999999996,41.150439,41.176728000000004,41.128101,41.178051,41.15331,41.173452000000005,41.15106,41.159988,41.17698,41.150799,41.151051,41.065011,41.151564,41.165451000000004,41.162292,41.236668,41.201478,41.232033,41.146668,41.172084000000005,41.164865999999996,41.157702,41.158566,41.161545000000004,41.173362,41.155524,41.155524,41.158674,41.171904,41.168735999999996,41.159493,41.152356,41.147262,41.140566,41.151509999999995,41.173371,41.148998999999996,41.14332,41.198787,41.151051,41.152671000000005,41.154327,41.167629,41.192244]}},\"id\":\"d6ebd424-72e6-4179-a3b1-083768436e40\",\"type\":\"ColumnDataSource\"}],\"root_ids\":[\"0b7276c0-894c-4513-9b48-4b297469d0b3\"]},\"title\":\"Bokeh Application\",\"version\":\"0.12.2\"}};\n",
       "            var render_items = [{\"docid\":\"1df0a407-4bd0-4fd4-9b05-8bebe3d9b58b\",\"elementid\":\"720ba3eb-6adf-4424-9799-2db94454b064\",\"modelid\":\"0b7276c0-894c-4513-9b48-4b297469d0b3\",\"notebook_comms_target\":\"1aef93ca-4ea2-43b5-8989-50cfb8204dda\"}];\n",
       "            \n",
       "            Bokeh.embed.embed_items(docs_json, render_items);\n",
       "        });\n",
       "      },\n",
       "      function(Bokeh) {\n",
       "      }\n",
       "    ];\n",
       "  \n",
       "    function run_inline_js() {\n",
       "      \n",
       "      if ((window.Bokeh !== undefined) || (force === \"1\")) {\n",
       "        for (var i = 0; i < inline_js.length; i++) {\n",
       "          inline_js[i](window.Bokeh);\n",
       "        }if (force === \"1\") {\n",
       "          display_loaded();\n",
       "        }} else if (Date.now() < window._bokeh_timeout) {\n",
       "        setTimeout(run_inline_js, 100);\n",
       "      } else if (!window._bokeh_failed_load) {\n",
       "        console.log(\"Bokeh: BokehJS failed to load within specified timeout.\");\n",
       "        window._bokeh_failed_load = true;\n",
       "      } else if (!force) {\n",
       "        var cell = $(\"#720ba3eb-6adf-4424-9799-2db94454b064\").parents('.cell').data().cell;\n",
       "        cell.output_area.append_execute_result(NB_LOAD_WARNING)\n",
       "      }\n",
       "  \n",
       "    }\n",
       "  \n",
       "    if (window._bokeh_is_loading === 0) {\n",
       "      console.log(\"Bokeh: BokehJS loaded, going straight to plotting\");\n",
       "      run_inline_js();\n",
       "    } else {\n",
       "      load_libs(js_urls, function() {\n",
       "        console.log(\"Bokeh: BokehJS plotting callback run at\", now());\n",
       "        run_inline_js();\n",
       "      });\n",
       "    }\n",
       "  }(this));\n",
       "</script>"
      ]
     },
     "metadata": {},
     "output_type": "display_data"
    }
   ],
   "source": [
    "visualize_predition(gbt_test_prediction,\"KNN\",knn_pred_test_haversine,show_mean=False)"
   ]
  },
  {
   "cell_type": "code",
   "execution_count": null,
   "metadata": {
    "collapsed": true
   },
   "outputs": [],
   "source": []
  }
 ],
 "metadata": {
  "anaconda-cloud": {},
  "kernelspec": {
   "display_name": "Python [conda env:dm-env]",
   "language": "python",
   "name": "conda-env-dm-env-py"
  },
  "language_info": {
   "codemirror_mode": {
    "name": "ipython",
    "version": 2
   },
   "file_extension": ".py",
   "mimetype": "text/x-python",
   "name": "python",
   "nbconvert_exporter": "python",
   "pygments_lexer": "ipython2",
   "version": "2.7.12"
  }
 },
 "nbformat": 4,
 "nbformat_minor": 1
}
