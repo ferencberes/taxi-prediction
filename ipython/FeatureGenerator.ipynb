{
 "cells": [
  {
   "cell_type": "code",
   "execution_count": null,
   "metadata": {
    "collapsed": true
   },
   "outputs": [],
   "source": [
    "import pandas as pd\n",
    "import numpy as np"
   ]
  },
  {
   "cell_type": "code",
   "execution_count": null,
   "metadata": {
    "collapsed": true
   },
   "outputs": [],
   "source": [
    "%matplotlib inline"
   ]
  },
  {
   "cell_type": "code",
   "execution_count": null,
   "metadata": {
    "collapsed": false
   },
   "outputs": [],
   "source": [
    "import sys\n",
    "from datawand.parametrization import ParamHelper\n",
    "ph = ParamHelper(\"../pipelines/EcmlTaxi.json\",sys.argv)"
   ]
  },
  {
   "cell_type": "code",
   "execution_count": null,
   "metadata": {
    "collapsed": false
   },
   "outputs": [],
   "source": [
    "data_folder = ph.get(\"data_folder\")"
   ]
  },
  {
   "cell_type": "code",
   "execution_count": null,
   "metadata": {
    "collapsed": true
   },
   "outputs": [],
   "source": [
    "is_test = ph.get(\"is_test\")"
   ]
  },
  {
   "cell_type": "code",
   "execution_count": null,
   "metadata": {
    "collapsed": false
   },
   "outputs": [],
   "source": [
    "part = ph.get(\"part\")\n",
    "lat_digits = ph.get(\"lat_digits\")\n",
    "lng_digits = ph.get(\"lng_digits\")"
   ]
  },
  {
   "cell_type": "code",
   "execution_count": null,
   "metadata": {
    "collapsed": true
   },
   "outputs": [],
   "source": [
    "if is_test:\n",
    "    taxi_trips =  pd.read_csv(\"%s/test.csv\" % (data_folder))\n",
    "else:\n",
    "    taxi_trips =  pd.read_csv(\"%s/train%s.csv\" % (data_folder, part))"
   ]
  },
  {
   "cell_type": "markdown",
   "metadata": {},
   "source": [
    "# Parsing GPS coordinates"
   ]
  },
  {
   "cell_type": "code",
   "execution_count": null,
   "metadata": {
    "collapsed": false
   },
   "outputs": [],
   "source": [
    "def round_gps(coord,digit0=None,digit1=None):\n",
    "    x, y = coord\n",
    "    if digit0 != None:\n",
    "        x = round(x,digit0)\n",
    "    if digit1 != None:\n",
    "        y = round(y,digit1)\n",
    "    return (x,y)\n",
    "\n",
    "def round_gps_list(coord_list,digit0=None,digit1=None):\n",
    "    return [round_gps(coord,digit0,digit1) for coord in coord_list]"
   ]
  },
  {
   "cell_type": "markdown",
   "metadata": {},
   "source": [
    "### Converting string locations to gps lists"
   ]
  },
  {
   "cell_type": "code",
   "execution_count": null,
   "metadata": {
    "collapsed": false
   },
   "outputs": [],
   "source": [
    "taxi_trips[\"POLYLINE_ORIGI\"] = taxi_trips[\"POLYLINE\"].apply(lambda x: round_gps_list(eval(x)))"
   ]
  },
  {
   "cell_type": "code",
   "execution_count": null,
   "metadata": {
    "collapsed": false
   },
   "outputs": [],
   "source": [
    "taxi_trips[\"POLYLINE\"] = taxi_trips[\"POLYLINE\"].apply(lambda x: round_gps_list(eval(x),digit0=lng_digits,digit1=lat_digits))\n",
    "taxi_trips[\"TRIP_LAT\"] = taxi_trips[\"POLYLINE\"].apply(lambda x: [loc[1] for loc in x][1:-1])\n",
    "taxi_trips[\"TRIP_LNG\"] = taxi_trips[\"POLYLINE\"].apply(lambda x: [loc[0] for loc in x][1:-1])"
   ]
  },
  {
   "cell_type": "code",
   "execution_count": null,
   "metadata": {
    "collapsed": false,
    "scrolled": false
   },
   "outputs": [],
   "source": [
    "taxi_trips.head(2)"
   ]
  },
  {
   "cell_type": "markdown",
   "metadata": {},
   "source": [
    "### Departures and destinations"
   ]
  },
  {
   "cell_type": "code",
   "execution_count": null,
   "metadata": {
    "collapsed": false
   },
   "outputs": [],
   "source": [
    "taxi_trips[\"DESTINATION_LAT_FULL\"] = taxi_trips.apply(lambda x : x[\"POLYLINE_ORIGI\"][-1][1] if len(x[\"POLYLINE_ORIGI\"])>0 else np.nan, axis=1)\n",
    "taxi_trips[\"DESTINATION_LNG_FULL\"] = taxi_trips.apply(lambda x : x[\"POLYLINE_ORIGI\"][-1][0] if len(x[\"POLYLINE_ORIGI\"])>0 else np.nan, axis=1)"
   ]
  },
  {
   "cell_type": "code",
   "execution_count": null,
   "metadata": {
    "collapsed": false
   },
   "outputs": [],
   "source": [
    "taxi_trips[\"DESTINATION_LAT\"] = taxi_trips.apply(lambda x : x[\"POLYLINE\"][-1][1] if len(x[\"POLYLINE\"])>0 else np.nan, axis=1)\n",
    "taxi_trips[\"DESTINATION_LNG\"] = taxi_trips.apply(lambda x : x[\"POLYLINE\"][-1][0] if len(x[\"POLYLINE\"])>0 else np.nan, axis=1)"
   ]
  },
  {
   "cell_type": "code",
   "execution_count": null,
   "metadata": {
    "collapsed": false
   },
   "outputs": [],
   "source": [
    "taxi_trips[\"DEPARTURE_LAT_FULL\"] = taxi_trips.apply(lambda x : x[\"POLYLINE_ORIGI\"][0][1] if len(x[\"POLYLINE_ORIGI\"])>0 else np.nan, axis=1)\n",
    "taxi_trips[\"DEPARTURE_LNG_FULL\"] = taxi_trips.apply(lambda x : x[\"POLYLINE_ORIGI\"][0][0] if len(x[\"POLYLINE_ORIGI\"])>0 else np.nan, axis=1)"
   ]
  },
  {
   "cell_type": "code",
   "execution_count": null,
   "metadata": {
    "collapsed": false
   },
   "outputs": [],
   "source": [
    "taxi_trips[\"DEPARTURE_LAT\"] = taxi_trips.apply(lambda x : x[\"POLYLINE\"][0][1] if len(x[\"POLYLINE\"])>0 else np.nan, axis=1)\n",
    "taxi_trips[\"DEPARTURE_LNG\"] = taxi_trips.apply(lambda x : x[\"POLYLINE\"][0][0] if len(x[\"POLYLINE\"])>0 else np.nan, axis=1)"
   ]
  },
  {
   "cell_type": "code",
   "execution_count": null,
   "metadata": {
    "collapsed": true
   },
   "outputs": [],
   "source": [
    "del taxi_trips[\"POLYLINE_ORIGI\"]"
   ]
  },
  {
   "cell_type": "code",
   "execution_count": null,
   "metadata": {
    "collapsed": false
   },
   "outputs": [],
   "source": [
    "print len(taxi_trips[\"DESTINATION_LAT\"].astype(\"str\").unique())\n",
    "print len(taxi_trips[\"DESTINATION_LNG\"].astype(\"str\").unique())"
   ]
  },
  {
   "cell_type": "code",
   "execution_count": null,
   "metadata": {
    "collapsed": false
   },
   "outputs": [],
   "source": [
    "print len(taxi_trips[\"DEPARTURE_LAT\"].astype(\"str\").unique())\n",
    "print len(taxi_trips[\"DEPARTURE_LNG\"].astype(\"str\").unique())"
   ]
  },
  {
   "cell_type": "markdown",
   "metadata": {},
   "source": [
    "#### Unique locations"
   ]
  },
  {
   "cell_type": "code",
   "execution_count": null,
   "metadata": {
    "collapsed": false
   },
   "outputs": [],
   "source": [
    "gps_locs = {}\n",
    "for i in xrange(len(taxi_trips)):\n",
    "    for loc in set(taxi_trips.ix[i][\"POLYLINE\"]):\n",
    "        if not loc in gps_locs:\n",
    "            gps_locs[loc] = 0\n",
    "        gps_locs[loc] += 1"
   ]
  },
  {
   "cell_type": "code",
   "execution_count": null,
   "metadata": {
    "collapsed": false
   },
   "outputs": [],
   "source": [
    "len(gps_locs)"
   ]
  },
  {
   "cell_type": "markdown",
   "metadata": {},
   "source": [
    "### Route statistics"
   ]
  },
  {
   "cell_type": "markdown",
   "metadata": {},
   "source": [
    "#### features trip length "
   ]
  },
  {
   "cell_type": "code",
   "execution_count": null,
   "metadata": {
    "collapsed": true
   },
   "outputs": [],
   "source": [
    "taxi_trips[\"TRIP_SIZE\"] = taxi_trips[\"TRIP_LAT\"].apply(lambda x: len(x))"
   ]
  },
  {
   "cell_type": "code",
   "execution_count": null,
   "metadata": {
    "collapsed": false
   },
   "outputs": [],
   "source": [
    "for col in [\"TRIP_LAT\",\"TRIP_LNG\"]:\n",
    "    taxi_trips[\"%s_UNIQUE\" % col] = taxi_trips[col].apply(lambda x: 0 if len(x)==0 else len(np.unique(x)))\n",
    "    taxi_trips[\"%s_UNIQUE_RATIO\" % col] = taxi_trips[[\"%s_UNIQUE\" % col,\"TRIP_SIZE\"]].apply(lambda x: float(x[\"%s_UNIQUE\" % col]) / x[\"TRIP_SIZE\"] if x[\"TRIP_SIZE\"] > 0 else 0.0, axis=1)"
   ]
  },
  {
   "cell_type": "markdown",
   "metadata": {},
   "source": [
    "taxi_trips[\"TRIP_LNG_UNIQUE_RATIO\"].hist(bins=50)"
   ]
  },
  {
   "cell_type": "markdown",
   "metadata": {},
   "source": [
    "#### features based on statistics"
   ]
  },
  {
   "cell_type": "code",
   "execution_count": null,
   "metadata": {
    "collapsed": false
   },
   "outputs": [],
   "source": [
    "for col in [\"TRIP_LAT\",\"TRIP_LNG\"]:\n",
    "    taxi_trips[\"%s_MIN\" % col] = taxi_trips[col].apply(lambda x: np.nan if len(x)==0 else np.min(x))\n",
    "    taxi_trips[\"%s_MAX\" % col] = taxi_trips[col].apply(lambda x: np.nan if len(x)==0 else np.max(x))\n",
    "    taxi_trips[\"%s_MEAN\" % col] = taxi_trips[col].apply(lambda x: np.nan if len(x)==0 else np.mean(x))\n",
    "    taxi_trips[\"%s_MEDIAN\" % col] = taxi_trips[col].apply(lambda x: np.nan if len(x)==0 else np.median(x))\n",
    "    taxi_trips[\"%s_STD\" % col] = taxi_trips[col].apply(lambda x: np.nan if len(x)==0 else np.std(x))"
   ]
  },
  {
   "cell_type": "code",
   "execution_count": null,
   "metadata": {
    "collapsed": false
   },
   "outputs": [],
   "source": [
    "taxi_trips.head(1)"
   ]
  },
  {
   "cell_type": "markdown",
   "metadata": {},
   "source": [
    "#### features based on distance between departure and statistics"
   ]
  },
  {
   "cell_type": "code",
   "execution_count": null,
   "metadata": {
    "collapsed": false
   },
   "outputs": [],
   "source": [
    "for feat_type in [\"MIN\",\"MAX\",\"MEAN\",\"MEDIAN\"]:\n",
    "    for axis in [\"LAT\",\"LNG\"]:\n",
    "        stat_feat = \"TRIP_%s_%s\" % (axis,feat_type)\n",
    "        depart_feat = \"DEPARTURE_%s\" % axis\n",
    "        taxi_trips[\"TRIP_%s_%s_DIFF\" % (axis,feat_type)] = taxi_trips[[depart_feat,stat_feat]].apply(lambda x: np.nan if x[stat_feat]==np.nan else abs(x[depart_feat]-x[stat_feat]), axis=1)"
   ]
  },
  {
   "cell_type": "markdown",
   "metadata": {},
   "source": [
    "# Parsing Time information"
   ]
  },
  {
   "cell_type": "code",
   "execution_count": null,
   "metadata": {
    "collapsed": true
   },
   "outputs": [],
   "source": [
    "import datetime\n",
    "\n",
    "def get_time_info(timestamp,info_type):\n",
    "    dt = datetime.datetime.fromtimestamp(timestamp)\n",
    "    if info_type == \"date\":\n",
    "        return datetime.datetime(dt.year,dt.month,dt.day)\n",
    "    elif info_type == \"time\":\n",
    "        return datetime.time(dt.hour,dt.minute,dt.second)\n",
    "    elif info_type == \"time_of_day\":\n",
    "        return dt.hour // 6\n",
    "    elif info_type == \"day_of_week\":\n",
    "        return dt.weekday()\n",
    "    else:\n",
    "        raise RuntimeError(\"Bad argument for 'info_type': %s\" % info_type)"
   ]
  },
  {
   "cell_type": "code",
   "execution_count": null,
   "metadata": {
    "collapsed": true
   },
   "outputs": [],
   "source": [
    "taxi_trips[\"DATE\"] = taxi_trips[\"TIMESTAMP\"].apply(lambda x: get_time_info(x,\"date\"))"
   ]
  },
  {
   "cell_type": "code",
   "execution_count": null,
   "metadata": {
    "collapsed": false
   },
   "outputs": [],
   "source": [
    "taxi_trips[\"TIME\"] = taxi_trips[\"TIMESTAMP\"].apply(lambda x: get_time_info(x,\"time\"))"
   ]
  },
  {
   "cell_type": "code",
   "execution_count": null,
   "metadata": {
    "collapsed": true
   },
   "outputs": [],
   "source": [
    "taxi_trips[\"DAY_OF_WEEK\"] = taxi_trips[\"TIMESTAMP\"].apply(lambda x: get_time_info(x,\"day_of_week\"))"
   ]
  },
  {
   "cell_type": "code",
   "execution_count": null,
   "metadata": {
    "collapsed": true
   },
   "outputs": [],
   "source": [
    "taxi_trips[\"TIME_OF_DAY\"] = taxi_trips[\"TIMESTAMP\"].apply(lambda x: get_time_info(x,\"time_of_day\"))"
   ]
  },
  {
   "cell_type": "code",
   "execution_count": null,
   "metadata": {
    "collapsed": false
   },
   "outputs": [],
   "source": [
    "taxi_trips.head(2)"
   ]
  },
  {
   "cell_type": "code",
   "execution_count": null,
   "metadata": {
    "collapsed": false
   },
   "outputs": [],
   "source": [
    "taxi_trips.columns"
   ]
  },
  {
   "cell_type": "markdown",
   "metadata": {},
   "source": [
    "# OneHotEncoding"
   ]
  },
  {
   "cell_type": "code",
   "execution_count": null,
   "metadata": {
    "collapsed": true
   },
   "outputs": [],
   "source": [
    "def one_hot_one_column(dataframe, feature):\n",
    "    if \"float\" in str(dataframe[feature].dtype) or \"int\" in str(dataframe[feature].dtype):\n",
    "        raise RuntimeError(\"feature is already numeric\")\n",
    "    df_dummy = pd.get_dummies(dataframe[feature], prefix=feature+\"_onehot\")\n",
    "    #dataframe = dataframe.drop(feature, axis=1)\n",
    "    return dataframe.join(df_dummy)\n",
    "\n",
    "def one_hot(dataframe, features):\n",
    "    if type(features) is str:\n",
    "        features = [features]\n",
    "    for feature in features:\n",
    "        print feature\n",
    "        dataframe = one_hot_one_column(dataframe, feature)\n",
    "    return dataframe"
   ]
  },
  {
   "cell_type": "code",
   "execution_count": null,
   "metadata": {
    "collapsed": false
   },
   "outputs": [],
   "source": [
    "categorical_columns = ['CALL_TYPE']\n",
    "taxi_trips = one_hot(taxi_trips, categorical_columns)"
   ]
  },
  {
   "cell_type": "code",
   "execution_count": null,
   "metadata": {
    "collapsed": false
   },
   "outputs": [],
   "source": [
    "taxi_trips.head(2)"
   ]
  },
  {
   "cell_type": "markdown",
   "metadata": {},
   "source": [
    "# Export data file"
   ]
  },
  {
   "cell_type": "code",
   "execution_count": null,
   "metadata": {
    "collapsed": true
   },
   "outputs": [],
   "source": [
    "if is_test:\n",
    "    taxi_trips.to_csv(\"%s/gen_test_lng%i_lat%i.csv\" % (data_folder, lng_digits, lat_digits),index=False)\n",
    "else:\n",
    "    taxi_trips.to_csv(\"%s/gen_train%s_lng%i_lat%i.csv\" % (data_folder, part, lng_digits, lat_digits),index=False)"
   ]
  }
 ],
 "metadata": {
  "anaconda-cloud": {},
  "kernelspec": {
   "display_name": "Python [conda env:dm-env]",
   "language": "python",
   "name": "conda-env-dm-env-py"
  },
  "language_info": {
   "codemirror_mode": {
    "name": "ipython",
    "version": 2
   },
   "file_extension": ".py",
   "mimetype": "text/x-python",
   "name": "python",
   "nbconvert_exporter": "python",
   "pygments_lexer": "ipython2",
   "version": "2.7.12"
  }
 },
 "nbformat": 4,
 "nbformat_minor": 1
}