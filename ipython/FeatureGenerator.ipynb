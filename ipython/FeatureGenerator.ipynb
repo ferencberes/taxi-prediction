{
 "cells": [
  {
   "cell_type": "code",
   "execution_count": 1,
   "metadata": {
    "collapsed": true
   },
   "outputs": [],
   "source": [
    "import pandas as pd\n",
    "import numpy as np"
   ]
  },
  {
   "cell_type": "code",
   "execution_count": 2,
   "metadata": {
    "collapsed": true
   },
   "outputs": [],
   "source": [
    "%matplotlib inline"
   ]
  },
  {
   "cell_type": "code",
   "execution_count": 3,
   "metadata": {
    "collapsed": false
   },
   "outputs": [
    {
     "name": "stdout",
     "output_type": "stream",
     "text": [
      "Default parameters:\n{u'data_folder': u'/home/fberes/DATA/taxi-challange/', u'gbt_use_exact_lat': False, u'lng_digits': 2, u'lat_digits': 3, u'is_test': False, u'part': u'_50000', u'gbt_use_exact_lng': False}\nCustom parameters:\n{u'is_test': False}\n"
     ]
    }
   ],
   "source": [
    "import sys\n",
    "from datawand.parametrization import ParamHelper\n",
    "ph = ParamHelper(\"../pipelines/EcmlTaxi.json\",sys.argv)"
   ]
  },
  {
   "cell_type": "code",
   "execution_count": 4,
   "metadata": {
    "collapsed": false
   },
   "outputs": [
    {
     "name": "stdout",
     "output_type": "stream",
     "text": [
      "Using default parameter: data_folder=/home/fberes/DATA/taxi-challange/\n"
     ]
    }
   ],
   "source": [
    "data_folder = ph.get(\"data_folder\")"
   ]
  },
  {
   "cell_type": "code",
   "execution_count": 5,
   "metadata": {
    "collapsed": true
   },
   "outputs": [],
   "source": [
    "is_test = ph.get(\"is_test\")"
   ]
  },
  {
   "cell_type": "code",
   "execution_count": 6,
   "metadata": {
    "collapsed": false
   },
   "outputs": [
    {
     "name": "stdout",
     "output_type": "stream",
     "text": [
      "Using default parameter: part=_50000\nUsing default parameter: lat_digits=3\nUsing default parameter: lng_digits=2\n"
     ]
    }
   ],
   "source": [
    "part = ph.get(\"part\")\n",
    "lat_digits = ph.get(\"lat_digits\")\n",
    "lng_digits = ph.get(\"lng_digits\")"
   ]
  },
  {
   "cell_type": "code",
   "execution_count": 7,
   "metadata": {
    "collapsed": true
   },
   "outputs": [],
   "source": [
    "if is_test:\n",
    "    taxi_trips =  pd.read_csv(\"%s/test.csv\" % (data_folder))\n",
    "else:\n",
    "    taxi_trips =  pd.read_csv(\"%s/train%s.csv\" % (data_folder, part))"
   ]
  },
  {
   "cell_type": "markdown",
   "metadata": {},
   "source": [
    "# Parsing GPS coordinates"
   ]
  },
  {
   "cell_type": "code",
   "execution_count": 8,
   "metadata": {
    "collapsed": false
   },
   "outputs": [],
   "source": [
    "def round_gps(coord,digit0=None,digit1=None):\n",
    "    x, y = coord\n",
    "    if digit0 != None:\n",
    "        x = round(x,digit0)\n",
    "    if digit1 != None:\n",
    "        y = round(y,digit1)\n",
    "    return (x,y)\n",
    "\n",
    "def round_gps_list(coord_list,digit0=None,digit1=None):\n",
    "    return [round_gps(coord,digit0,digit1) for coord in coord_list]"
   ]
  },
  {
   "cell_type": "markdown",
   "metadata": {},
   "source": [
    "### Converting string locations to gps lists"
   ]
  },
  {
   "cell_type": "code",
   "execution_count": 9,
   "metadata": {
    "collapsed": false
   },
   "outputs": [],
   "source": [
    "taxi_trips[\"POLYLINE_ORIGI\"] = taxi_trips[\"POLYLINE\"].apply(lambda x: round_gps_list(eval(x)))"
   ]
  },
  {
   "cell_type": "code",
   "execution_count": 10,
   "metadata": {
    "collapsed": false
   },
   "outputs": [],
   "source": [
    "taxi_trips[\"POLYLINE\"] = taxi_trips[\"POLYLINE\"].apply(lambda x: round_gps_list(eval(x),digit0=lng_digits,digit1=lat_digits))\n",
    "taxi_trips[\"TRIP_LAT\"] = taxi_trips[\"POLYLINE\"].apply(lambda x: [loc[1] for loc in x][1:-1])\n",
    "taxi_trips[\"TRIP_LNG\"] = taxi_trips[\"POLYLINE\"].apply(lambda x: [loc[0] for loc in x][1:-1])"
   ]
  },
  {
   "cell_type": "code",
   "execution_count": 11,
   "metadata": {
    "collapsed": false,
    "scrolled": false
   },
   "outputs": [
    {
     "data": {
      "text/html": "<div>\n<table border=\"1\" class=\"dataframe\">\n  <thead>\n    <tr style=\"text-align: right;\">\n      <th></th>\n      <th>TRIP_ID</th>\n      <th>CALL_TYPE</th>\n      <th>ORIGIN_CALL</th>\n      <th>ORIGIN_STAND</th>\n      <th>TAXI_ID</th>\n      <th>TIMESTAMP</th>\n      <th>DAY_TYPE</th>\n      <th>MISSING_DATA</th>\n      <th>POLYLINE</th>\n      <th>POLYLINE_ORIGI</th>\n      <th>TRIP_LAT</th>\n      <th>TRIP_LNG</th>\n    </tr>\n  </thead>\n  <tbody>\n    <tr>\n      <th>0</th>\n      <td>1372636858620000589</td>\n      <td>other</td>\n      <td>NaN</td>\n      <td>NaN</td>\n      <td>20000589</td>\n      <td>1372636858</td>\n      <td>normal</td>\n      <td>False</td>\n      <td>[(-8.62, 41.141), (-8.62, 41.141), (-8.62, 41....</td>\n      <td>[(-8.618643, 41.141412), (-8.618499, 41.141376...</td>\n      <td>[41.141, 41.143, 41.144, 41.144, 41.145, 41.14...</td>\n      <td>[-8.62, -8.62, -8.62, -8.62, -8.63, -8.63, -8....</td>\n    </tr>\n    <tr>\n      <th>1</th>\n      <td>1372637303620000596</td>\n      <td>driver</td>\n      <td>NaN</td>\n      <td>7.0</td>\n      <td>20000596</td>\n      <td>1372637303</td>\n      <td>normal</td>\n      <td>False</td>\n      <td>[(-8.64, 41.16), (-8.64, 41.16), (-8.64, 41.16...</td>\n      <td>[(-8.639847, 41.159826), (-8.640351, 41.159871...</td>\n      <td>[41.16, 41.16, 41.16, 41.161, 41.161, 41.162, ...</td>\n      <td>[-8.64, -8.64, -8.64, -8.65, -8.65, -8.65, -8....</td>\n    </tr>\n  </tbody>\n</table>\n</div>",
      "text/plain": "               TRIP_ID CALL_TYPE  ORIGIN_CALL  ORIGIN_STAND   TAXI_ID  \\\n0  1372636858620000589     other          NaN           NaN  20000589   \n1  1372637303620000596    driver          NaN           7.0  20000596   \n\n    TIMESTAMP DAY_TYPE MISSING_DATA  \\\n0  1372636858   normal        False   \n1  1372637303   normal        False   \n\n                                            POLYLINE  \\\n0  [(-8.62, 41.141), (-8.62, 41.141), (-8.62, 41....   \n1  [(-8.64, 41.16), (-8.64, 41.16), (-8.64, 41.16...   \n\n                                      POLYLINE_ORIGI  \\\n0  [(-8.618643, 41.141412), (-8.618499, 41.141376...   \n1  [(-8.639847, 41.159826), (-8.640351, 41.159871...   \n\n                                            TRIP_LAT  \\\n0  [41.141, 41.143, 41.144, 41.144, 41.145, 41.14...   \n1  [41.16, 41.16, 41.16, 41.161, 41.161, 41.162, ...   \n\n                                            TRIP_LNG  \n0  [-8.62, -8.62, -8.62, -8.62, -8.63, -8.63, -8....  \n1  [-8.64, -8.64, -8.64, -8.65, -8.65, -8.65, -8....  "
     },
     "execution_count": 11,
     "metadata": {},
     "output_type": "execute_result"
    }
   ],
   "source": [
    "taxi_trips.head(2)"
   ]
  },
  {
   "cell_type": "markdown",
   "metadata": {},
   "source": [
    "### Departures and destinations"
   ]
  },
  {
   "cell_type": "code",
   "execution_count": 12,
   "metadata": {
    "collapsed": false
   },
   "outputs": [],
   "source": [
    "taxi_trips[\"DESTINATION_LAT_FULL\"] = taxi_trips.apply(lambda x : x[\"POLYLINE_ORIGI\"][-1][1] if len(x[\"POLYLINE_ORIGI\"])>0 else np.nan, axis=1)\n",
    "taxi_trips[\"DESTINATION_LNG_FULL\"] = taxi_trips.apply(lambda x : x[\"POLYLINE_ORIGI\"][-1][0] if len(x[\"POLYLINE_ORIGI\"])>0 else np.nan, axis=1)"
   ]
  },
  {
   "cell_type": "code",
   "execution_count": 13,
   "metadata": {
    "collapsed": false
   },
   "outputs": [],
   "source": [
    "taxi_trips[\"DESTINATION_LAT\"] = taxi_trips.apply(lambda x : x[\"POLYLINE\"][-1][1] if len(x[\"POLYLINE\"])>0 else np.nan, axis=1)\n",
    "taxi_trips[\"DESTINATION_LNG\"] = taxi_trips.apply(lambda x : x[\"POLYLINE\"][-1][0] if len(x[\"POLYLINE\"])>0 else np.nan, axis=1)"
   ]
  },
  {
   "cell_type": "code",
   "execution_count": 14,
   "metadata": {
    "collapsed": false
   },
   "outputs": [],
   "source": [
    "taxi_trips[\"DEPARTURE_LAT_FULL\"] = taxi_trips.apply(lambda x : x[\"POLYLINE_ORIGI\"][0][1] if len(x[\"POLYLINE_ORIGI\"])>0 else np.nan, axis=1)\n",
    "taxi_trips[\"DEPARTURE_LNG_FULL\"] = taxi_trips.apply(lambda x : x[\"POLYLINE_ORIGI\"][0][0] if len(x[\"POLYLINE_ORIGI\"])>0 else np.nan, axis=1)"
   ]
  },
  {
   "cell_type": "code",
   "execution_count": 15,
   "metadata": {
    "collapsed": false
   },
   "outputs": [],
   "source": [
    "taxi_trips[\"DEPARTURE_LAT\"] = taxi_trips.apply(lambda x : x[\"POLYLINE\"][0][1] if len(x[\"POLYLINE\"])>0 else np.nan, axis=1)\n",
    "taxi_trips[\"DEPARTURE_LNG\"] = taxi_trips.apply(lambda x : x[\"POLYLINE\"][0][0] if len(x[\"POLYLINE\"])>0 else np.nan, axis=1)"
   ]
  },
  {
   "cell_type": "code",
   "execution_count": 16,
   "metadata": {
    "collapsed": true
   },
   "outputs": [],
   "source": [
    "del taxi_trips[\"POLYLINE_ORIGI\"]"
   ]
  },
  {
   "cell_type": "code",
   "execution_count": 17,
   "metadata": {
    "collapsed": false
   },
   "outputs": [
    {
     "name": "stdout",
     "output_type": "stream",
     "text": [
      "405\n77\n"
     ]
    }
   ],
   "source": [
    "print len(taxi_trips[\"DESTINATION_LAT\"].astype(\"str\").unique())\n",
    "print len(taxi_trips[\"DESTINATION_LNG\"].astype(\"str\").unique())"
   ]
  },
  {
   "cell_type": "code",
   "execution_count": 18,
   "metadata": {
    "collapsed": false
   },
   "outputs": [
    {
     "name": "stdout",
     "output_type": "stream",
     "text": [
      "192\n40\n"
     ]
    }
   ],
   "source": [
    "print len(taxi_trips[\"DEPARTURE_LAT\"].astype(\"str\").unique())\n",
    "print len(taxi_trips[\"DEPARTURE_LNG\"].astype(\"str\").unique())"
   ]
  },
  {
   "cell_type": "markdown",
   "metadata": {},
   "source": [
    "#### Unique locations"
   ]
  },
  {
   "cell_type": "code",
   "execution_count": 19,
   "metadata": {
    "collapsed": false
   },
   "outputs": [],
   "source": [
    "gps_locs = {}\n",
    "for i in xrange(len(taxi_trips)):\n",
    "    for loc in set(taxi_trips.ix[i][\"POLYLINE\"]):\n",
    "        if not loc in gps_locs:\n",
    "            gps_locs[loc] = 0\n",
    "        gps_locs[loc] += 1"
   ]
  },
  {
   "cell_type": "code",
   "execution_count": 20,
   "metadata": {
    "collapsed": false
   },
   "outputs": [
    {
     "data": {
      "text/plain": "13465"
     },
     "execution_count": 20,
     "metadata": {},
     "output_type": "execute_result"
    }
   ],
   "source": [
    "len(gps_locs)"
   ]
  },
  {
   "cell_type": "markdown",
   "metadata": {},
   "source": [
    "### Route statistics"
   ]
  },
  {
   "cell_type": "markdown",
   "metadata": {},
   "source": [
    "#### features trip length "
   ]
  },
  {
   "cell_type": "code",
   "execution_count": 21,
   "metadata": {
    "collapsed": true
   },
   "outputs": [],
   "source": [
    "taxi_trips[\"TRIP_SIZE\"] = taxi_trips[\"TRIP_LAT\"].apply(lambda x: len(x))"
   ]
  },
  {
   "cell_type": "code",
   "execution_count": 22,
   "metadata": {
    "collapsed": false
   },
   "outputs": [],
   "source": [
    "for col in [\"TRIP_LAT\",\"TRIP_LNG\"]:\n",
    "    taxi_trips[\"%s_UNIQUE\" % col] = taxi_trips[col].apply(lambda x: 0 if len(x)==0 else len(np.unique(x)))\n",
    "    taxi_trips[\"%s_UNIQUE_RATIO\" % col] = taxi_trips[[\"%s_UNIQUE\" % col,\"TRIP_SIZE\"]].apply(lambda x: float(x[\"%s_UNIQUE\" % col]) / x[\"TRIP_SIZE\"] if x[\"TRIP_SIZE\"] > 0 else 0.0, axis=1)"
   ]
  },
  {
   "cell_type": "markdown",
   "metadata": {},
   "source": [
    "taxi_trips[\"TRIP_LNG_UNIQUE_RATIO\"].hist(bins=50)"
   ]
  },
  {
   "cell_type": "markdown",
   "metadata": {},
   "source": [
    "#### features based on statistics"
   ]
  },
  {
   "cell_type": "code",
   "execution_count": 23,
   "metadata": {
    "collapsed": false
   },
   "outputs": [],
   "source": [
    "for col in [\"TRIP_LAT\",\"TRIP_LNG\"]:\n",
    "    taxi_trips[\"%s_MIN\" % col] = taxi_trips[col].apply(lambda x: np.nan if len(x)==0 else np.min(x))\n",
    "    taxi_trips[\"%s_MAX\" % col] = taxi_trips[col].apply(lambda x: np.nan if len(x)==0 else np.max(x))\n",
    "    taxi_trips[\"%s_MEAN\" % col] = taxi_trips[col].apply(lambda x: np.nan if len(x)==0 else np.mean(x))\n",
    "    taxi_trips[\"%s_MEDIAN\" % col] = taxi_trips[col].apply(lambda x: np.nan if len(x)==0 else np.median(x))\n",
    "    taxi_trips[\"%s_STD\" % col] = taxi_trips[col].apply(lambda x: np.nan if len(x)==0 else np.std(x))"
   ]
  },
  {
   "cell_type": "code",
   "execution_count": 24,
   "metadata": {
    "collapsed": false
   },
   "outputs": [
    {
     "data": {
      "text/html": "<div>\n<table border=\"1\" class=\"dataframe\">\n  <thead>\n    <tr style=\"text-align: right;\">\n      <th></th>\n      <th>TRIP_ID</th>\n      <th>CALL_TYPE</th>\n      <th>ORIGIN_CALL</th>\n      <th>ORIGIN_STAND</th>\n      <th>TAXI_ID</th>\n      <th>TIMESTAMP</th>\n      <th>DAY_TYPE</th>\n      <th>MISSING_DATA</th>\n      <th>POLYLINE</th>\n      <th>TRIP_LAT</th>\n      <th>...</th>\n      <th>TRIP_LAT_MIN</th>\n      <th>TRIP_LAT_MAX</th>\n      <th>TRIP_LAT_MEAN</th>\n      <th>TRIP_LAT_MEDIAN</th>\n      <th>TRIP_LAT_STD</th>\n      <th>TRIP_LNG_MIN</th>\n      <th>TRIP_LNG_MAX</th>\n      <th>TRIP_LNG_MEAN</th>\n      <th>TRIP_LNG_MEDIAN</th>\n      <th>TRIP_LNG_STD</th>\n    </tr>\n  </thead>\n  <tbody>\n    <tr>\n      <th>0</th>\n      <td>1372636858620000589</td>\n      <td>other</td>\n      <td>NaN</td>\n      <td>NaN</td>\n      <td>20000589</td>\n      <td>1372636858</td>\n      <td>normal</td>\n      <td>False</td>\n      <td>[(-8.62, 41.141), (-8.62, 41.141), (-8.62, 41....</td>\n      <td>[41.141, 41.143, 41.144, 41.144, 41.145, 41.14...</td>\n      <td>...</td>\n      <td>41.141</td>\n      <td>41.155</td>\n      <td>41.149286</td>\n      <td>41.151</td>\n      <td>0.004355</td>\n      <td>-8.63</td>\n      <td>-8.62</td>\n      <td>-8.628095</td>\n      <td>-8.63</td>\n      <td>0.003927</td>\n    </tr>\n  </tbody>\n</table>\n<p>1 rows \u00d7 34 columns</p>\n</div>",
      "text/plain": "               TRIP_ID CALL_TYPE  ORIGIN_CALL  ORIGIN_STAND   TAXI_ID  \\\n0  1372636858620000589     other          NaN           NaN  20000589   \n\n    TIMESTAMP DAY_TYPE MISSING_DATA  \\\n0  1372636858   normal        False   \n\n                                            POLYLINE  \\\n0  [(-8.62, 41.141), (-8.62, 41.141), (-8.62, 41....   \n\n                                            TRIP_LAT      ...       \\\n0  [41.141, 41.143, 41.144, 41.144, 41.145, 41.14...      ...        \n\n  TRIP_LAT_MIN  TRIP_LAT_MAX  TRIP_LAT_MEAN  TRIP_LAT_MEDIAN  TRIP_LAT_STD  \\\n0       41.141        41.155      41.149286           41.151      0.004355   \n\n   TRIP_LNG_MIN  TRIP_LNG_MAX  TRIP_LNG_MEAN  TRIP_LNG_MEDIAN  TRIP_LNG_STD  \n0         -8.63         -8.62      -8.628095            -8.63      0.003927  \n\n[1 rows x 34 columns]"
     },
     "execution_count": 24,
     "metadata": {},
     "output_type": "execute_result"
    }
   ],
   "source": [
    "taxi_trips.head(1)"
   ]
  },
  {
   "cell_type": "markdown",
   "metadata": {},
   "source": [
    "#### features based on distance between departure and statistics"
   ]
  },
  {
   "cell_type": "code",
   "execution_count": 25,
   "metadata": {
    "collapsed": false
   },
   "outputs": [],
   "source": [
    "for feat_type in [\"MIN\",\"MAX\",\"MEAN\",\"MEDIAN\"]:\n",
    "    for axis in [\"LAT\",\"LNG\"]:\n",
    "        stat_feat = \"TRIP_%s_%s\" % (axis,feat_type)\n",
    "        depart_feat = \"DEPARTURE_%s\" % axis\n",
    "        taxi_trips[\"TRIP_%s_%s_DIFF\" % (axis,feat_type)] = taxi_trips[[depart_feat,stat_feat]].apply(lambda x: np.nan if x[stat_feat]==np.nan else abs(x[depart_feat]-x[stat_feat]), axis=1)"
   ]
  },
  {
   "cell_type": "markdown",
   "metadata": {},
   "source": [
    "# Parsing Time information"
   ]
  },
  {
   "cell_type": "code",
   "execution_count": 26,
   "metadata": {
    "collapsed": true
   },
   "outputs": [],
   "source": [
    "import datetime\n",
    "\n",
    "def get_time_info(timestamp,info_type):\n",
    "    dt = datetime.datetime.fromtimestamp(timestamp)\n",
    "    if info_type == \"date\":\n",
    "        return datetime.datetime(dt.year,dt.month,dt.day)\n",
    "    elif info_type == \"time\":\n",
    "        return datetime.time(dt.hour,dt.minute,dt.second)\n",
    "    elif info_type == \"time_of_day\":\n",
    "        return dt.hour // 6\n",
    "    elif info_type == \"day_of_week\":\n",
    "        return dt.weekday()\n",
    "    else:\n",
    "        raise RuntimeError(\"Bad argument for 'info_type': %s\" % info_type)"
   ]
  },
  {
   "cell_type": "code",
   "execution_count": 27,
   "metadata": {
    "collapsed": true
   },
   "outputs": [],
   "source": [
    "taxi_trips[\"DATE\"] = taxi_trips[\"TIMESTAMP\"].apply(lambda x: get_time_info(x,\"date\"))"
   ]
  },
  {
   "cell_type": "code",
   "execution_count": 28,
   "metadata": {
    "collapsed": false
   },
   "outputs": [],
   "source": [
    "taxi_trips[\"TIME\"] = taxi_trips[\"TIMESTAMP\"].apply(lambda x: get_time_info(x,\"time\"))"
   ]
  },
  {
   "cell_type": "code",
   "execution_count": 29,
   "metadata": {
    "collapsed": true
   },
   "outputs": [],
   "source": [
    "taxi_trips[\"DAY_OF_WEEK\"] = taxi_trips[\"TIMESTAMP\"].apply(lambda x: get_time_info(x,\"day_of_week\"))"
   ]
  },
  {
   "cell_type": "code",
   "execution_count": 30,
   "metadata": {
    "collapsed": true
   },
   "outputs": [],
   "source": [
    "taxi_trips[\"TIME_OF_DAY\"] = taxi_trips[\"TIMESTAMP\"].apply(lambda x: get_time_info(x,\"time_of_day\"))"
   ]
  },
  {
   "cell_type": "code",
   "execution_count": 31,
   "metadata": {
    "collapsed": false
   },
   "outputs": [
    {
     "data": {
      "text/html": "<div>\n<table border=\"1\" class=\"dataframe\">\n  <thead>\n    <tr style=\"text-align: right;\">\n      <th></th>\n      <th>TRIP_ID</th>\n      <th>CALL_TYPE</th>\n      <th>ORIGIN_CALL</th>\n      <th>ORIGIN_STAND</th>\n      <th>TAXI_ID</th>\n      <th>TIMESTAMP</th>\n      <th>DAY_TYPE</th>\n      <th>MISSING_DATA</th>\n      <th>POLYLINE</th>\n      <th>TRIP_LAT</th>\n      <th>...</th>\n      <th>TRIP_LAT_MAX_DIFF</th>\n      <th>TRIP_LNG_MAX_DIFF</th>\n      <th>TRIP_LAT_MEAN_DIFF</th>\n      <th>TRIP_LNG_MEAN_DIFF</th>\n      <th>TRIP_LAT_MEDIAN_DIFF</th>\n      <th>TRIP_LNG_MEDIAN_DIFF</th>\n      <th>DATE</th>\n      <th>TIME</th>\n      <th>DAY_OF_WEEK</th>\n      <th>TIME_OF_DAY</th>\n    </tr>\n  </thead>\n  <tbody>\n    <tr>\n      <th>0</th>\n      <td>1372636858620000589</td>\n      <td>other</td>\n      <td>NaN</td>\n      <td>NaN</td>\n      <td>20000589</td>\n      <td>1372636858</td>\n      <td>normal</td>\n      <td>False</td>\n      <td>[(-8.62, 41.141), (-8.62, 41.141), (-8.62, 41....</td>\n      <td>[41.141, 41.143, 41.144, 41.144, 41.145, 41.14...</td>\n      <td>...</td>\n      <td>0.014</td>\n      <td>0.0</td>\n      <td>0.008286</td>\n      <td>0.008095</td>\n      <td>0.010</td>\n      <td>0.01</td>\n      <td>2013-07-01</td>\n      <td>00:00:58</td>\n      <td>0</td>\n      <td>0</td>\n    </tr>\n    <tr>\n      <th>1</th>\n      <td>1372637303620000596</td>\n      <td>driver</td>\n      <td>NaN</td>\n      <td>7.0</td>\n      <td>20000596</td>\n      <td>1372637303</td>\n      <td>normal</td>\n      <td>False</td>\n      <td>[(-8.64, 41.16), (-8.64, 41.16), (-8.64, 41.16...</td>\n      <td>[41.16, 41.16, 41.16, 41.161, 41.161, 41.162, ...</td>\n      <td>...</td>\n      <td>0.011</td>\n      <td>0.0</td>\n      <td>0.004294</td>\n      <td>0.019412</td>\n      <td>0.004</td>\n      <td>0.02</td>\n      <td>2013-07-01</td>\n      <td>00:08:23</td>\n      <td>0</td>\n      <td>0</td>\n    </tr>\n  </tbody>\n</table>\n<p>2 rows \u00d7 46 columns</p>\n</div>",
      "text/plain": "               TRIP_ID CALL_TYPE  ORIGIN_CALL  ORIGIN_STAND   TAXI_ID  \\\n0  1372636858620000589     other          NaN           NaN  20000589   \n1  1372637303620000596    driver          NaN           7.0  20000596   \n\n    TIMESTAMP DAY_TYPE MISSING_DATA  \\\n0  1372636858   normal        False   \n1  1372637303   normal        False   \n\n                                            POLYLINE  \\\n0  [(-8.62, 41.141), (-8.62, 41.141), (-8.62, 41....   \n1  [(-8.64, 41.16), (-8.64, 41.16), (-8.64, 41.16...   \n\n                                            TRIP_LAT     ...       \\\n0  [41.141, 41.143, 41.144, 41.144, 41.145, 41.14...     ...        \n1  [41.16, 41.16, 41.16, 41.161, 41.161, 41.162, ...     ...        \n\n  TRIP_LAT_MAX_DIFF  TRIP_LNG_MAX_DIFF  TRIP_LAT_MEAN_DIFF  \\\n0             0.014                0.0            0.008286   \n1             0.011                0.0            0.004294   \n\n   TRIP_LNG_MEAN_DIFF  TRIP_LAT_MEDIAN_DIFF  TRIP_LNG_MEDIAN_DIFF       DATE  \\\n0            0.008095                 0.010                  0.01 2013-07-01   \n1            0.019412                 0.004                  0.02 2013-07-01   \n\n       TIME  DAY_OF_WEEK  TIME_OF_DAY  \n0  00:00:58            0            0  \n1  00:08:23            0            0  \n\n[2 rows x 46 columns]"
     },
     "execution_count": 31,
     "metadata": {},
     "output_type": "execute_result"
    }
   ],
   "source": [
    "taxi_trips.head(2)"
   ]
  },
  {
   "cell_type": "code",
   "execution_count": 32,
   "metadata": {
    "collapsed": false
   },
   "outputs": [
    {
     "data": {
      "text/plain": "Index([u'TRIP_ID', u'CALL_TYPE', u'ORIGIN_CALL', u'ORIGIN_STAND', u'TAXI_ID',\n       u'TIMESTAMP', u'DAY_TYPE', u'MISSING_DATA', u'POLYLINE', u'TRIP_LAT',\n       u'TRIP_LNG', u'DESTINATION_LAT_FULL', u'DESTINATION_LNG_FULL',\n       u'DESTINATION_LAT', u'DESTINATION_LNG', u'DEPARTURE_LAT_FULL',\n       u'DEPARTURE_LNG_FULL', u'DEPARTURE_LAT', u'DEPARTURE_LNG', u'TRIP_SIZE',\n       u'TRIP_LAT_UNIQUE', u'TRIP_LAT_UNIQUE_RATIO', u'TRIP_LNG_UNIQUE',\n       u'TRIP_LNG_UNIQUE_RATIO', u'TRIP_LAT_MIN', u'TRIP_LAT_MAX',\n       u'TRIP_LAT_MEAN', u'TRIP_LAT_MEDIAN', u'TRIP_LAT_STD', u'TRIP_LNG_MIN',\n       u'TRIP_LNG_MAX', u'TRIP_LNG_MEAN', u'TRIP_LNG_MEDIAN', u'TRIP_LNG_STD',\n       u'TRIP_LAT_MIN_DIFF', u'TRIP_LNG_MIN_DIFF', u'TRIP_LAT_MAX_DIFF',\n       u'TRIP_LNG_MAX_DIFF', u'TRIP_LAT_MEAN_DIFF', u'TRIP_LNG_MEAN_DIFF',\n       u'TRIP_LAT_MEDIAN_DIFF', u'TRIP_LNG_MEDIAN_DIFF', u'DATE', u'TIME',\n       u'DAY_OF_WEEK', u'TIME_OF_DAY'],\n      dtype='object')"
     },
     "execution_count": 32,
     "metadata": {},
     "output_type": "execute_result"
    }
   ],
   "source": [
    "taxi_trips.columns"
   ]
  },
  {
   "cell_type": "markdown",
   "metadata": {},
   "source": [
    "# OneHotEncoding"
   ]
  },
  {
   "cell_type": "code",
   "execution_count": 33,
   "metadata": {
    "collapsed": true
   },
   "outputs": [],
   "source": [
    "def one_hot_one_column(dataframe, feature):\n",
    "    if \"float\" in str(dataframe[feature].dtype) or \"int\" in str(dataframe[feature].dtype):\n",
    "        raise RuntimeError(\"feature is already numeric\")\n",
    "    df_dummy = pd.get_dummies(dataframe[feature], prefix=feature+\"_onehot\")\n",
    "    #dataframe = dataframe.drop(feature, axis=1)\n",
    "    return dataframe.join(df_dummy)\n",
    "\n",
    "def one_hot(dataframe, features):\n",
    "    if type(features) is str:\n",
    "        features = [features]\n",
    "    for feature in features:\n",
    "        print feature\n",
    "        dataframe = one_hot_one_column(dataframe, feature)\n",
    "    return dataframe"
   ]
  },
  {
   "cell_type": "code",
   "execution_count": 34,
   "metadata": {
    "collapsed": false
   },
   "outputs": [
    {
     "name": "stdout",
     "output_type": "stream",
     "text": [
      "CALL_TYPE\n"
     ]
    }
   ],
   "source": [
    "categorical_columns = ['CALL_TYPE']\n",
    "taxi_trips = one_hot(taxi_trips, categorical_columns)"
   ]
  },
  {
   "cell_type": "code",
   "execution_count": 35,
   "metadata": {
    "collapsed": false
   },
   "outputs": [
    {
     "data": {
      "text/html": "<div>\n<table border=\"1\" class=\"dataframe\">\n  <thead>\n    <tr style=\"text-align: right;\">\n      <th></th>\n      <th>TRIP_ID</th>\n      <th>CALL_TYPE</th>\n      <th>ORIGIN_CALL</th>\n      <th>ORIGIN_STAND</th>\n      <th>TAXI_ID</th>\n      <th>TIMESTAMP</th>\n      <th>DAY_TYPE</th>\n      <th>MISSING_DATA</th>\n      <th>POLYLINE</th>\n      <th>TRIP_LAT</th>\n      <th>...</th>\n      <th>TRIP_LNG_MEAN_DIFF</th>\n      <th>TRIP_LAT_MEDIAN_DIFF</th>\n      <th>TRIP_LNG_MEDIAN_DIFF</th>\n      <th>DATE</th>\n      <th>TIME</th>\n      <th>DAY_OF_WEEK</th>\n      <th>TIME_OF_DAY</th>\n      <th>CALL_TYPE_onehot_dispatch</th>\n      <th>CALL_TYPE_onehot_driver</th>\n      <th>CALL_TYPE_onehot_other</th>\n    </tr>\n  </thead>\n  <tbody>\n    <tr>\n      <th>0</th>\n      <td>1372636858620000589</td>\n      <td>other</td>\n      <td>NaN</td>\n      <td>NaN</td>\n      <td>20000589</td>\n      <td>1372636858</td>\n      <td>normal</td>\n      <td>False</td>\n      <td>[(-8.62, 41.141), (-8.62, 41.141), (-8.62, 41....</td>\n      <td>[41.141, 41.143, 41.144, 41.144, 41.145, 41.14...</td>\n      <td>...</td>\n      <td>0.008095</td>\n      <td>0.010</td>\n      <td>0.01</td>\n      <td>2013-07-01</td>\n      <td>00:00:58</td>\n      <td>0</td>\n      <td>0</td>\n      <td>0.0</td>\n      <td>0.0</td>\n      <td>1.0</td>\n    </tr>\n    <tr>\n      <th>1</th>\n      <td>1372637303620000596</td>\n      <td>driver</td>\n      <td>NaN</td>\n      <td>7.0</td>\n      <td>20000596</td>\n      <td>1372637303</td>\n      <td>normal</td>\n      <td>False</td>\n      <td>[(-8.64, 41.16), (-8.64, 41.16), (-8.64, 41.16...</td>\n      <td>[41.16, 41.16, 41.16, 41.161, 41.161, 41.162, ...</td>\n      <td>...</td>\n      <td>0.019412</td>\n      <td>0.004</td>\n      <td>0.02</td>\n      <td>2013-07-01</td>\n      <td>00:08:23</td>\n      <td>0</td>\n      <td>0</td>\n      <td>0.0</td>\n      <td>1.0</td>\n      <td>0.0</td>\n    </tr>\n  </tbody>\n</table>\n<p>2 rows \u00d7 49 columns</p>\n</div>",
      "text/plain": "               TRIP_ID CALL_TYPE  ORIGIN_CALL  ORIGIN_STAND   TAXI_ID  \\\n0  1372636858620000589     other          NaN           NaN  20000589   \n1  1372637303620000596    driver          NaN           7.0  20000596   \n\n    TIMESTAMP DAY_TYPE MISSING_DATA  \\\n0  1372636858   normal        False   \n1  1372637303   normal        False   \n\n                                            POLYLINE  \\\n0  [(-8.62, 41.141), (-8.62, 41.141), (-8.62, 41....   \n1  [(-8.64, 41.16), (-8.64, 41.16), (-8.64, 41.16...   \n\n                                            TRIP_LAT           ...            \\\n0  [41.141, 41.143, 41.144, 41.144, 41.145, 41.14...           ...             \n1  [41.16, 41.16, 41.16, 41.161, 41.161, 41.162, ...           ...             \n\n  TRIP_LNG_MEAN_DIFF  TRIP_LAT_MEDIAN_DIFF  TRIP_LNG_MEDIAN_DIFF       DATE  \\\n0           0.008095                 0.010                  0.01 2013-07-01   \n1           0.019412                 0.004                  0.02 2013-07-01   \n\n       TIME  DAY_OF_WEEK  TIME_OF_DAY  CALL_TYPE_onehot_dispatch  \\\n0  00:00:58            0            0                        0.0   \n1  00:08:23            0            0                        0.0   \n\n   CALL_TYPE_onehot_driver  CALL_TYPE_onehot_other  \n0                      0.0                     1.0  \n1                      1.0                     0.0  \n\n[2 rows x 49 columns]"
     },
     "execution_count": 35,
     "metadata": {},
     "output_type": "execute_result"
    }
   ],
   "source": [
    "taxi_trips.head(2)"
   ]
  },
  {
   "cell_type": "markdown",
   "metadata": {},
   "source": [
    "# Export data file"
   ]
  },
  {
   "cell_type": "code",
   "execution_count": 36,
   "metadata": {
    "collapsed": true
   },
   "outputs": [],
   "source": [
    "if is_test:\n",
    "    taxi_trips.to_csv(\"%s/gen_test_lng%i_lat%i.csv\" % (data_folder, lng_digits, lat_digits),index=False)\n",
    "else:\n",
    "    taxi_trips.to_csv(\"%s/gen_train%s_lng%i_lat%i.csv\" % (data_folder, part, lng_digits, lat_digits),index=False)"
   ]
  }
 ],
 "metadata": {
  "anaconda-cloud": {},
  "kernelspec": {
   "display_name": "Python [conda env:dm-env]",
   "language": "python",
   "name": "conda-env-dm-env-py"
  },
  "language_info": {
   "codemirror_mode": {
    "name": "ipython",
    "version": 2
   },
   "file_extension": ".py",
   "mimetype": "text/x-python",
   "name": "python",
   "nbconvert_exporter": "python",
   "pygments_lexer": "ipython2",
   "version": "2.7.12"
  }
 },
 "nbformat": 4,
 "nbformat_minor": 1
}