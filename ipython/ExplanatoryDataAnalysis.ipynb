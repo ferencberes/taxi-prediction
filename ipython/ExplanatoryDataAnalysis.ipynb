{
 "cells": [
  {
   "cell_type": "code",
   "execution_count": null,
   "metadata": {
    "collapsed": false
   },
   "outputs": [],
   "source": [
    "import pandas as pd\n",
    "import seaborn as sns\n",
    "from haversine import haversine"
   ]
  },
  {
   "cell_type": "code",
   "execution_count": null,
   "metadata": {
    "collapsed": true
   },
   "outputs": [],
   "source": [
    "%matplotlib inline\n",
    "import matplotlib.pyplot as plt"
   ]
  },
  {
   "cell_type": "code",
   "execution_count": null,
   "metadata": {
    "collapsed": false
   },
   "outputs": [],
   "source": [
    "import sys\n",
    "from datawand.parametrization import ParamHelper\n",
    "ph = ParamHelper(\"../pipelines/EcmlTaxi.json\",sys.argv)"
   ]
  },
  {
   "cell_type": "markdown",
   "metadata": {},
   "source": [
    "# Haversine distance\n",
    "\n",
    "**Conclusion:** I must use at least 3 digit in gps locations"
   ]
  },
  {
   "cell_type": "markdown",
   "metadata": {},
   "source": [
    "### 2 digit precision : approx. 1 km"
   ]
  },
  {
   "cell_type": "code",
   "execution_count": null,
   "metadata": {
    "collapsed": false
   },
   "outputs": [],
   "source": [
    "print haversine((-8.62, 41.141412),(-8.61, 41.141412))\n",
    "print haversine((-8.618643, 41.14),(-8.618643, 41.15))"
   ]
  },
  {
   "cell_type": "markdown",
   "metadata": {},
   "source": [
    "### 3 digit precision: approx 100 m"
   ]
  },
  {
   "cell_type": "code",
   "execution_count": null,
   "metadata": {
    "collapsed": false
   },
   "outputs": [],
   "source": [
    "print haversine((-8.610, 41.141412),(-8.611, 41.141412))\n",
    "print haversine((-8.618643, 41.150),(-8.618643, 41.151))"
   ]
  },
  {
   "cell_type": "markdown",
   "metadata": {},
   "source": [
    "# Load Data"
   ]
  },
  {
   "cell_type": "code",
   "execution_count": null,
   "metadata": {
    "collapsed": false
   },
   "outputs": [],
   "source": [
    "data_folder = ph.get(\"data_folder\")\n",
    "part = ph.get(\"part\")\n",
    "lat_digits = ph.get(\"lat_digits\")\n",
    "lng_digits = ph.get(\"lng_digits\")"
   ]
  },
  {
   "cell_type": "code",
   "execution_count": null,
   "metadata": {
    "collapsed": false
   },
   "outputs": [],
   "source": [
    "taxi_trips = pd.read_csv(\"%s/gen_train%s_lng%i_lat%i.csv\" % (data_folder, part, lng_digits, lat_digits))"
   ]
  },
  {
   "cell_type": "code",
   "execution_count": null,
   "metadata": {
    "collapsed": false
   },
   "outputs": [],
   "source": [
    "taxi_trips_test = pd.read_csv(\"%s/gen_test_lng%i_lat%i.csv\" % (data_folder, lng_digits, lat_digits))"
   ]
  },
  {
   "cell_type": "code",
   "execution_count": null,
   "metadata": {
    "collapsed": false
   },
   "outputs": [],
   "source": [
    "taxi_trips.head(1)"
   ]
  },
  {
   "cell_type": "code",
   "execution_count": null,
   "metadata": {
    "collapsed": false
   },
   "outputs": [],
   "source": [
    "taxi_trips.columns"
   ]
  },
  {
   "cell_type": "markdown",
   "metadata": {},
   "source": [
    "# Time information"
   ]
  },
  {
   "cell_type": "code",
   "execution_count": null,
   "metadata": {
    "collapsed": false
   },
   "outputs": [],
   "source": [
    "taxi_trips.hist(\"DAY_OF_WEEK\",bins=7)"
   ]
  },
  {
   "cell_type": "code",
   "execution_count": null,
   "metadata": {
    "collapsed": false
   },
   "outputs": [],
   "source": [
    "taxi_trips.hist(\"TIME_OF_DAY\",bins=4)"
   ]
  },
  {
   "cell_type": "markdown",
   "metadata": {},
   "source": [
    "from altair import *"
   ]
  },
  {
   "cell_type": "markdown",
   "metadata": {
    "collapsed": false
   },
   "source": [
    "Chart(taxi_trips).mark_point().encode(\n",
    "    x='DAY_OF_WEEK',\n",
    "    y='TIME_OF_DAY',\n",
    "    size='count(TIME_OF_DAY)',\n",
    "    color='count(TIME_OF_DAY)'\n",
    ")"
   ]
  },
  {
   "cell_type": "markdown",
   "metadata": {},
   "source": [
    "# Trip length"
   ]
  },
  {
   "cell_type": "code",
   "execution_count": null,
   "metadata": {
    "collapsed": false,
    "scrolled": true
   },
   "outputs": [],
   "source": [
    "taxi_trips_test[\"TRIP_SIZE\"].mean()"
   ]
  },
  {
   "cell_type": "code",
   "execution_count": null,
   "metadata": {
    "collapsed": false
   },
   "outputs": [],
   "source": [
    "taxi_trips[\"TRIP_SIZE\"].mean()"
   ]
  },
  {
   "cell_type": "code",
   "execution_count": null,
   "metadata": {
    "collapsed": false,
    "scrolled": true
   },
   "outputs": [],
   "source": [
    "taxi_trips_test[\"TRIP_LAT_UNIQUE\"].mean()"
   ]
  },
  {
   "cell_type": "code",
   "execution_count": null,
   "metadata": {
    "collapsed": false
   },
   "outputs": [],
   "source": [
    "taxi_trips[\"TRIP_LAT_UNIQUE\"].mean()"
   ]
  },
  {
   "cell_type": "code",
   "execution_count": null,
   "metadata": {
    "collapsed": false,
    "scrolled": true
   },
   "outputs": [],
   "source": [
    "taxi_trips_test[\"TRIP_LNG_UNIQUE\"].mean()"
   ]
  },
  {
   "cell_type": "code",
   "execution_count": null,
   "metadata": {
    "collapsed": false
   },
   "outputs": [],
   "source": [
    "taxi_trips[\"TRIP_LNG_UNIQUE\"].mean()"
   ]
  },
  {
   "cell_type": "markdown",
   "metadata": {},
   "source": [
    "# Location information: Porto, Portugal"
   ]
  },
  {
   "cell_type": "code",
   "execution_count": null,
   "metadata": {
    "collapsed": false
   },
   "outputs": [],
   "source": [
    "taxi_trips_head = taxi_trips#.head(10000)\n",
    "plt.scatter(taxi_trips_head[\"DESTINATION_LNG\"], taxi_trips_head[\"DESTINATION_LAT\"],c=\"b\",alpha=0.6)\n",
    "plt.scatter(taxi_trips_test[\"DESTINATION_LNG\"], taxi_trips_test[\"DESTINATION_LAT\"],c=\"r\",alpha=0.6)"
   ]
  },
  {
   "cell_type": "code",
   "execution_count": null,
   "metadata": {
    "collapsed": false
   },
   "outputs": [],
   "source": [
    "plt.scatter(taxi_trips_head[\"DESTINATION_LNG_FULL\"], taxi_trips_head[\"DESTINATION_LAT_FULL\"],c=\"b\",alpha=0.6)\n",
    "plt.scatter(taxi_trips_test[\"DESTINATION_LNG_FULL\"], taxi_trips_test[\"DESTINATION_LAT_FULL\"],c=\"r\",alpha=0.6)"
   ]
  },
  {
   "cell_type": "code",
   "execution_count": null,
   "metadata": {
    "collapsed": false
   },
   "outputs": [],
   "source": [
    "taxi_trips[\"MISSING_DATA\"].value_counts()"
   ]
  },
  {
   "cell_type": "markdown",
   "metadata": {
    "collapsed": true
   },
   "source": [
    "taxi_trips[\"POLYLINE\"] = taxi_trips[\"POLYLINE\"].apply(lambda x: eval(x))"
   ]
  },
  {
   "cell_type": "markdown",
   "metadata": {
    "collapsed": false
   },
   "source": [
    "taxi_trips[\"POLYLINE_SIZE\"] = taxi_trips[\"POLYLINE\"].apply(lambda x: len(x))"
   ]
  },
  {
   "cell_type": "markdown",
   "metadata": {
    "collapsed": false,
    "scrolled": true
   },
   "source": [
    "Chart(taxi_trips).mark_point().encode(\n",
    "    x='DAY_OF_WEEK',\n",
    "    y='TIME_OF_DAY',\n",
    "    size='mean(POLYLINE_SIZE)',\n",
    "    color='mean(POLYLINE_SIZE)'\n",
    ")"
   ]
  },
  {
   "cell_type": "markdown",
   "metadata": {
    "collapsed": false,
    "scrolled": true
   },
   "source": [
    "Chart(taxi_trips).mark_point().encode(\n",
    "    x='DAY_OF_WEEK',\n",
    "    y='TIME_OF_DAY',\n",
    "    size='mean(POLYLINE_SIZE)',\n",
    "    color='mean(POLYLINE_SIZE)'\n",
    ")"
   ]
  },
  {
   "cell_type": "markdown",
   "metadata": {
    "collapsed": false,
    "scrolled": true
   },
   "source": [
    "Chart(taxi_trips).mark_point().encode(\n",
    "    x='DAY_TYPE',\n",
    "    y='TIME_OF_DAY',\n",
    "    size='mean(POLYLINE_SIZE)',\n",
    "    color='mean(POLYLINE_SIZE)'\n",
    ")"
   ]
  },
  {
   "cell_type": "markdown",
   "metadata": {},
   "source": [
    "#### Unique locations"
   ]
  },
  {
   "cell_type": "markdown",
   "metadata": {
    "collapsed": true
   },
   "source": [
    "gps_locs = {}\n",
    "for i in xrange(len(taxi_trips)):\n",
    "    for loc in set(taxi_trips.ix[i][\"POLYLINE\"]):\n",
    "        if not loc in gps_locs:\n",
    "            gps_locs[loc] = 0\n",
    "        gps_locs[loc] += 1"
   ]
  },
  {
   "cell_type": "markdown",
   "metadata": {
    "collapsed": false
   },
   "source": [
    "len(gps_locs)"
   ]
  }
 ],
 "metadata": {
  "anaconda-cloud": {},
  "kernelspec": {
   "display_name": "Python [conda env:dm-env]",
   "language": "python",
   "name": "conda-env-dm-env-py"
  },
  "language_info": {
   "codemirror_mode": {
    "name": "ipython",
    "version": 2
   },
   "file_extension": ".py",
   "mimetype": "text/x-python",
   "name": "python",
   "nbconvert_exporter": "python",
   "pygments_lexer": "ipython2",
   "version": "2.7.12"
  }
 },
 "nbformat": 4,
 "nbformat_minor": 1
}