{
 "cells": [
  {
   "cell_type": "code",
   "execution_count": 1,
   "metadata": {
    "collapsed": false
   },
   "outputs": [],
   "source": [
    "import pandas as pd\n",
    "import seaborn as sns\n",
    "from haversine import haversine"
   ]
  },
  {
   "cell_type": "code",
   "execution_count": 2,
   "metadata": {
    "collapsed": true
   },
   "outputs": [],
   "source": [
    "%matplotlib inline\n",
    "import matplotlib.pyplot as plt"
   ]
  },
  {
   "cell_type": "code",
   "execution_count": 3,
   "metadata": {
    "collapsed": false
   },
   "outputs": [
    {
     "name": "stdout",
     "output_type": "stream",
     "text": [
      "Default parameters:\n{u'data_folder': u'/home/fberes/DATA/taxi-challange/', u'gbt_use_exact_lat': False, u'lng_digits': 2, u'lat_digits': 3, u'is_test': False, u'part': u'_50000', u'gbt_use_exact_lng': False}\nCustom parameters:\n{}\n"
     ]
    }
   ],
   "source": [
    "import sys\n",
    "from datawand.parametrization import ParamHelper\n",
    "ph = ParamHelper(\"../pipelines/EcmlTaxi.json\",sys.argv)"
   ]
  },
  {
   "cell_type": "markdown",
   "metadata": {},
   "source": [
    "# Haversine distance\n",
    "\n",
    "**Conclusion:** I must use at least 3 digit in gps locations"
   ]
  },
  {
   "cell_type": "markdown",
   "metadata": {},
   "source": [
    "### 2 digit precision : approx. 1 km"
   ]
  },
  {
   "cell_type": "code",
   "execution_count": 4,
   "metadata": {
    "collapsed": false
   },
   "outputs": [
    {
     "name": "stdout",
     "output_type": "stream",
     "text": [
      "1.11194926645\n1.09939277129\n"
     ]
    }
   ],
   "source": [
    "print haversine((-8.62, 41.141412),(-8.61, 41.141412))\n",
    "print haversine((-8.618643, 41.14),(-8.618643, 41.15))"
   ]
  },
  {
   "cell_type": "markdown",
   "metadata": {},
   "source": [
    "### 3 digit precision: approx 100 m"
   ]
  },
  {
   "cell_type": "code",
   "execution_count": 5,
   "metadata": {
    "collapsed": false
   },
   "outputs": [
    {
     "name": "stdout",
     "output_type": "stream",
     "text": [
      "0.111194926645\n0.109939277132\n"
     ]
    }
   ],
   "source": [
    "print haversine((-8.610, 41.141412),(-8.611, 41.141412))\n",
    "print haversine((-8.618643, 41.150),(-8.618643, 41.151))"
   ]
  },
  {
   "cell_type": "markdown",
   "metadata": {},
   "source": [
    "# Load Data"
   ]
  },
  {
   "cell_type": "code",
   "execution_count": 6,
   "metadata": {
    "collapsed": false
   },
   "outputs": [
    {
     "name": "stdout",
     "output_type": "stream",
     "text": [
      "Using default parameter: data_folder=/home/fberes/DATA/taxi-challange/\nUsing default parameter: part=_50000\nUsing default parameter: lat_digits=3\nUsing default parameter: lng_digits=2\n"
     ]
    }
   ],
   "source": [
    "data_folder = ph.get(\"data_folder\")\n",
    "part = ph.get(\"part\")\n",
    "lat_digits = ph.get(\"lat_digits\")\n",
    "lng_digits = ph.get(\"lng_digits\")"
   ]
  },
  {
   "cell_type": "code",
   "execution_count": 7,
   "metadata": {
    "collapsed": false
   },
   "outputs": [],
   "source": [
    "taxi_trips = pd.read_csv(\"%s/gen_train%s_lng%i_lat%i.csv\" % (data_folder, part, lng_digits, lat_digits))"
   ]
  },
  {
   "cell_type": "code",
   "execution_count": 8,
   "metadata": {
    "collapsed": false
   },
   "outputs": [],
   "source": [
    "taxi_trips_test = pd.read_csv(\"%s/gen_test_lng%i_lat%i.csv\" % (data_folder, lng_digits, lat_digits))"
   ]
  },
  {
   "cell_type": "code",
   "execution_count": 9,
   "metadata": {
    "collapsed": false
   },
   "outputs": [
    {
     "data": {
      "text/html": "<div>\n<table border=\"1\" class=\"dataframe\">\n  <thead>\n    <tr style=\"text-align: right;\">\n      <th></th>\n      <th>TRIP_ID</th>\n      <th>CALL_TYPE</th>\n      <th>ORIGIN_CALL</th>\n      <th>ORIGIN_STAND</th>\n      <th>TAXI_ID</th>\n      <th>TIMESTAMP</th>\n      <th>DAY_TYPE</th>\n      <th>MISSING_DATA</th>\n      <th>POLYLINE</th>\n      <th>TRIP_LAT</th>\n      <th>...</th>\n      <th>TRIP_LNG_MEAN_DIFF</th>\n      <th>TRIP_LAT_MEDIAN_DIFF</th>\n      <th>TRIP_LNG_MEDIAN_DIFF</th>\n      <th>DATE</th>\n      <th>TIME</th>\n      <th>DAY_OF_WEEK</th>\n      <th>TIME_OF_DAY</th>\n      <th>CALL_TYPE_onehot_dispatch</th>\n      <th>CALL_TYPE_onehot_driver</th>\n      <th>CALL_TYPE_onehot_other</th>\n    </tr>\n  </thead>\n  <tbody>\n    <tr>\n      <th>0</th>\n      <td>1372636858620000589</td>\n      <td>other</td>\n      <td>NaN</td>\n      <td>NaN</td>\n      <td>20000589</td>\n      <td>1372636858</td>\n      <td>normal</td>\n      <td>False</td>\n      <td>[(-8.62, 41.141), (-8.62, 41.141), (-8.62, 41....</td>\n      <td>[41.141, 41.143, 41.144, 41.144, 41.145, 41.14...</td>\n      <td>...</td>\n      <td>0.008095</td>\n      <td>0.01</td>\n      <td>0.01</td>\n      <td>2013-07-01</td>\n      <td>00:00:58</td>\n      <td>0</td>\n      <td>0</td>\n      <td>0.0</td>\n      <td>0.0</td>\n      <td>1.0</td>\n    </tr>\n  </tbody>\n</table>\n<p>1 rows \u00d7 49 columns</p>\n</div>",
      "text/plain": "               TRIP_ID CALL_TYPE  ORIGIN_CALL  ORIGIN_STAND   TAXI_ID  \\\n0  1372636858620000589     other          NaN           NaN  20000589   \n\n    TIMESTAMP DAY_TYPE MISSING_DATA  \\\n0  1372636858   normal        False   \n\n                                            POLYLINE  \\\n0  [(-8.62, 41.141), (-8.62, 41.141), (-8.62, 41....   \n\n                                            TRIP_LAT           ...            \\\n0  [41.141, 41.143, 41.144, 41.144, 41.145, 41.14...           ...             \n\n  TRIP_LNG_MEAN_DIFF  TRIP_LAT_MEDIAN_DIFF  TRIP_LNG_MEDIAN_DIFF        DATE  \\\n0           0.008095                  0.01                  0.01  2013-07-01   \n\n       TIME  DAY_OF_WEEK  TIME_OF_DAY  CALL_TYPE_onehot_dispatch  \\\n0  00:00:58            0            0                        0.0   \n\n   CALL_TYPE_onehot_driver  CALL_TYPE_onehot_other  \n0                      0.0                     1.0  \n\n[1 rows x 49 columns]"
     },
     "execution_count": 9,
     "metadata": {},
     "output_type": "execute_result"
    }
   ],
   "source": [
    "taxi_trips.head(1)"
   ]
  },
  {
   "cell_type": "code",
   "execution_count": 10,
   "metadata": {
    "collapsed": false
   },
   "outputs": [
    {
     "data": {
      "text/plain": "Index([u'TRIP_ID', u'CALL_TYPE', u'ORIGIN_CALL', u'ORIGIN_STAND', u'TAXI_ID',\n       u'TIMESTAMP', u'DAY_TYPE', u'MISSING_DATA', u'POLYLINE', u'TRIP_LAT',\n       u'TRIP_LNG', u'DESTINATION_LAT_FULL', u'DESTINATION_LNG_FULL',\n       u'DESTINATION_LAT', u'DESTINATION_LNG', u'DEPARTURE_LAT_FULL',\n       u'DEPARTURE_LNG_FULL', u'DEPARTURE_LAT', u'DEPARTURE_LNG', u'TRIP_SIZE',\n       u'TRIP_LAT_UNIQUE', u'TRIP_LAT_UNIQUE_RATIO', u'TRIP_LNG_UNIQUE',\n       u'TRIP_LNG_UNIQUE_RATIO', u'TRIP_LAT_MIN', u'TRIP_LAT_MAX',\n       u'TRIP_LAT_MEAN', u'TRIP_LAT_MEDIAN', u'TRIP_LAT_STD', u'TRIP_LNG_MIN',\n       u'TRIP_LNG_MAX', u'TRIP_LNG_MEAN', u'TRIP_LNG_MEDIAN', u'TRIP_LNG_STD',\n       u'TRIP_LAT_MIN_DIFF', u'TRIP_LNG_MIN_DIFF', u'TRIP_LAT_MAX_DIFF',\n       u'TRIP_LNG_MAX_DIFF', u'TRIP_LAT_MEAN_DIFF', u'TRIP_LNG_MEAN_DIFF',\n       u'TRIP_LAT_MEDIAN_DIFF', u'TRIP_LNG_MEDIAN_DIFF', u'DATE', u'TIME',\n       u'DAY_OF_WEEK', u'TIME_OF_DAY', u'CALL_TYPE_onehot_dispatch',\n       u'CALL_TYPE_onehot_driver', u'CALL_TYPE_onehot_other'],\n      dtype='object')"
     },
     "execution_count": 10,
     "metadata": {},
     "output_type": "execute_result"
    }
   ],
   "source": [
    "taxi_trips.columns"
   ]
  },
  {
   "cell_type": "markdown",
   "metadata": {},
   "source": [
    "# Time information"
   ]
  },
  {
   "cell_type": "code",
   "execution_count": 11,
   "metadata": {
    "collapsed": false
   },
   "outputs": [
    {
     "data": {
      "text/plain": "array([[<matplotlib.axes._subplots.AxesSubplot object at 0x7f9aa17b2850>]], dtype=object)"
     },
     "execution_count": 11,
     "metadata": {},
     "output_type": "execute_result"
    },
    {
     "data": {
      "image/png": "[encoded data removed]",
      "text/plain": "<matplotlib.figure.Figure at 0x7f9aa17b27d0>"
     },
     "metadata": {},
     "output_type": "display_data"
    }
   ],
   "source": [
    "taxi_trips.hist(\"DAY_OF_WEEK\",bins=7)"
   ]
  },
  {
   "cell_type": "code",
   "execution_count": 12,
   "metadata": {
    "collapsed": false
   },
   "outputs": [
    {
     "data": {
      "text/plain": "array([[<matplotlib.axes._subplots.AxesSubplot object at 0x7f9aa6529210>]], dtype=object)"
     },
     "execution_count": 12,
     "metadata": {},
     "output_type": "execute_result"
    },
    {
     "data": {
      "image/png": "[encoded data removed]",
      "text/plain": "<matplotlib.figure.Figure at 0x7f9ad4d71790>"
     },
     "metadata": {},
     "output_type": "display_data"
    }
   ],
   "source": [
    "taxi_trips.hist(\"TIME_OF_DAY\",bins=4)"
   ]
  },
  {
   "cell_type": "markdown",
   "metadata": {},
   "source": [
    "from altair import *"
   ]
  },
  {
   "cell_type": "markdown",
   "metadata": {
    "collapsed": false
   },
   "source": [
    "Chart(taxi_trips).mark_point().encode(\n",
    "    x='DAY_OF_WEEK',\n",
    "    y='TIME_OF_DAY',\n",
    "    size='count(TIME_OF_DAY)',\n",
    "    color='count(TIME_OF_DAY)'\n",
    ")"
   ]
  },
  {
   "cell_type": "markdown",
   "metadata": {},
   "source": [
    "# Trip length"
   ]
  },
  {
   "cell_type": "code",
   "execution_count": 13,
   "metadata": {
    "collapsed": false,
    "scrolled": true
   },
   "outputs": [
    {
     "data": {
      "text/plain": "43.125"
     },
     "execution_count": 13,
     "metadata": {},
     "output_type": "execute_result"
    }
   ],
   "source": [
    "taxi_trips_test[\"TRIP_SIZE\"].mean()"
   ]
  },
  {
   "cell_type": "code",
   "execution_count": 14,
   "metadata": {
    "collapsed": false
   },
   "outputs": [
    {
     "data": {
      "text/plain": "45.85654"
     },
     "execution_count": 14,
     "metadata": {},
     "output_type": "execute_result"
    }
   ],
   "source": [
    "taxi_trips[\"TRIP_SIZE\"].mean()"
   ]
  },
  {
   "cell_type": "code",
   "execution_count": 15,
   "metadata": {
    "collapsed": false,
    "scrolled": true
   },
   "outputs": [
    {
     "data": {
      "text/plain": "11.890625"
     },
     "execution_count": 15,
     "metadata": {},
     "output_type": "execute_result"
    }
   ],
   "source": [
    "taxi_trips_test[\"TRIP_LAT_UNIQUE\"].mean()"
   ]
  },
  {
   "cell_type": "code",
   "execution_count": 16,
   "metadata": {
    "collapsed": false
   },
   "outputs": [
    {
     "data": {
      "text/plain": "15.99086"
     },
     "execution_count": 16,
     "metadata": {},
     "output_type": "execute_result"
    }
   ],
   "source": [
    "taxi_trips[\"TRIP_LAT_UNIQUE\"].mean()"
   ]
  },
  {
   "cell_type": "code",
   "execution_count": 17,
   "metadata": {
    "collapsed": false,
    "scrolled": true
   },
   "outputs": [
    {
     "data": {
      "text/plain": "3.29375"
     },
     "execution_count": 17,
     "metadata": {},
     "output_type": "execute_result"
    }
   ],
   "source": [
    "taxi_trips_test[\"TRIP_LNG_UNIQUE\"].mean()"
   ]
  },
  {
   "cell_type": "code",
   "execution_count": 18,
   "metadata": {
    "collapsed": false
   },
   "outputs": [
    {
     "data": {
      "text/plain": "4.0955"
     },
     "execution_count": 18,
     "metadata": {},
     "output_type": "execute_result"
    }
   ],
   "source": [
    "taxi_trips[\"TRIP_LNG_UNIQUE\"].mean()"
   ]
  },
  {
   "cell_type": "markdown",
   "metadata": {},
   "source": [
    "# Location information: Porto, Portugal"
   ]
  },
  {
   "cell_type": "code",
   "execution_count": 19,
   "metadata": {
    "collapsed": false
   },
   "outputs": [
    {
     "data": {
      "text/plain": "<matplotlib.collections.PathCollection at 0x7f9aa5a949d0>"
     },
     "execution_count": 19,
     "metadata": {},
     "output_type": "execute_result"
    },
    {
     "data": {
      "image/png": "[encoded data removed]",
      "text/plain": "<matplotlib.figure.Figure at 0x7f9aa6405790>"
     },
     "metadata": {},
     "output_type": "display_data"
    }
   ],
   "source": [
    "taxi_trips_head = taxi_trips#.head(10000)\n",
    "plt.scatter(taxi_trips_head[\"DESTINATION_LNG\"], taxi_trips_head[\"DESTINATION_LAT\"],c=\"b\",alpha=0.6)\n",
    "plt.scatter(taxi_trips_test[\"DESTINATION_LNG\"], taxi_trips_test[\"DESTINATION_LAT\"],c=\"r\",alpha=0.6)"
   ]
  },
  {
   "cell_type": "code",
   "execution_count": 20,
   "metadata": {
    "collapsed": false
   },
   "outputs": [
    {
     "data": {
      "text/plain": "<matplotlib.collections.PathCollection at 0x7f9aa59d4550>"
     },
     "execution_count": 20,
     "metadata": {},
     "output_type": "execute_result"
    },
    {
     "data": {
      "image/png": "[encoded data removed]",
      "text/plain": "<matplotlib.figure.Figure at 0x7f9aa6324350>"
     },
     "metadata": {},
     "output_type": "display_data"
    }
   ],
   "source": [
    "plt.scatter(taxi_trips_head[\"DESTINATION_LNG_FULL\"], taxi_trips_head[\"DESTINATION_LAT_FULL\"],c=\"b\",alpha=0.6)\n",
    "plt.scatter(taxi_trips_test[\"DESTINATION_LNG_FULL\"], taxi_trips_test[\"DESTINATION_LAT_FULL\"],c=\"r\",alpha=0.6)"
   ]
  },
  {
   "cell_type": "code",
   "execution_count": 21,
   "metadata": {
    "collapsed": false
   },
   "outputs": [
    {
     "data": {
      "text/plain": "False    50000\nName: MISSING_DATA, dtype: int64"
     },
     "execution_count": 21,
     "metadata": {},
     "output_type": "execute_result"
    }
   ],
   "source": [
    "taxi_trips[\"MISSING_DATA\"].value_counts()"
   ]
  },
  {
   "cell_type": "markdown",
   "metadata": {
    "collapsed": true
   },
   "source": [
    "taxi_trips[\"POLYLINE\"] = taxi_trips[\"POLYLINE\"].apply(lambda x: eval(x))"
   ]
  },
  {
   "cell_type": "markdown",
   "metadata": {
    "collapsed": false
   },
   "source": [
    "taxi_trips[\"POLYLINE_SIZE\"] = taxi_trips[\"POLYLINE\"].apply(lambda x: len(x))"
   ]
  },
  {
   "cell_type": "markdown",
   "metadata": {
    "collapsed": false,
    "scrolled": true
   },
   "source": [
    "Chart(taxi_trips).mark_point().encode(\n",
    "    x='DAY_OF_WEEK',\n",
    "    y='TIME_OF_DAY',\n",
    "    size='mean(POLYLINE_SIZE)',\n",
    "    color='mean(POLYLINE_SIZE)'\n",
    ")"
   ]
  },
  {
   "cell_type": "markdown",
   "metadata": {
    "collapsed": false,
    "scrolled": true
   },
   "source": [
    "Chart(taxi_trips).mark_point().encode(\n",
    "    x='DAY_OF_WEEK',\n",
    "    y='TIME_OF_DAY',\n",
    "    size='mean(POLYLINE_SIZE)',\n",
    "    color='mean(POLYLINE_SIZE)'\n",
    ")"
   ]
  },
  {
   "cell_type": "markdown",
   "metadata": {
    "collapsed": false,
    "scrolled": true
   },
   "source": [
    "Chart(taxi_trips).mark_point().encode(\n",
    "    x='DAY_TYPE',\n",
    "    y='TIME_OF_DAY',\n",
    "    size='mean(POLYLINE_SIZE)',\n",
    "    color='mean(POLYLINE_SIZE)'\n",
    ")"
   ]
  },
  {
   "cell_type": "markdown",
   "metadata": {},
   "source": [
    "#### Unique locations"
   ]
  },
  {
   "cell_type": "markdown",
   "metadata": {
    "collapsed": true
   },
   "source": [
    "gps_locs = {}\n",
    "for i in xrange(len(taxi_trips)):\n",
    "    for loc in set(taxi_trips.ix[i][\"POLYLINE\"]):\n",
    "        if not loc in gps_locs:\n",
    "            gps_locs[loc] = 0\n",
    "        gps_locs[loc] += 1"
   ]
  },
  {
   "cell_type": "markdown",
   "metadata": {
    "collapsed": false
   },
   "source": [
    "len(gps_locs)"
   ]
  }
 ],
 "metadata": {
  "anaconda-cloud": {},
  "kernelspec": {
   "display_name": "Python [conda env:dm-env]",
   "language": "python",
   "name": "conda-env-dm-env-py"
  },
  "language_info": {
   "codemirror_mode": {
    "name": "ipython",
    "version": 2
   },
   "file_extension": ".py",
   "mimetype": "text/x-python",
   "name": "python",
   "nbconvert_exporter": "python",
   "pygments_lexer": "ipython2",
   "version": "2.7.12"
  }
 },
 "nbformat": 4,
 "nbformat_minor": 1
}