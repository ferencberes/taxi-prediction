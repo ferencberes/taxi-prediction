{
 "cells": [
  {
   "cell_type": "code",
   "execution_count": 1,
   "metadata": {
    "collapsed": false
   },
   "outputs": [],
   "source": [
    "import pandas as pd"
   ]
  },
  {
   "cell_type": "code",
   "execution_count": 2,
   "metadata": {
    "collapsed": false
   },
   "outputs": [],
   "source": [
    "import sys\n",
    "sys.path.insert(0,\"../python/\")\n",
    "import modeling_utils as mu"
   ]
  },
  {
   "cell_type": "code",
   "execution_count": 3,
   "metadata": {
    "collapsed": false
   },
   "outputs": [
    {
     "name": "stdout",
     "output_type": "stream",
     "text": [
      "Default parameters:\n{u'data_folder': u'/home/fberes/DATA/taxi-challange/', u'gbt_use_exact_lat': False, u'lng_digits': 2, u'lat_digits': 3, u'is_test': False, u'part': u'_50000', u'gbt_use_exact_lng': False}\nCustom parameters:\n{u'depth': 5, u'export_prediction': True, u'num_trees': 40}\n"
     ]
    }
   ],
   "source": [
    "import operator\n",
    "from datawand.parametrization import ParamHelper\n",
    "ph = ParamHelper(\"../pipelines/EcmlTaxi.json\",sys.argv)"
   ]
  },
  {
   "cell_type": "code",
   "execution_count": 4,
   "metadata": {
    "collapsed": false
   },
   "outputs": [
    {
     "name": "stdout",
     "output_type": "stream",
     "text": [
      "Using default parameter: data_folder=/home/fberes/DATA/taxi-challange/\nUsing default parameter: part=_50000\nUsing default parameter: lat_digits=3\nUsing default parameter: lng_digits=2\n"
     ]
    }
   ],
   "source": [
    "data_folder = ph.get(\"data_folder\")\n",
    "part = ph.get(\"part\")\n",
    "lat_digits = ph.get(\"lat_digits\")\n",
    "lng_digits = ph.get(\"lng_digits\")"
   ]
  },
  {
   "cell_type": "markdown",
   "metadata": {},
   "source": [
    "# Load data with generated features"
   ]
  },
  {
   "cell_type": "code",
   "execution_count": 5,
   "metadata": {
    "collapsed": false
   },
   "outputs": [],
   "source": [
    "taxi_trips = pd.read_csv(\"%s/gen_train%s_lng%i_lat%i.csv\" % (data_folder, part, lng_digits, lat_digits))"
   ]
  },
  {
   "cell_type": "code",
   "execution_count": 6,
   "metadata": {
    "collapsed": false
   },
   "outputs": [],
   "source": [
    "taxi_trips_TEST = pd.read_csv(\"%s/gen_test_lng%i_lat%i.csv\" % (data_folder, lng_digits, lat_digits))"
   ]
  },
  {
   "cell_type": "markdown",
   "metadata": {},
   "source": [
    "### Exclude some features\n",
    "\n",
    "   * the complete route information (leaving only aggregation based features)\n",
    "   * precise time information is not needed either"
   ]
  },
  {
   "cell_type": "code",
   "execution_count": 7,
   "metadata": {
    "collapsed": true
   },
   "outputs": [],
   "source": [
    "def remove_features_from_data(df):\n",
    "    if \"POLYLINE\" in df.columns:\n",
    "        del df[\"POLYLINE\"]\n",
    "    if \"TRIP_LAT\" in df.columns:\n",
    "        del df[\"TRIP_LAT\"]\n",
    "    if \"TRIP_LNG\" in df.columns:\n",
    "        del df[\"TRIP_LNG\"]\n",
    "    if \"TRIP_ID\" in df.columns:\n",
    "        del df[\"TRIP_ID\"]\n",
    "    if \"DATE\" in df.columns:\n",
    "        del df[\"DATE\"]\n",
    "    if \"TIME\" in df.columns:\n",
    "        del df[\"TIME\"]\n",
    "    if \"TIMESTAMP\" in df.columns:\n",
    "        del df[\"TIMESTAMP\"]"
   ]
  },
  {
   "cell_type": "code",
   "execution_count": 8,
   "metadata": {
    "collapsed": true
   },
   "outputs": [],
   "source": [
    "remove_features_from_data(taxi_trips)\n",
    "remove_features_from_data(taxi_trips_TEST)"
   ]
  },
  {
   "cell_type": "markdown",
   "metadata": {},
   "source": [
    "### Replace missing data with mean"
   ]
  },
  {
   "cell_type": "code",
   "execution_count": 9,
   "metadata": {
    "collapsed": true
   },
   "outputs": [],
   "source": [
    "def fillna_with_mean(df):\n",
    "    col_means = df.mean()\n",
    "    return df.fillna(col_means,axis=0)"
   ]
  },
  {
   "cell_type": "code",
   "execution_count": 10,
   "metadata": {
    "collapsed": true
   },
   "outputs": [],
   "source": [
    "taxi_trips = fillna_with_mean(taxi_trips)\n",
    "taxi_trips_TEST = fillna_with_mean(taxi_trips_TEST)"
   ]
  },
  {
   "cell_type": "code",
   "execution_count": 11,
   "metadata": {
    "collapsed": false
   },
   "outputs": [
    {
     "data": {
      "text/plain": "Index([u'CALL_TYPE', u'ORIGIN_CALL', u'ORIGIN_STAND', u'TAXI_ID', u'DAY_TYPE',\n       u'MISSING_DATA', u'DESTINATION_LAT_FULL', u'DESTINATION_LNG_FULL',\n       u'DESTINATION_LAT', u'DESTINATION_LNG', u'DEPARTURE_LAT_FULL',\n       u'DEPARTURE_LNG_FULL', u'DEPARTURE_LAT', u'DEPARTURE_LNG', u'TRIP_SIZE',\n       u'TRIP_LAT_UNIQUE', u'TRIP_LAT_UNIQUE_RATIO', u'TRIP_LNG_UNIQUE',\n       u'TRIP_LNG_UNIQUE_RATIO', u'TRIP_LAT_MIN', u'TRIP_LAT_MAX',\n       u'TRIP_LAT_MEAN', u'TRIP_LAT_MEDIAN', u'TRIP_LAT_STD', u'TRIP_LNG_MIN',\n       u'TRIP_LNG_MAX', u'TRIP_LNG_MEAN', u'TRIP_LNG_MEDIAN', u'TRIP_LNG_STD',\n       u'TRIP_LAT_MIN_DIFF', u'TRIP_LNG_MIN_DIFF', u'TRIP_LAT_MAX_DIFF',\n       u'TRIP_LNG_MAX_DIFF', u'TRIP_LAT_MEAN_DIFF', u'TRIP_LNG_MEAN_DIFF',\n       u'TRIP_LAT_MEDIAN_DIFF', u'TRIP_LNG_MEDIAN_DIFF', u'DAY_OF_WEEK',\n       u'TIME_OF_DAY', u'CALL_TYPE_onehot_dispatch',\n       u'CALL_TYPE_onehot_driver', u'CALL_TYPE_onehot_other'],\n      dtype='object')"
     },
     "execution_count": 11,
     "metadata": {},
     "output_type": "execute_result"
    }
   ],
   "source": [
    "taxi_trips.columns"
   ]
  },
  {
   "cell_type": "markdown",
   "metadata": {},
   "source": [
    "# Select features for models"
   ]
  },
  {
   "cell_type": "code",
   "execution_count": 12,
   "metadata": {
    "collapsed": true
   },
   "outputs": [],
   "source": [
    "from sklearn.ensemble import GradientBoostingRegressor"
   ]
  },
  {
   "cell_type": "code",
   "execution_count": 13,
   "metadata": {
    "collapsed": true
   },
   "outputs": [],
   "source": [
    "#base_features = ['CALL_TYPE','ORIGIN_CALL','ORIGIN_STAND','TAXI_ID','DAY_TYPE','DAY_OF_WEEK','TIME_OF_DAY','TRIP_SIZE']\n",
    "base_features = ['DAY_OF_WEEK','TIME_OF_DAY','TRIP_SIZE']"
   ]
  },
  {
   "cell_type": "code",
   "execution_count": 14,
   "metadata": {
    "collapsed": false
   },
   "outputs": [
    {
     "name": "stdout",
     "output_type": "stream",
     "text": [
      "['DEPARTURE_LAT_FULL', 'DEPARTURE_LAT', 'TRIP_SIZE', 'TRIP_LAT_UNIQUE', 'TRIP_LAT_UNIQUE_RATIO', 'TRIP_LAT_MIN', 'TRIP_LAT_MAX', 'TRIP_LAT_MEAN', 'TRIP_LAT_MEDIAN', 'TRIP_LAT_STD', 'TRIP_LAT_MIN_DIFF', 'TRIP_LAT_MAX_DIFF', 'TRIP_LAT_MEAN_DIFF', 'TRIP_LAT_MEDIAN_DIFF', 'DAY_OF_WEEK', 'TIME_OF_DAY']\n['DEPARTURE_LNG_FULL', 'DEPARTURE_LNG', 'TRIP_SIZE', 'TRIP_LNG_UNIQUE', 'TRIP_LNG_UNIQUE_RATIO', 'TRIP_LNG_MIN', 'TRIP_LNG_MAX', 'TRIP_LNG_MEAN', 'TRIP_LNG_MEDIAN', 'TRIP_LNG_STD', 'TRIP_LNG_MIN_DIFF', 'TRIP_LNG_MAX_DIFF', 'TRIP_LNG_MEAN_DIFF', 'TRIP_LNG_MEDIAN_DIFF', 'DAY_OF_WEEK', 'TIME_OF_DAY']\n"
     ]
    }
   ],
   "source": [
    "lat_features, lng_features = [], []\n",
    "\n",
    "for feat in taxi_trips.columns:\n",
    "    if feat in base_features:\n",
    "        lat_features.append(feat)\n",
    "        lng_features.append(feat)\n",
    "    else:\n",
    "        if \"LAT\" in feat and feat != \"DESTINATION_LAT\" and feat != \"DESTINATION_LAT_FULL\":\n",
    "            lat_features.append(feat)\n",
    "        elif \"LNG\" in feat and feat != \"DESTINATION_LNG\" and feat != \"DESTINATION_LNG_FULL\":\n",
    "            lng_features.append(feat)\n",
    "            \n",
    "print lat_features\n",
    "print lng_features"
   ]
  },
  {
   "cell_type": "code",
   "execution_count": 15,
   "metadata": {
    "collapsed": true
   },
   "outputs": [],
   "source": [
    "if \"DEPARTURE_LAT_FULL\" in lat_features:\n",
    "    lat_features.remove(\"DEPARTURE_LAT_FULL\")\n",
    "if \"DEPARTURE_LNG_FULL\" in lng_features:\n",
    "    lng_features.remove(\"DEPARTURE_LNG_FULL\")"
   ]
  },
  {
   "cell_type": "code",
   "execution_count": 16,
   "metadata": {
    "collapsed": false
   },
   "outputs": [],
   "source": [
    "num_trees = ph.get(\"num_trees\")\n",
    "depth = ph.get(\"depth\")"
   ]
  },
  {
   "cell_type": "markdown",
   "metadata": {},
   "source": [
    "## Train latitude learner"
   ]
  },
  {
   "cell_type": "code",
   "execution_count": 17,
   "metadata": {
    "collapsed": false
   },
   "outputs": [
    {
     "name": "stdout",
     "output_type": "stream",
     "text": [
      "Using default parameter: gbt_use_exact_lat=False\n"
     ]
    }
   ],
   "source": [
    "lat_clf = GradientBoostingRegressor(n_estimators=num_trees,max_depth=depth)\n",
    "if ph.get(\"gbt_use_exact_lat\"):\n",
    "    lat_clf.fit(taxi_trips[lat_features],taxi_trips[\"DESTINATION_LAT_FULL\"])\n",
    "else:\n",
    "    lat_clf.fit(taxi_trips[lat_features],taxi_trips[\"DESTINATION_LAT\"])"
   ]
  },
  {
   "cell_type": "code",
   "execution_count": 18,
   "metadata": {
    "collapsed": false
   },
   "outputs": [
    {
     "data": {
      "text/html": "<div>\n<table border=\"1\" class=\"dataframe\">\n  <thead>\n    <tr style=\"text-align: right;\">\n      <th></th>\n      <th>name</th>\n      <th>importance</th>\n    </tr>\n  </thead>\n  <tbody>\n    <tr>\n      <th>0</th>\n      <td>TRIP_LAT_MIN</td>\n      <td>0.197597</td>\n    </tr>\n    <tr>\n      <th>1</th>\n      <td>TRIP_LAT_MEAN</td>\n      <td>0.159804</td>\n    </tr>\n    <tr>\n      <th>2</th>\n      <td>TRIP_LAT_MAX</td>\n      <td>0.146109</td>\n    </tr>\n    <tr>\n      <th>3</th>\n      <td>TRIP_LAT_MAX_DIFF</td>\n      <td>0.121821</td>\n    </tr>\n    <tr>\n      <th>4</th>\n      <td>DEPARTURE_LAT</td>\n      <td>0.089490</td>\n    </tr>\n    <tr>\n      <th>5</th>\n      <td>TRIP_LAT_MIN_DIFF</td>\n      <td>0.075511</td>\n    </tr>\n    <tr>\n      <th>6</th>\n      <td>TRIP_LAT_STD</td>\n      <td>0.045191</td>\n    </tr>\n    <tr>\n      <th>7</th>\n      <td>TRIP_LAT_MEDIAN</td>\n      <td>0.037422</td>\n    </tr>\n    <tr>\n      <th>8</th>\n      <td>TRIP_LAT_UNIQUE</td>\n      <td>0.033655</td>\n    </tr>\n    <tr>\n      <th>9</th>\n      <td>TRIP_LAT_UNIQUE_RATIO</td>\n      <td>0.033586</td>\n    </tr>\n    <tr>\n      <th>10</th>\n      <td>TRIP_SIZE</td>\n      <td>0.026932</td>\n    </tr>\n    <tr>\n      <th>11</th>\n      <td>TRIP_LAT_MEDIAN_DIFF</td>\n      <td>0.015142</td>\n    </tr>\n    <tr>\n      <th>12</th>\n      <td>TRIP_LAT_MEAN_DIFF</td>\n      <td>0.012043</td>\n    </tr>\n    <tr>\n      <th>13</th>\n      <td>DAY_OF_WEEK</td>\n      <td>0.004433</td>\n    </tr>\n    <tr>\n      <th>14</th>\n      <td>TIME_OF_DAY</td>\n      <td>0.001264</td>\n    </tr>\n  </tbody>\n</table>\n</div>",
      "text/plain": "                     name  importance\n0            TRIP_LAT_MIN    0.197597\n1           TRIP_LAT_MEAN    0.159804\n2            TRIP_LAT_MAX    0.146109\n3       TRIP_LAT_MAX_DIFF    0.121821\n4           DEPARTURE_LAT    0.089490\n5       TRIP_LAT_MIN_DIFF    0.075511\n6            TRIP_LAT_STD    0.045191\n7         TRIP_LAT_MEDIAN    0.037422\n8         TRIP_LAT_UNIQUE    0.033655\n9   TRIP_LAT_UNIQUE_RATIO    0.033586\n10              TRIP_SIZE    0.026932\n11   TRIP_LAT_MEDIAN_DIFF    0.015142\n12     TRIP_LAT_MEAN_DIFF    0.012043\n13            DAY_OF_WEEK    0.004433\n14            TIME_OF_DAY    0.001264"
     },
     "execution_count": 18,
     "metadata": {},
     "output_type": "execute_result"
    }
   ],
   "source": [
    "lat_importances = dict(zip(lat_features,lat_clf.feature_importances_))\n",
    "pd.DataFrame(sorted(lat_importances.items(), key=operator.itemgetter(1),reverse=True),columns=[\"name\",\"importance\"])"
   ]
  },
  {
   "cell_type": "markdown",
   "metadata": {},
   "source": [
    "## Train longitude learner"
   ]
  },
  {
   "cell_type": "code",
   "execution_count": 19,
   "metadata": {
    "collapsed": false
   },
   "outputs": [
    {
     "name": "stdout",
     "output_type": "stream",
     "text": [
      "Using default parameter: gbt_use_exact_lng=False\n"
     ]
    }
   ],
   "source": [
    "lng_clf = GradientBoostingRegressor(n_estimators=num_trees,max_depth=depth)\n",
    "if ph.get(\"gbt_use_exact_lng\"):\n",
    "    lng_clf.fit(taxi_trips[lng_features],taxi_trips[\"DESTINATION_LNG_FULL\"])\n",
    "else:\n",
    "    lng_clf.fit(taxi_trips[lng_features],taxi_trips[\"DESTINATION_LNG\"])"
   ]
  },
  {
   "cell_type": "code",
   "execution_count": 20,
   "metadata": {
    "collapsed": false
   },
   "outputs": [
    {
     "data": {
      "text/html": "<div>\n<table border=\"1\" class=\"dataframe\">\n  <thead>\n    <tr style=\"text-align: right;\">\n      <th></th>\n      <th>name</th>\n      <th>importance</th>\n    </tr>\n  </thead>\n  <tbody>\n    <tr>\n      <th>0</th>\n      <td>TRIP_LNG_MEAN</td>\n      <td>0.352347</td>\n    </tr>\n    <tr>\n      <th>1</th>\n      <td>TRIP_LNG_MAX</td>\n      <td>0.113811</td>\n    </tr>\n    <tr>\n      <th>2</th>\n      <td>TRIP_LNG_MIN_DIFF</td>\n      <td>0.098697</td>\n    </tr>\n    <tr>\n      <th>3</th>\n      <td>TRIP_LNG_MAX_DIFF</td>\n      <td>0.091751</td>\n    </tr>\n    <tr>\n      <th>4</th>\n      <td>TRIP_LNG_MIN</td>\n      <td>0.075198</td>\n    </tr>\n    <tr>\n      <th>5</th>\n      <td>DEPARTURE_LNG</td>\n      <td>0.053010</td>\n    </tr>\n    <tr>\n      <th>6</th>\n      <td>TRIP_LNG_UNIQUE_RATIO</td>\n      <td>0.052352</td>\n    </tr>\n    <tr>\n      <th>7</th>\n      <td>TRIP_LNG_UNIQUE</td>\n      <td>0.047180</td>\n    </tr>\n    <tr>\n      <th>8</th>\n      <td>TRIP_SIZE</td>\n      <td>0.044440</td>\n    </tr>\n    <tr>\n      <th>9</th>\n      <td>TRIP_LNG_STD</td>\n      <td>0.024067</td>\n    </tr>\n    <tr>\n      <th>10</th>\n      <td>TRIP_LNG_MEDIAN</td>\n      <td>0.022475</td>\n    </tr>\n    <tr>\n      <th>11</th>\n      <td>TRIP_LNG_MEAN_DIFF</td>\n      <td>0.014699</td>\n    </tr>\n    <tr>\n      <th>12</th>\n      <td>TRIP_LNG_MEDIAN_DIFF</td>\n      <td>0.006757</td>\n    </tr>\n    <tr>\n      <th>13</th>\n      <td>TIME_OF_DAY</td>\n      <td>0.002522</td>\n    </tr>\n    <tr>\n      <th>14</th>\n      <td>DAY_OF_WEEK</td>\n      <td>0.000693</td>\n    </tr>\n  </tbody>\n</table>\n</div>",
      "text/plain": "                     name  importance\n0           TRIP_LNG_MEAN    0.352347\n1            TRIP_LNG_MAX    0.113811\n2       TRIP_LNG_MIN_DIFF    0.098697\n3       TRIP_LNG_MAX_DIFF    0.091751\n4            TRIP_LNG_MIN    0.075198\n5           DEPARTURE_LNG    0.053010\n6   TRIP_LNG_UNIQUE_RATIO    0.052352\n7         TRIP_LNG_UNIQUE    0.047180\n8               TRIP_SIZE    0.044440\n9            TRIP_LNG_STD    0.024067\n10        TRIP_LNG_MEDIAN    0.022475\n11     TRIP_LNG_MEAN_DIFF    0.014699\n12   TRIP_LNG_MEDIAN_DIFF    0.006757\n13            TIME_OF_DAY    0.002522\n14            DAY_OF_WEEK    0.000693"
     },
     "execution_count": 20,
     "metadata": {},
     "output_type": "execute_result"
    }
   ],
   "source": [
    "lng_importances = dict(zip(lng_features,lng_clf.feature_importances_))\n",
    "pd.DataFrame(sorted(lng_importances.items(), key=operator.itemgetter(1),reverse=True),columns=[\"name\",\"importance\"])"
   ]
  },
  {
   "cell_type": "markdown",
   "metadata": {},
   "source": [
    "## Saving feature importances"
   ]
  },
  {
   "cell_type": "code",
   "execution_count": 21,
   "metadata": {
    "collapsed": false
   },
   "outputs": [
    {
     "data": {
      "text/html": "<div>\n<table border=\"1\" class=\"dataframe\">\n  <thead>\n    <tr style=\"text-align: right;\">\n      <th></th>\n      <th>name</th>\n      <th>weight</th>\n    </tr>\n  </thead>\n  <tbody>\n    <tr>\n      <th>17</th>\n      <td>TRIP_LNG_MEAN</td>\n      <td>0.352347</td>\n    </tr>\n    <tr>\n      <th>10</th>\n      <td>TRIP_LAT_MIN</td>\n      <td>0.197597</td>\n    </tr>\n    <tr>\n      <th>6</th>\n      <td>TRIP_LAT_MEAN</td>\n      <td>0.159804</td>\n    </tr>\n    <tr>\n      <th>4</th>\n      <td>TRIP_LAT_MAX</td>\n      <td>0.146109</td>\n    </tr>\n    <tr>\n      <th>5</th>\n      <td>TRIP_LAT_MAX_DIFF</td>\n      <td>0.121821</td>\n    </tr>\n    <tr>\n      <th>15</th>\n      <td>TRIP_LNG_MAX</td>\n      <td>0.113811</td>\n    </tr>\n    <tr>\n      <th>22</th>\n      <td>TRIP_LNG_MIN_DIFF</td>\n      <td>0.098697</td>\n    </tr>\n    <tr>\n      <th>16</th>\n      <td>TRIP_LNG_MAX_DIFF</td>\n      <td>0.091751</td>\n    </tr>\n    <tr>\n      <th>1</th>\n      <td>DEPARTURE_LAT</td>\n      <td>0.089490</td>\n    </tr>\n    <tr>\n      <th>11</th>\n      <td>TRIP_LAT_MIN_DIFF</td>\n      <td>0.075511</td>\n    </tr>\n    <tr>\n      <th>21</th>\n      <td>TRIP_LNG_MIN</td>\n      <td>0.075198</td>\n    </tr>\n    <tr>\n      <th>2</th>\n      <td>DEPARTURE_LNG</td>\n      <td>0.053010</td>\n    </tr>\n    <tr>\n      <th>25</th>\n      <td>TRIP_LNG_UNIQUE_RATIO</td>\n      <td>0.052352</td>\n    </tr>\n    <tr>\n      <th>24</th>\n      <td>TRIP_LNG_UNIQUE</td>\n      <td>0.047180</td>\n    </tr>\n    <tr>\n      <th>12</th>\n      <td>TRIP_LAT_STD</td>\n      <td>0.045191</td>\n    </tr>\n    <tr>\n      <th>8</th>\n      <td>TRIP_LAT_MEDIAN</td>\n      <td>0.037422</td>\n    </tr>\n    <tr>\n      <th>26</th>\n      <td>TRIP_SIZE</td>\n      <td>0.035686</td>\n    </tr>\n    <tr>\n      <th>13</th>\n      <td>TRIP_LAT_UNIQUE</td>\n      <td>0.033655</td>\n    </tr>\n    <tr>\n      <th>14</th>\n      <td>TRIP_LAT_UNIQUE_RATIO</td>\n      <td>0.033586</td>\n    </tr>\n    <tr>\n      <th>23</th>\n      <td>TRIP_LNG_STD</td>\n      <td>0.024067</td>\n    </tr>\n    <tr>\n      <th>19</th>\n      <td>TRIP_LNG_MEDIAN</td>\n      <td>0.022475</td>\n    </tr>\n    <tr>\n      <th>9</th>\n      <td>TRIP_LAT_MEDIAN_DIFF</td>\n      <td>0.015142</td>\n    </tr>\n    <tr>\n      <th>18</th>\n      <td>TRIP_LNG_MEAN_DIFF</td>\n      <td>0.014699</td>\n    </tr>\n    <tr>\n      <th>7</th>\n      <td>TRIP_LAT_MEAN_DIFF</td>\n      <td>0.012043</td>\n    </tr>\n    <tr>\n      <th>20</th>\n      <td>TRIP_LNG_MEDIAN_DIFF</td>\n      <td>0.006757</td>\n    </tr>\n    <tr>\n      <th>0</th>\n      <td>DAY_OF_WEEK</td>\n      <td>0.002563</td>\n    </tr>\n    <tr>\n      <th>3</th>\n      <td>TIME_OF_DAY</td>\n      <td>0.001893</td>\n    </tr>\n  </tbody>\n</table>\n</div>",
      "text/plain": "                     name    weight\n17          TRIP_LNG_MEAN  0.352347\n10           TRIP_LAT_MIN  0.197597\n6           TRIP_LAT_MEAN  0.159804\n4            TRIP_LAT_MAX  0.146109\n5       TRIP_LAT_MAX_DIFF  0.121821\n15           TRIP_LNG_MAX  0.113811\n22      TRIP_LNG_MIN_DIFF  0.098697\n16      TRIP_LNG_MAX_DIFF  0.091751\n1           DEPARTURE_LAT  0.089490\n11      TRIP_LAT_MIN_DIFF  0.075511\n21           TRIP_LNG_MIN  0.075198\n2           DEPARTURE_LNG  0.053010\n25  TRIP_LNG_UNIQUE_RATIO  0.052352\n24        TRIP_LNG_UNIQUE  0.047180\n12           TRIP_LAT_STD  0.045191\n8         TRIP_LAT_MEDIAN  0.037422\n26              TRIP_SIZE  0.035686\n13        TRIP_LAT_UNIQUE  0.033655\n14  TRIP_LAT_UNIQUE_RATIO  0.033586\n23           TRIP_LNG_STD  0.024067\n19        TRIP_LNG_MEDIAN  0.022475\n9    TRIP_LAT_MEDIAN_DIFF  0.015142\n18     TRIP_LNG_MEAN_DIFF  0.014699\n7      TRIP_LAT_MEAN_DIFF  0.012043\n20   TRIP_LNG_MEDIAN_DIFF  0.006757\n0             DAY_OF_WEEK  0.002563\n3             TIME_OF_DAY  0.001893"
     },
     "execution_count": 21,
     "metadata": {},
     "output_type": "execute_result"
    }
   ],
   "source": [
    "lat_imp_df = pd.DataFrame(lat_importances.items(),columns=[\"name\",\"weight\"])\n",
    "lng_imp_df = pd.DataFrame(lng_importances.items(),columns=[\"name\",\"weight\"])\n",
    "imp_df = pd.concat([lat_imp_df,lng_imp_df]).groupby(\"name\").mean()\n",
    "imp_df = pd.DataFrame(imp_df).reset_index()\n",
    "imp_df.sort_values(\"weight\",ascending=False)"
   ]
  },
  {
   "cell_type": "code",
   "execution_count": 22,
   "metadata": {
    "collapsed": false
   },
   "outputs": [],
   "source": [
    "imp_df.to_csv(\"%s/gbt_feature_importances%s_lng%i_lat%i.csv\"  % (data_folder, part, lng_digits, lat_digits),index=False)"
   ]
  },
  {
   "cell_type": "markdown",
   "metadata": {},
   "source": [
    "## Evaluation"
   ]
  },
  {
   "cell_type": "code",
   "execution_count": 23,
   "metadata": {
    "collapsed": true
   },
   "outputs": [],
   "source": [
    "from haversine import haversine"
   ]
  },
  {
   "cell_type": "markdown",
   "metadata": {},
   "source": [
    "#### Using original destination"
   ]
  },
  {
   "cell_type": "code",
   "execution_count": 24,
   "metadata": {
    "collapsed": false
   },
   "outputs": [
    {
     "name": "stdout",
     "output_type": "stream",
     "text": [
      "test: 0.727116, train: 0.675459 (Haversine distance)\n"
     ]
    }
   ],
   "source": [
    "train_haversine, train_pred_df = mu.eval_gbt_models(taxi_trips,lat_clf,lng_clf,lat_features,lng_features)\n",
    "test_haversine, test_pred_df = mu.eval_gbt_models(taxi_trips_TEST,lat_clf,lng_clf,lat_features,lng_features)\n",
    "print \"test: %f, train: %f (Haversine distance)\" % (test_haversine, train_haversine)"
   ]
  },
  {
   "cell_type": "code",
   "execution_count": 25,
   "metadata": {
    "collapsed": false
   },
   "outputs": [
    {
     "name": "stdout",
     "output_type": "stream",
     "text": [
      "Predictions were exported\n"
     ]
    }
   ],
   "source": [
    "if ph.get(\"export_prediction\"):\n",
    "    train_pred_df.to_csv(\"%s/gbt_model_pred_train%s_lng%i_lat%i.csv\"  % (data_folder, part, lng_digits, lat_digits),index=False)\n",
    "    test_pred_df.to_csv(\"%s/gbt_model_pred_test%s_lng%i_lat%i.csv\"  % (data_folder, part, lng_digits, lat_digits) ,index=False)\n",
    "    print(\"Predictions were exported\")"
   ]
  },
  {
   "cell_type": "markdown",
   "metadata": {},
   "source": [
    "#### Using rounded destination"
   ]
  },
  {
   "cell_type": "markdown",
   "metadata": {
    "collapsed": false
   },
   "source": [
    "train_haversine, _ = mu.eval_gbt_models(taxi_trips,lat_clf,lng_clf,lat_features,lng_features,use_original_trg=False)\n",
    "test_haversine, _ = mu.eval_gbt_models(taxi_trips_TEST,lat_clf,lng_clf,lat_features,lng_features,use_original_trg=False)\n",
    "print \"test: %f, train: %f (Haversine distance)\" % (test_haversine, train_haversine)"
   ]
  }
 ],
 "metadata": {
  "anaconda-cloud": {},
  "kernelspec": {
   "display_name": "Python [conda env:dm-env]",
   "language": "python",
   "name": "conda-env-dm-env-py"
  },
  "language_info": {
   "codemirror_mode": {
    "name": "ipython",
    "version": 2
   },
   "file_extension": ".py",
   "mimetype": "text/x-python",
   "name": "python",
   "nbconvert_exporter": "python",
   "pygments_lexer": "ipython2",
   "version": "2.7.12"
  }
 },
 "nbformat": 4,
 "nbformat_minor": 1
}